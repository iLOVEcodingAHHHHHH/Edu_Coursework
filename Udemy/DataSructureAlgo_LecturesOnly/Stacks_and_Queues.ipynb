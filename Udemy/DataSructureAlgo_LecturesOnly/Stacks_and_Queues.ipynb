{
 "cells": [
  {
   "cell_type": "markdown",
   "id": "171c1f11-d312-46ce-bf80-8989d0260ced",
   "metadata": {},
   "source": [
    "# See collections.deque for standard prebuilt doubleylinkedlist"
   ]
  },
  {
   "cell_type": "code",
   "execution_count": 4,
   "id": "6bf30ab8-44f7-4bf8-8f55-7672a4132684",
   "metadata": {},
   "outputs": [],
   "source": [
    "class Node:\n",
    "    def __init__(self, value):\n",
    "        self.next = None\n",
    "        self.prev = None\n",
    "        self.value = value"
   ]
  },
  {
   "cell_type": "code",
   "execution_count": 6,
   "id": "20c8ab8b-e07f-4370-a147-d57919bcea1b",
   "metadata": {},
   "outputs": [],
   "source": [
    "class Stack:\n",
    "    def __init__(self):\n",
    "        self._top = None\n",
    "        self._size = 0\n",
    "        self._max_allowed_size = 10\n",
    "\n",
    "    def push(self, value):\n",
    "        if self._size == self._max_allowed_size:\n",
    "            raise Exception('Stack is full.')\n",
    "        new_node = Node(value)\n",
    "        new_node.next = self._top\n",
    "        self._top = new_node\n",
    "        self._size += 1\n",
    "        return self\n",
    "\n",
    "    def pop(self):\n",
    "        if not self._size:\n",
    "            raise Exception('Stack is empty.')\n",
    "        pop_node = self._top\n",
    "        self._top = pop_node.next\n",
    "        pop_node.next = None\n",
    "        self._size -= 1\n",
    "        return pop_node.value\n",
    "\n",
    "    def peek(self):\n",
    "        if not self._size:\n",
    "            raise Exception('Stack is empty.')\n",
    "        else print(self._top.value)\n",
    "        "
   ]
  },
  {
   "cell_type": "code",
   "execution_count": null,
   "id": "74eaf676-486d-4918-b6d1-a04ef7830ffe",
   "metadata": {},
   "outputs": [],
   "source": [
    "class Queue:\n",
    "    def __init__(self):\n",
    "        self.head = None\n",
    "        self.tail = None\n",
    "        self.size = 0\n",
    "\n",
    "    def enqueue(self, value):\n",
    "        new_node = (Node(value))\n",
    "        if self.size == 0:\n",
    "            self.head = self.tail = new_node\n",
    "        else:\n",
    "            self.tail.next = new_node\n",
    "            self.tail = new_node\n",
    "        self.size += 1\n",
    "        return self\n",
    "\n",
    "    def dequeue(self):\n",
    "        if not self.size:\n",
    "            raise Exception('Queue is empty')\n",
    "        dequeue_node = self.head\n",
    "        self.head = dequeue_node.next\n",
    "        dequeue_node.next = None\n",
    "        self.size -= 1\n",
    "        if not self.size:\n",
    "            self.tail = None\n",
    "        return dequeue_node.value\n",
    "\n",
    "    def __len__(self):\n",
    "        return self.size\n",
    "\n",
    "    def clear(self):\n",
    "        self.head = self.tail = None\n",
    "        self.size = 0\n",
    "\n",
    "    def peek(self):\n",
    "        if not self.size:\n",
    "            return None\n",
    "        else:\n",
    "            return self.head.value"
   ]
  }
 ],
 "metadata": {
  "kernelspec": {
   "display_name": "Python 3 (ipykernel)",
   "language": "python",
   "name": "python3"
  },
  "language_info": {
   "codemirror_mode": {
    "name": "ipython",
    "version": 3
   },
   "file_extension": ".py",
   "mimetype": "text/x-python",
   "name": "python",
   "nbconvert_exporter": "python",
   "pygments_lexer": "ipython3",
   "version": "3.11.7"
  }
 },
 "nbformat": 4,
 "nbformat_minor": 5
}
