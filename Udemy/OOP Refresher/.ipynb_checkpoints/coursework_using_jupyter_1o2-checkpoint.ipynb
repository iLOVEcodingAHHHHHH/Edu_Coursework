{
 "cells": [
  {
   "cell_type": "code",
   "execution_count": 1,
   "id": "0ff1597d-6ee6-4c03-8bdc-4203326d9cd2",
   "metadata": {},
   "outputs": [],
   "source": [
    "c = 3 + 4j"
   ]
  },
  {
   "cell_type": "code",
   "execution_count": 2,
   "id": "69344f77-d8c8-473d-acd8-531734a3756b",
   "metadata": {},
   "outputs": [
    {
     "data": {
      "text/plain": [
       "3.0"
      ]
     },
     "execution_count": 2,
     "metadata": {},
     "output_type": "execute_result"
    }
   ],
   "source": [
    "c.real"
   ]
  },
  {
   "cell_type": "code",
   "execution_count": 3,
   "id": "99b79521-cf3f-4767-9021-6defc80297c9",
   "metadata": {},
   "outputs": [
    {
     "ename": "AttributeError",
     "evalue": "'complex' object has no attribute 'imaginary'",
     "output_type": "error",
     "traceback": [
      "\u001b[1;31m---------------------------------------------------------------------------\u001b[0m",
      "\u001b[1;31mAttributeError\u001b[0m                            Traceback (most recent call last)",
      "Cell \u001b[1;32mIn[3], line 1\u001b[0m\n\u001b[1;32m----> 1\u001b[0m c\u001b[38;5;241m.\u001b[39mimaginary\n",
      "\u001b[1;31mAttributeError\u001b[0m: 'complex' object has no attribute 'imaginary'"
     ]
    }
   ],
   "source": [
    "c.imaginary"
   ]
  },
  {
   "cell_type": "code",
   "execution_count": 4,
   "id": "e8f4b94b-9835-4b71-8b31-ec38ed7e51ba",
   "metadata": {},
   "outputs": [
    {
     "data": {
      "text/plain": [
       "4.0"
      ]
     },
     "execution_count": 4,
     "metadata": {},
     "output_type": "execute_result"
    }
   ],
   "source": [
    "c.imag"
   ]
  },
  {
   "cell_type": "code",
   "execution_count": 5,
   "id": "b1527d47-6917-4862-a40d-9d034ceb400b",
   "metadata": {},
   "outputs": [
    {
     "ename": "NameError",
     "evalue": "name 'real' is not defined",
     "output_type": "error",
     "traceback": [
      "\u001b[1;31m---------------------------------------------------------------------------\u001b[0m",
      "\u001b[1;31mNameError\u001b[0m                                 Traceback (most recent call last)",
      "Cell \u001b[1;32mIn[5], line 1\u001b[0m\n\u001b[1;32m----> 1\u001b[0m c[real]\n",
      "\u001b[1;31mNameError\u001b[0m: name 'real' is not defined"
     ]
    }
   ],
   "source": [
    " c[real]"
   ]
  },
  {
   "cell_type": "code",
   "execution_count": 6,
   "id": "7166af3f-d95c-4040-a917-3f382843e6f6",
   "metadata": {},
   "outputs": [
    {
     "ename": "TypeError",
     "evalue": "'complex' object is not subscriptable",
     "output_type": "error",
     "traceback": [
      "\u001b[1;31m---------------------------------------------------------------------------\u001b[0m",
      "\u001b[1;31mTypeError\u001b[0m                                 Traceback (most recent call last)",
      "Cell \u001b[1;32mIn[6], line 1\u001b[0m\n\u001b[1;32m----> 1\u001b[0m c[\u001b[38;5;124m'\u001b[39m\u001b[38;5;124mreal\u001b[39m\u001b[38;5;124m'\u001b[39m]\n",
      "\u001b[1;31mTypeError\u001b[0m: 'complex' object is not subscriptable"
     ]
    }
   ],
   "source": [
    "c['real']"
   ]
  },
  {
   "cell_type": "code",
   "execution_count": 22,
   "id": "aa7e610f-6613-46f6-a5c3-f0397b611802",
   "metadata": {},
   "outputs": [],
   "source": [
    "class Dog():\n",
    "\n",
    "    def __init__(self, p_age):\n",
    "        self.age = p_age\n",
    "        "
   ]
  },
  {
   "cell_type": "code",
   "execution_count": 20,
   "id": "23475c8e-0cdd-4122-918f-1c7b869c6da7",
   "metadata": {},
   "outputs": [],
   "source": [
    "Fido = Dog(2)"
   ]
  },
  {
   "cell_type": "code",
   "execution_count": 21,
   "id": "12e71b17-b69c-403f-b09f-e33829fc355d",
   "metadata": {},
   "outputs": [
    {
     "data": {
      "text/plain": [
       "2"
      ]
     },
     "execution_count": 21,
     "metadata": {},
     "output_type": "execute_result"
    }
   ],
   "source": [
    "Fido.age"
   ]
  },
  {
   "cell_type": "code",
   "execution_count": 23,
   "id": "a6ca67d8-e156-4360-99ce-c9df6d5ca96b",
   "metadata": {},
   "outputs": [],
   "source": [
    "class Movie:\n",
    "\n",
    "    def __init__(self, title, year, language, rating):\n",
    "        self.title = title\n",
    "        self.year = year\n",
    "        self.language = language\n",
    "        self.rating = rating"
   ]
  },
  {
   "cell_type": "code",
   "execution_count": 27,
   "id": "7d40b89e-804a-413e-894e-668a55ce07c9",
   "metadata": {},
   "outputs": [],
   "source": [
    "my_favorite_movie = Movie(\"Pride and Prejudice\", 2005, \"English\", 4.8)"
   ]
  },
  {
   "cell_type": "code",
   "execution_count": 28,
   "id": "9ab5f466-dc4b-438a-a681-1345212540dc",
   "metadata": {},
   "outputs": [
    {
     "data": {
      "text/plain": [
       "2005"
      ]
     },
     "execution_count": 28,
     "metadata": {},
     "output_type": "execute_result"
    }
   ],
   "source": [
    "my_favorite_movie.year"
   ]
  },
  {
   "cell_type": "code",
   "execution_count": 30,
   "id": "d211386f-f257-4597-9f4a-71da23936cee",
   "metadata": {},
   "outputs": [
    {
     "ename": "SyntaxError",
     "evalue": "non-default argument follows default argument (279066163.py, line 3)",
     "output_type": "error",
     "traceback": [
      "\u001b[1;36m  Cell \u001b[1;32mIn[30], line 3\u001b[1;36m\u001b[0m\n\u001b[1;33m    def __init__(self, radius=3, color):\u001b[0m\n\u001b[1;37m                                 ^\u001b[0m\n\u001b[1;31mSyntaxError\u001b[0m\u001b[1;31m:\u001b[0m non-default argument follows default argument\n"
     ]
    }
   ],
   "source": [
    "class Circle:\n",
    "\n",
    "    def __init__(self, radius=3, color):\n",
    "        self.radius = radius\n",
    "        self.color = color"
   ]
  },
  {
   "cell_type": "markdown",
   "id": "064ac733-2847-43fe-b951-07127a081fbf",
   "metadata": {},
   "source": [
    "parameters with defaults must be defined last because during instance creation the parameters must be in order and this won't allow for a parameter to be skipped"
   ]
  },
  {
   "cell_type": "code",
   "execution_count": 38,
   "id": "9423b8c0-6178-407a-8bc2-47b0cb639660",
   "metadata": {},
   "outputs": [],
   "source": [
    "class Bacterium:\n",
    "\n",
    "    def __init__(self, size, x = 0, y = 0, gp = False, enemy = False): #gp = gram positive\n",
    "        self.size = size\n",
    "        self.x = x\n",
    "        self.y = y\n",
    "        self.gp = gp\n",
    "        self.enemy = enemy"
   ]
  },
  {
   "cell_type": "code",
   "execution_count": 39,
   "id": "c88dbc21-5b71-4033-9cb6-2325c9273897",
   "metadata": {},
   "outputs": [],
   "source": [
    "class Donut:\n",
    "\n",
    "    def __init__(self, flavor, toppings, filling, size):\n",
    "        self.flavor = flavor\n",
    "        self.toppings = toppings\n",
    "        self.filling = filling\n",
    "        self.size = size"
   ]
  },
  {
   "cell_type": "code",
   "execution_count": 40,
   "id": "d049f84f-f7e8-42a0-a972-91b0e7c3333b",
   "metadata": {},
   "outputs": [],
   "source": [
    "class Customer:\n",
    "\n",
    "    def __init__(self, name, age, address, favorite_dessert):\n",
    "        self.name = name\n",
    "        self.age = age\n",
    "        self.address = address\n",
    "        self.favorite_dessert = favorite_dessert"
   ]
  },
  {
   "cell_type": "code",
   "execution_count": 6,
   "id": "8961d948-9ebf-44f2-a072-0d04f24ac3b9",
   "metadata": {},
   "outputs": [],
   "source": [
    "class Cake:\n",
    "\n",
    "    def __init__(self, flavor, price, quality):\n",
    "        self.flavor = flavor\n",
    "        self.price = price\n",
    "        self.quality = quality"
   ]
  },
  {
   "cell_type": "code",
   "execution_count": 13,
   "id": "0b4f6c10-3c16-4de1-a5d0-89065e00f67f",
   "metadata": {},
   "outputs": [],
   "source": [
    "Choc = Cake('Chocolate', 10, 1)"
   ]
  },
  {
   "cell_type": "code",
   "execution_count": 18,
   "id": "c339e29e-e641-48c9-bfbb-69b75feb5ff8",
   "metadata": {},
   "outputs": [
    {
     "ename": "AttributeError",
     "evalue": "'Cake' object has no attribute 'price'",
     "output_type": "error",
     "traceback": [
      "\u001b[1;31m---------------------------------------------------------------------------\u001b[0m",
      "\u001b[1;31mAttributeError\u001b[0m                            Traceback (most recent call last)",
      "Cell \u001b[1;32mIn[18], line 1\u001b[0m\n\u001b[1;32m----> 1\u001b[0m \u001b[38;5;28mprint\u001b[39m(Choc\u001b[38;5;241m.\u001b[39mprice)\n",
      "\u001b[1;31mAttributeError\u001b[0m: 'Cake' object has no attribute 'price'"
     ]
    }
   ],
   "source": [
    "print(Choc.price)"
   ]
  },
  {
   "cell_type": "code",
   "execution_count": 22,
   "id": "e49cedbc-1c51-47e6-b5c3-48a1aa647dad",
   "metadata": {},
   "outputs": [
    {
     "ename": "AttributeError",
     "evalue": "'Cake' object has no attribute 'price'",
     "output_type": "error",
     "traceback": [
      "\u001b[1;31m---------------------------------------------------------------------------\u001b[0m",
      "\u001b[1;31mAttributeError\u001b[0m                            Traceback (most recent call last)",
      "Cell \u001b[1;32mIn[22], line 1\u001b[0m\n\u001b[1;32m----> 1\u001b[0m \u001b[38;5;28mdelattr\u001b[39m(Choc, \u001b[38;5;124m'\u001b[39m\u001b[38;5;124mprice\u001b[39m\u001b[38;5;124m'\u001b[39m)\n\u001b[0;32m      2\u001b[0m \u001b[38;5;28mprint\u001b[39m(Choc\u001b[38;5;241m.\u001b[39mprice)\n",
      "\u001b[1;31mAttributeError\u001b[0m: 'Cake' object has no attribute 'price'"
     ]
    }
   ],
   "source": [
    "delattr(Choc, 'price')\n",
    "print(Choc.price)"
   ]
  },
  {
   "cell_type": "code",
   "execution_count": 19,
   "id": "d032bd25-0062-4962-a935-68b2ddf60e5a",
   "metadata": {},
   "outputs": [],
   "source": [
    "class Dog:\n",
    "\n",
    "    species = \"canus lupus familiarus\"\n",
    "    \n",
    "    def __init__(self, name, age, breed):\n",
    "        self.name = name\n",
    "        self.age = age\n",
    "        self.breed = breed"
   ]
  },
  {
   "cell_type": "code",
   "execution_count": 20,
   "id": "4a678884-6d13-4a0c-81c0-dd8d5fc21b77",
   "metadata": {},
   "outputs": [],
   "source": [
    "class Backpack:\n",
    "\n",
    "    max_items = 10\n",
    "\n",
    "    def __init__(self):\n",
    "        self.items = []"
   ]
  },
  {
   "cell_type": "code",
   "execution_count": 21,
   "id": "9ecf0ef9-b5cf-4f15-9745-7b8cc8469399",
   "metadata": {},
   "outputs": [],
   "source": [
    "class User:\n",
    "    \n",
    "    \n",
    "    num_feet = 4\n",
    "    defualt_language = 'English'\n",
    "    \n",
    "    def __init__(self, x, y, z):\n",
    "        self.x = x\n",
    "        self.y = y\n",
    "        self.z = z\n",
    "        "
   ]
  },
  {
   "cell_type": "code",
   "execution_count": 7,
   "id": "895de824-f919-40bd-a958-ecf4da61725c",
   "metadata": {},
   "outputs": [
    {
     "name": "stdout",
     "output_type": "stream",
     "text": [
      "\n",
      "========= Welcome to our Payroll System =========\n",
      "\n",
      "Jack's salary is: $8833.33\n",
      "Isabel's salary is: $8833.33\n",
      "Nora's salary is: $4666.67\n",
      "\n",
      "The total payroll this month will be: $ 22333.33\n"
     ]
    }
   ],
   "source": [
    "class Programmer:\n",
    "    \n",
    "    salary = 100000\n",
    "    monthly_bonus = 500\n",
    "    \n",
    "    def __init__(self, name, age, address, phone, programming_languages):\n",
    "        self.name = name\n",
    "        self.age = age\n",
    "        self.address = address\n",
    "        self.phone = phone\n",
    "        self.programming_languages = programming_languages\n",
    " \n",
    " \n",
    "class Assistant:\n",
    "    \n",
    "    salary = 50000\n",
    "    monthly_bonus = 500\n",
    "    \n",
    "    def __init__(self, name, age, address, phone, is_bilingual):\n",
    "        self.name = name\n",
    "        self.age = age\n",
    "        self.address = address\n",
    "        self.phone = phone\n",
    "        self.is_bilingual = is_bilingual\n",
    " \n",
    " \n",
    "# Function that prints the monthly salary of each worker\n",
    "# and the total amount that the startup owner has to pay per month.\n",
    "def calculate_payroll(employees):\n",
    " \n",
    "    total = 0\n",
    " \n",
    "    print(\"\\n========= Welcome to our Payroll System =========\\n\")\n",
    " \n",
    "    # Iterate over the list of instances to calculate\n",
    "    # and display the monthly salary of each employee,\n",
    "    # and add the monthly salary to the total for this month.\n",
    "    for employee in employees:\n",
    "        salary = round(employee.salary / 12, 2) + employee.monthly_bonus\n",
    "        print(employee.name.capitalize() + \"'s salary is: $\" + str(salary))\n",
    "        total += salary\n",
    " \n",
    "    # Display the total\n",
    "    print(\"\\nThe total payroll this month will be: $\", total)\n",
    " \n",
    "# Instances (employees)\n",
    "jack = Programmer(\"Jack\", 45, \"5th Avenue\", \"555-563-345\", [\"Python\", \"Java\"])\n",
    "isabel = Programmer(\"Isabel\", 25, \"6th Avenue\", \"234-245-853\", [\"JavaScript\"])\n",
    "nora = Assistant(\"Nora\", 23, \"7th Avenue\", \"562-577-333\", True)\n",
    " \n",
    "# List of instances\n",
    "employees = [jack, isabel, nora]\n",
    " \n",
    "# Function call (Passing the list of instances as argument)\n",
    "calculate_payroll(employees)\n"
   ]
  },
  {
   "cell_type": "markdown",
   "id": "495f25e0-7620-4778-93eb-b0affc7a09ee",
   "metadata": {},
   "source": [
    "# Non-public attributes"
   ]
  },
  {
   "cell_type": "markdown",
   "id": "012bf75a-e65c-4185-ad07-618f143c8d1c",
   "metadata": {},
   "source": [
    "generally non-public attributes are named using a _ preceding the name (self._attribute = attribute)    "
   ]
  },
  {
   "cell_type": "code",
   "execution_count": 8,
   "id": "3857ad66-8f81-42fa-a3fa-adce141616da",
   "metadata": {},
   "outputs": [],
   "source": [
    "class Student:\n",
    "\n",
    "    def __init__(self, id, name, age, gpa):\n",
    "        self.id = id\n",
    "        self.name = name\n",
    "        self._age = age\n",
    "        self.gpa = gpa"
   ]
  },
  {
   "cell_type": "code",
   "execution_count": 9,
   "id": "b996e8a2-0994-4a4e-b6bd-40da6f1032be",
   "metadata": {},
   "outputs": [],
   "source": [
    "Nick = Student('abcxyz', 'Nick', 40, 4.0)"
   ]
  },
  {
   "cell_type": "code",
   "execution_count": 10,
   "id": "ee733761-9c56-4193-92cd-4b2e6df21517",
   "metadata": {},
   "outputs": [
    {
     "data": {
      "text/plain": [
       "'abcxyz'"
      ]
     },
     "execution_count": 10,
     "metadata": {},
     "output_type": "execute_result"
    }
   ],
   "source": [
    "Nick.id"
   ]
  },
  {
   "cell_type": "code",
   "execution_count": 11,
   "id": "d331bcbe-0404-499b-a6da-9a3c8df06324",
   "metadata": {},
   "outputs": [
    {
     "ename": "AttributeError",
     "evalue": "'Student' object has no attribute 'age'",
     "output_type": "error",
     "traceback": [
      "\u001b[1;31m---------------------------------------------------------------------------\u001b[0m",
      "\u001b[1;31mAttributeError\u001b[0m                            Traceback (most recent call last)",
      "Cell \u001b[1;32mIn[11], line 1\u001b[0m\n\u001b[1;32m----> 1\u001b[0m Nick\u001b[38;5;241m.\u001b[39mage\n",
      "\u001b[1;31mAttributeError\u001b[0m: 'Student' object has no attribute 'age'"
     ]
    }
   ],
   "source": [
    "Nick.age"
   ]
  },
  {
   "cell_type": "code",
   "execution_count": 13,
   "id": "b38b010d-02c1-49e6-92d9-256a26ec9999",
   "metadata": {},
   "outputs": [
    {
     "data": {
      "text/plain": [
       "40"
      ]
     },
     "execution_count": 13,
     "metadata": {},
     "output_type": "execute_result"
    }
   ],
   "source": [
    "Nick._age"
   ]
  },
  {
   "cell_type": "code",
   "execution_count": 15,
   "id": "8723f5f6-eed4-4f0b-8c80-0cd5c6a866d8",
   "metadata": {},
   "outputs": [],
   "source": [
    "class Movie:\n",
    "\n",
    "    id_counter = 1\n",
    "    \n",
    "    def __init__(self, title, year, language, rating):\n",
    "        self._id = Movie.id_counter\n",
    "        self.title = title\n",
    "        self.year = year\n",
    "        self.language = language\n",
    "        self.rating = rating\n",
    "        \n",
    "        Movie.id_counter += 1"
   ]
  },
  {
   "cell_type": "code",
   "execution_count": 16,
   "id": "e1b40496-1cfc-4d17-af99-1655d6979fa1",
   "metadata": {},
   "outputs": [],
   "source": [
    "my_movie = Movie('Oldboy', 2003, 'Korean', 8.3)"
   ]
  },
  {
   "cell_type": "code",
   "execution_count": 17,
   "id": "2fbfa40e-1f0e-41c0-98b0-578a983b8340",
   "metadata": {},
   "outputs": [
    {
     "data": {
      "text/plain": [
       "1"
      ]
     },
     "execution_count": 17,
     "metadata": {},
     "output_type": "execute_result"
    }
   ],
   "source": [
    "my_movie._id"
   ]
  },
  {
   "cell_type": "code",
   "execution_count": 18,
   "id": "3bb857d2-4faa-494d-a7a0-80f705f6b4e7",
   "metadata": {},
   "outputs": [],
   "source": [
    "your_movie = Movie('Titanic', 1997, 'English', 7.9)"
   ]
  },
  {
   "cell_type": "code",
   "execution_count": 20,
   "id": "8c44a1de-1a1a-46f5-bb23-50a3c77e53ce",
   "metadata": {},
   "outputs": [
    {
     "name": "stdout",
     "output_type": "stream",
     "text": [
      "Titanic\n"
     ]
    }
   ],
   "source": [
    "print(your_movie.title)"
   ]
  },
  {
   "cell_type": "markdown",
   "id": "1fc548f6-654c-4860-bd0f-cdb093a279cf",
   "metadata": {},
   "source": [
    "# Name Mangling (dunder prefix \"oneder dunder!\")"
   ]
  },
  {
   "cell_type": "markdown",
   "id": "c501943b-20b7-4e29-8ed9-6a37c398ea28",
   "metadata": {},
   "source": [
    "__attribute = _class__attribute for references onederscore first, dunder connection"
   ]
  },
  {
   "cell_type": "code",
   "execution_count": 3,
   "id": "f47401ec-dbf7-47a7-8408-004df888e884",
   "metadata": {},
   "outputs": [],
   "source": [
    "class Backpack:\n",
    "\n",
    "    def __init__(self):\n",
    "        self.__items = ['pencils','pens']"
   ]
  },
  {
   "cell_type": "code",
   "execution_count": 4,
   "id": "d21888f7-10f0-4953-ab5d-4d8db1af7ce1",
   "metadata": {},
   "outputs": [],
   "source": [
    "my_backpack = Backpack()"
   ]
  },
  {
   "cell_type": "code",
   "execution_count": 5,
   "id": "fde5822a-964a-40c1-997b-563d8692fe93",
   "metadata": {},
   "outputs": [
    {
     "data": {
      "text/plain": [
       "['pencils', 'pens']"
      ]
     },
     "execution_count": 5,
     "metadata": {},
     "output_type": "execute_result"
    }
   ],
   "source": [
    "my_backpack._Backpack__items"
   ]
  },
  {
   "cell_type": "markdown",
   "id": "f2dd8399-1783-4dfd-81c2-9ad783ae6ade",
   "metadata": {},
   "source": [
    "## Mini-project"
   ]
  },
  {
   "cell_type": "markdown",
   "id": "768a2ebd-33b8-48b9-8242-2b00e65bd992",
   "metadata": {},
   "source": [
    "Welcome to this Mini Project.\n",
    "\n",
    "For this assignment, you will answer the following questions.\n",
    "\n",
    "\n",
    "\n",
    "Questions:\n",
    "\n",
    "Explain why an attribute is never really private in Python. In your explanation, please explain the process of name mangling with an example.\n",
    "\n",
    "Make the following attributes non-public in the Book class:\n",
    "\n",
    "num_pages\n",
    "\n",
    "ISBN\n",
    "\n",
    "publisher\n",
    "\n",
    "\n",
    "\n",
    "class Book:\n",
    " \n",
    "    def __init__(self, title, author, num_pages, ISBN, publisher):\n",
    "        self.title = title\n",
    "        self.author = author\n",
    "        self.num_pages = num_pages\n",
    "        self.ISBN = ISBN\n",
    "        self.publisher = publisher\n",
    "\n",
    "\n",
    "Solution:\n",
    "\n",
    "You can find a sample solution in the \"Instructor example\" tab.\n",
    "\n",
    "\n",
    "\n",
    "Marking your assignment as complete:\n",
    "\n",
    "\"Once you have submitted your assignment, and you have navigated through each section to the 'Give Feedback' page, the assignment will be marked as complete with a gray checkmark.\"— source\n",
    "\n",
    "\n",
    "Questions for this assignment\n",
    "Explain why an attribute is never really private in Python. In your explanation, please explain the process of name mangling with an example.\n",
    "\n",
    "Submit your Book class with the non-public attributes.\n",
    "\n",
    "Please format your code with the < > button."
   ]
  },
  {
   "cell_type": "code",
   "execution_count": 7,
   "id": "2aa5f8c8-2533-47e3-bac8-48488508565c",
   "metadata": {},
   "outputs": [],
   "source": [
    "class Book:\n",
    "\n",
    "    def __init__(self, title, author, num_pages, ISBN, publisher):\n",
    "        self.title = title\n",
    "        self.author = author\n",
    "        self._num_pages = num_pages\n",
    "        self._ISBN = ISBN\n",
    "        self._publisher = publisher\n"
   ]
  },
  {
   "cell_type": "markdown",
   "id": "f7e363a5-0b05-4ef7-9b6b-dc710648ae90",
   "metadata": {},
   "source": [
    "In python all attributes are publicly available using standard naming conventions.  Naming can be adjusted within the code by using a dunder prefix, a method called \"Name Mangling\".  This will give the attribute a new name that includes the class name as a prefix.  This property of the adjusted name prevents clashing names in subclasses, the syntax of the convention is to precede the class name with a single underscore and connect it to the attribute name using double underscores i.e \"_class__attribute\".  I like to call it the \"Oneder Dunder\" naming convention."
   ]
  },
  {
   "cell_type": "markdown",
   "id": "8fb2167d-6e86-4ebb-91f0-52a8ac32ed1c",
   "metadata": {},
   "source": [
    "## Getters and Setters"
   ]
  },
  {
   "cell_type": "code",
   "execution_count": 1,
   "id": "6c584ae6-f535-4a1f-a89b-55c25c8828f9",
   "metadata": {},
   "outputs": [],
   "source": [
    "class Movie:\n",
    "\n",
    "    def __init__(self, title, rating):\n",
    "        self._title = title #getter will be used to access the non-public attr\n",
    "        self.rating = rating\n",
    "\n",
    "    def get_title(self): #format using the word get underscore attr name\n",
    "        return self._title"
   ]
  },
  {
   "cell_type": "code",
   "execution_count": 3,
   "id": "c035bcbe-37d8-48d2-a958-fa2baf973ce9",
   "metadata": {},
   "outputs": [],
   "source": [
    "my_movie = Movie(\"Charlie Brown\", 5)"
   ]
  },
  {
   "cell_type": "code",
   "execution_count": 4,
   "id": "2754fcea-4d82-46ed-8388-30b085527ef5",
   "metadata": {},
   "outputs": [
    {
     "data": {
      "text/plain": [
       "5"
      ]
     },
     "execution_count": 4,
     "metadata": {},
     "output_type": "execute_result"
    }
   ],
   "source": [
    "my_movie.rating"
   ]
  },
  {
   "cell_type": "code",
   "execution_count": 8,
   "id": "d23652a8-44a0-4119-b7c2-ac20a7922411",
   "metadata": {},
   "outputs": [
    {
     "data": {
      "text/plain": [
       "'Charlie Brown'"
      ]
     },
     "execution_count": 8,
     "metadata": {},
     "output_type": "execute_result"
    }
   ],
   "source": [
    "my_movie.get_title() #methods require paranteses"
   ]
  },
  {
   "cell_type": "code",
   "execution_count": 4,
   "id": "5e828c9a-fbbb-44b6-9935-72d78a7c1c63",
   "metadata": {},
   "outputs": [],
   "source": [
    "class Dog:\n",
    "\n",
    "    def __init__(self, name, breed):\n",
    "        self._name = name\n",
    "        self.breed = breed\n",
    "\n",
    "    def get_name(self):\n",
    "        return self._name\n",
    "\n",
    "    def set_name(self, new_name):\n",
    "        if isinstance(new_name, str) and new_name.isalpha(): #The isinstance() function returns True if the specified object is of the specified type, otherwise False.\n",
    "            self._name = new_name\n",
    "        else:\n",
    "            print(\"please enter a valid name\")"
   ]
  },
  {
   "cell_type": "code",
   "execution_count": 6,
   "id": "89410419-b337-49a5-9ac1-7e4bedb259b9",
   "metadata": {},
   "outputs": [],
   "source": [
    "my_dog = Dog('doggo', 'sheppard')"
   ]
  },
  {
   "cell_type": "code",
   "execution_count": 9,
   "id": "7bcda507-61b4-4851-9e05-9ca23af0e0ef",
   "metadata": {},
   "outputs": [],
   "source": [
    "my_dog.set_name('Fido')"
   ]
  },
  {
   "cell_type": "code",
   "execution_count": 10,
   "id": "fe1868bb-abe6-48ee-b364-002de9caf93f",
   "metadata": {},
   "outputs": [
    {
     "data": {
      "text/plain": [
       "'Fido'"
      ]
     },
     "execution_count": 10,
     "metadata": {},
     "output_type": "execute_result"
    }
   ],
   "source": [
    "my_dog._name"
   ]
  },
  {
   "cell_type": "code",
   "execution_count": null,
   "id": "de9b6882-c29c-410f-849f-5d476a51140f",
   "metadata": {},
   "outputs": [],
   "source": []
  }
 ],
 "metadata": {
  "kernelspec": {
   "display_name": "Python 3 (ipykernel)",
   "language": "python",
   "name": "python3"
  },
  "language_info": {
   "codemirror_mode": {
    "name": "ipython",
    "version": 3
   },
   "file_extension": ".py",
   "mimetype": "text/x-python",
   "name": "python",
   "nbconvert_exporter": "python",
   "pygments_lexer": "ipython3",
   "version": "3.11.7"
  }
 },
 "nbformat": 4,
 "nbformat_minor": 5
}
