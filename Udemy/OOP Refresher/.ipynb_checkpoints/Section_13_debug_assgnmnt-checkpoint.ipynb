{
 "cells": [
  {
   "cell_type": "code",
   "execution_count": 17,
   "id": "196d58b2-a4ef-4114-a5cc-d83a69bb1f4c",
   "metadata": {},
   "outputs": [],
   "source": [
    "class Pizza:\n",
    "    \n",
    "    def __init__(self, size, toppings, price, rating):\n",
    "        self.size = size  # \"Small\", \"Medium\", or \"Large\"\n",
    "        self.toppings = toppings  # A list of toppings\n",
    "        self.price = price\n",
    "        self.rating = rating  # On a scale from 1 to 5\n",
    "\n",
    "# Write your code below:\n",
    "class Margherita(Pizza):\n",
    "    \n",
    "    def __init__(self, size, toppings, price, rating, has_extra_cheese=False):\n",
    "        super().__init__(size, toppings, price, rating)\n",
    "        self.has_extra_cheese=has_extra_cheese\n",
    "\n",
    "\n",
    "class Marinara(Pizza):\n",
    "\n",
    "    def __init__(self, size, toppings, price, rating, has_extra_oregano=False):\n",
    "        super().__init__(size, toppings, price, rating)\n",
    "        self.has_extra_oregano = has_extra_oregano"
   ]
  },
  {
   "cell_type": "code",
   "execution_count": 32,
   "id": "df3099da-82bf-4bfe-a711-52732b40e900",
   "metadata": {},
   "outputs": [],
   "source": [
    "my_pizza = Margherita(False,'large', [], 25, 1)"
   ]
  },
  {
   "cell_type": "code",
   "execution_count": 33,
   "id": "197dad62-15c8-4823-bdf1-5a5f7da5a03e",
   "metadata": {},
   "outputs": [
    {
     "data": {
      "text/plain": [
       "'lg'"
      ]
     },
     "execution_count": 33,
     "metadata": {},
     "output_type": "execute_result"
    }
   ],
   "source": [
    "my_pizza.size"
   ]
  },
  {
   "cell_type": "code",
   "execution_count": 30,
   "id": "ad1374db-3285-4e49-b59d-4cc8039e10d8",
   "metadata": {},
   "outputs": [],
   "source": [
    "class Pizza:\n",
    "    \n",
    "    def __init__(self, size, toppings, price, rating):\n",
    "        self.size = size  # \"Small\", \"Medium\", or \"Large\"\n",
    "        self.toppings = toppings  # A list of toppings\n",
    "        self.price = price\n",
    "        self.rating = rating  # On a scale from 1 to 5\n",
    "\n",
    "# Write your code below:\n",
    "class Margherita(Pizza):\n",
    "    \n",
    "    def __init__(self, has_extra_cheese=False, *args):\n",
    "        super().__init__(*args)\n",
    "        self.has_extra_cheese=has_extra_cheese\n",
    "\n",
    "\n",
    "class Marinara(Pizza):\n",
    "\n",
    "    def __init__(self, size, toppings, price, rating, has_extra_oregano=False):\n",
    "        super().__init__(size, toppings, price, rating)\n",
    "        self.has_extra_oregano=has_extra_oregano"
   ]
  },
  {
   "cell_type": "code",
   "execution_count": null,
   "id": "16716135-c624-426d-95b3-c11c4ffbe6fc",
   "metadata": {},
   "outputs": [],
   "source": []
  },
  {
   "cell_type": "code",
   "execution_count": null,
   "id": "9c1be9f8-8584-4e40-9760-bcde764509b0",
   "metadata": {},
   "outputs": [],
   "source": []
  }
 ],
 "metadata": {
  "kernelspec": {
   "display_name": "Python 3 (ipykernel)",
   "language": "python",
   "name": "python3"
  },
  "language_info": {
   "codemirror_mode": {
    "name": "ipython",
    "version": 3
   },
   "file_extension": ".py",
   "mimetype": "text/x-python",
   "name": "python",
   "nbconvert_exporter": "python",
   "pygments_lexer": "ipython3",
   "version": "3.11.7"
  }
 },
 "nbformat": 4,
 "nbformat_minor": 5
}
