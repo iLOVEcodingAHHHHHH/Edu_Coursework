{
 "cells": [
  {
   "cell_type": "code",
   "execution_count": 15,
   "id": "8eb6b1c3-6e15-4125-8bac-4f43825f03d4",
   "metadata": {},
   "outputs": [],
   "source": [
    "import random\n",
    "\n",
    "class Move:\n",
    "\n",
    "    def __init__(self,value):\n",
    "        self._value = value\n",
    "\n",
    "    @property\n",
    "    def value(self):\n",
    "        return self._value\n",
    "\n",
    "    def is_valid(self):\n",
    "        return 1 <= self._value <= 9\n",
    "\n",
    "    def get_row(self):\n",
    "        return ((self._value - 1) // 3)\n",
    "\n",
    "    def get_column(self):\n",
    "        return (self._value % 3) - 1"
   ]
  },
  {
   "cell_type": "code",
   "execution_count": 16,
   "id": "767c9149-b934-4873-bf0e-a60973f1ca73",
   "metadata": {},
   "outputs": [],
   "source": [
    "class Player():\n",
    "\n",
    "    PLAYER_MARKER = \"X\"\n",
    "    COMPUTER_MARKER = \"O\"\n",
    "\n",
    "    def __init__(self, is_human=True):\n",
    "        self._is_human = is_human\n",
    "\n",
    "        if is_human:\n",
    "            self._marker = Player.PLAYER_MARKER\n",
    "        else:\n",
    "            self._marker = Player.COMPUTER_MARKER\n",
    "\n",
    "    @property\n",
    "    def is_human(self):\n",
    "        return self._is_human\n",
    "\n",
    "    @property\n",
    "    def marker(self):\n",
    "        return self._marker\n",
    "\n",
    "    def get_move(self):\n",
    "        if self._is_human:\n",
    "            return self.get_human_move()\n",
    "        else:\n",
    "            return self.get_computer_move()\n",
    "\n",
    "    def get_human_move(self):\n",
    "        while True:\n",
    "            user_input = int(input(\"Please enter your move: \"))\n",
    "            move = Move(user_input)\n",
    "            if move.is_valid():\n",
    "                break\n",
    "            else:\n",
    "                print(\"Please enter a integer between 1 and 9\")\n",
    "        return move\n",
    "\n",
    "    def get_computer_move(self):\n",
    "        random_choice = random.choice(list(range(1,10)))\n",
    "        move = Move(random_choice)\n",
    "        print(\"Computer move: \", move.value)\n",
    "        return move"
   ]
  },
  {
   "cell_type": "code",
   "execution_count": 17,
   "id": "910587b7-1c6f-4051-9575-32d231072f87",
   "metadata": {},
   "outputs": [],
   "source": [
    "class Board:\n",
    "\n",
    "    EMPTY_CELL = 0\n",
    "    \n",
    "    def __init__(self):\n",
    "        self.game_board = [[0,0,0],[0,0,0],[0,0,0]]\n",
    "\n",
    "    def print_board(self):\n",
    "        print(\"\\nPositions:\")\n",
    "        self.print_board_with_positions()\n",
    "\n",
    "        print(\"Board\")\n",
    "        for row in self.game_board:\n",
    "            print(\"|\",end=\"\")\n",
    "            for column in row:\n",
    "                if column == Board.EMPTY_CELL:\n",
    "                    print(\"   |\", end=\"\")\n",
    "                else:\n",
    "                    print(f\" {column} |\", end=\"\")\n",
    "            print()\n",
    "        print()\n",
    "\n",
    "    def print_board_with_positions(self):\n",
    "        print(\"| 1 | 2 | 3 |\\n| 4 | 5 | 6 |\\n| 7 | 8 | 9 |\")\n",
    "\n",
    "    def submit_move(self, player, move):\n",
    "        row = move.get_row()\n",
    "        col = move.get_column()\n",
    "        value = self.game_board[row][col]\n",
    "\n",
    "        if value == Board.EMPTY_CELL:\n",
    "            self.game_board[row][col] = player.marker\n",
    "        else:\n",
    "            print(\"This position is already taken, YOU LOSE A TURN!!!\")\n",
    "\n",
    "    def check_is_game_over(self, player, last_move):\n",
    "        return ((self.check_row(player, last_move))\n",
    "                or (self.check_column(player, last_move))\n",
    "                or (self.check_diagonal(player))\n",
    "                or (self.check_antidiagonal(player)))\n",
    "\n",
    "    def check_row(self, player, last_move):\n",
    "        row_index = last_move.get_row()\n",
    "        board_row = self.game_board[row_index]\n",
    "\n",
    "        return board_row.count(player.marker) == 3\n",
    "\n",
    "    def check_column(self, player, last_move):\n",
    "        markers_count = 0\n",
    "        column_index\n",
    "        my_list.append(x for x in self.game_board[0:2])\n",
    "                "
   ]
  },
  {
   "cell_type": "code",
   "execution_count": 28,
   "id": "17323dd0-bcdb-4843-bc9a-a7c716427512",
   "metadata": {},
   "outputs": [
    {
     "data": {
      "text/plain": [
       "1"
      ]
     },
     "execution_count": 28,
     "metadata": {},
     "output_type": "execute_result"
    }
   ],
   "source": [
    "board = Board()\n",
    "player = Player()\n",
    "move = Move(4)\n",
    "move.get_row()"
   ]
  },
  {
   "cell_type": "code",
   "execution_count": 27,
   "id": "5f0f3530-c540-4326-9368-98f9f86aeeeb",
   "metadata": {},
   "outputs": [
    {
     "name": "stdout",
     "output_type": "stream",
     "text": [
      "\n",
      "Positions:\n",
      "| 1 | 2 | 3 |\n",
      "| 4 | 5 | 6 |\n",
      "| 7 | 8 | 9 |\n",
      "Board\n",
      "|   |   |   |\n",
      "|   |   |   |\n",
      "|   |   |   |\n",
      "\n",
      "\n",
      "Positions:\n",
      "| 1 | 2 | 3 |\n",
      "| 4 | 5 | 6 |\n",
      "| 7 | 8 | 9 |\n",
      "Board\n",
      "|   |   | X |\n",
      "|   |   |   |\n",
      "|   |   |   |\n",
      "\n"
     ]
    }
   ],
   "source": [
    "board.print_board()\n",
    "board.submit_move(player, move)\n",
    "board.print_board()"
   ]
  },
  {
   "cell_type": "code",
   "execution_count": null,
   "id": "31b0b5ff-a8f5-450e-a537-8f80300923d0",
   "metadata": {},
   "outputs": [],
   "source": []
  },
  {
   "cell_type": "code",
   "execution_count": null,
   "id": "ec41e127-71a7-494c-a2e5-2869c6103644",
   "metadata": {},
   "outputs": [],
   "source": []
  },
  {
   "cell_type": "code",
   "execution_count": null,
   "id": "e58a7992-fe63-4d2a-a62a-2ca20d6889d0",
   "metadata": {},
   "outputs": [],
   "source": []
  },
  {
   "cell_type": "code",
   "execution_count": null,
   "id": "492c11e7-8bb6-4d23-9f3f-753bac80d6db",
   "metadata": {},
   "outputs": [],
   "source": []
  },
  {
   "cell_type": "code",
   "execution_count": 117,
   "id": "2d8c2a73-5c0f-4adc-8ac0-cda7c2ae5563",
   "metadata": {},
   "outputs": [],
   "source": [
    "player = Player()  #human is default"
   ]
  },
  {
   "cell_type": "code",
   "execution_count": 169,
   "id": "95caef38-6365-48bd-a430-ecd8e4aab0f5",
   "metadata": {},
   "outputs": [
    {
     "name": "stdout",
     "output_type": "stream",
     "text": [
      "2\n",
      "Row: 0\n",
      "Column: 1\n"
     ]
    },
    {
     "data": {
      "text/plain": [
       "'X'"
      ]
     },
     "execution_count": 169,
     "metadata": {},
     "output_type": "execute_result"
    }
   ],
   "source": [
    "move = Move(2)\n",
    "print(move.value)\n",
    "move.is_valid()\n",
    "print(f\"Row: {move.get_row()}\")\n",
    "print(f\"Column: {move.get_column()}\")\n",
    "player._marker"
   ]
  },
  {
   "cell_type": "code",
   "execution_count": 126,
   "id": "3eb14846-c3bf-4534-9ab6-518a3d5d7e48",
   "metadata": {},
   "outputs": [
    {
     "name": "stdout",
     "output_type": "stream",
     "text": [
      "True\n",
      "<bound method Player.marker of <__main__.Player object at 0x000001876D4DF010>>\n"
     ]
    }
   ],
   "source": [
    "print(player.is_human)\n",
    "print(player.marker)"
   ]
  },
  {
   "cell_type": "code",
   "execution_count": 127,
   "id": "c98febce-a2dd-401b-b4d2-b5795c68237a",
   "metadata": {},
   "outputs": [
    {
     "name": "stdin",
     "output_type": "stream",
     "text": [
      "Please enter your move:  2\n"
     ]
    },
    {
     "name": "stdout",
     "output_type": "stream",
     "text": [
      "2\n"
     ]
    }
   ],
   "source": [
    "move = player.get_move()\n",
    "print(move.value)"
   ]
  },
  {
   "cell_type": "code",
   "execution_count": 121,
   "id": "63bf53cd-a76d-4479-ac65-e63271f9797e",
   "metadata": {},
   "outputs": [],
   "source": [
    "player2 = Player(False)"
   ]
  },
  {
   "cell_type": "code",
   "execution_count": 128,
   "id": "12cd5189-054d-4f02-993d-7322be1db67e",
   "metadata": {},
   "outputs": [
    {
     "name": "stdout",
     "output_type": "stream",
     "text": [
      "Computer move:  9\n",
      "9\n"
     ]
    }
   ],
   "source": [
    "move = player2.get_move()\n",
    "print(move.value)"
   ]
  },
  {
   "cell_type": "code",
   "execution_count": 129,
   "id": "14a9f82d-1aea-44d6-893c-da004a150f4b",
   "metadata": {},
   "outputs": [
    {
     "name": "stdout",
     "output_type": "stream",
     "text": [
      "<__main__.Move object at 0x000001876CD4CF50>\n"
     ]
    }
   ],
   "source": [
    "print(move)"
   ]
  }
 ],
 "metadata": {
  "kernelspec": {
   "display_name": "Python 3 (ipykernel)",
   "language": "python",
   "name": "python3"
  },
  "language_info": {
   "codemirror_mode": {
    "name": "ipython",
    "version": 3
   },
   "file_extension": ".py",
   "mimetype": "text/x-python",
   "name": "python",
   "nbconvert_exporter": "python",
   "pygments_lexer": "ipython3",
   "version": "3.11.7"
  }
 },
 "nbformat": 4,
 "nbformat_minor": 5
}
