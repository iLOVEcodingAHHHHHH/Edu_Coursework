{
 "cells": [
  {
   "cell_type": "code",
   "execution_count": 11,
   "id": "305c438d-7231-41d3-9cdd-e0f098d03130",
   "metadata": {},
   "outputs": [],
   "source": [
    "class Professor:\n",
    "    \"\"\"Create generic professor object and introduction message.\n",
    "    \n",
    "    Attributes:\n",
    "        name (string): identifies the professor.\n",
    "        age (int): value for professor age.\n",
    "        course (string): identifies the professor's field of study.  This value\n",
    "            can be a simple field of expertise (science, economics, or math) or\n",
    "            serial identification value in more complex situations.\n",
    "\n",
    "    Methods:\n",
    "        greet_students(self):\n",
    "            Print a generic welcome message.\n",
    "    \"\"\"  \n",
    "    def __init__(self, name, age, course):\n",
    "        \"\"\"Initialize instance of Professor.\"\"\"\n",
    "        self.name = name\n",
    "        self.age = int(age)\n",
    "        self.course = course\n",
    "\n",
    "    def greet_students(self):\n",
    "        \"\"\"Print welcome message.\"\"\"\n",
    "        print(\"Welcome to class!\")\n",
    "\n",
    "class ScienceProfessor(Professor):\n",
    "\n",
    "    def __init__(self, *args):\n",
    "        \"\"\"Pass self to base class (Professor) for generic professor details\"\"\" \n",
    "        super().__init__(*args)\n",
    "\n",
    "    def greet_students(self):\n",
    "        \"\"\"Print custom welcome of ScienceProfessor objects.\"\"\"\n",
    "        print(\"Hi everyone! It's a great day to study Science!  Type help(my_professor.atr) to view the docstring\")"
   ]
  },
  {
   "cell_type": "code",
   "execution_count": 12,
   "id": "29736e5f-559f-4ea1-b591-2045d60b2042",
   "metadata": {},
   "outputs": [],
   "source": [
    "science_professor = ScienceProfessor(\"Tom\", 40, \"Science\")"
   ]
  },
  {
   "cell_type": "code",
   "execution_count": 10,
   "id": "af04a102-a854-4329-9302-7b2904b2a533",
   "metadata": {},
   "outputs": [
    {
     "name": "stdout",
     "output_type": "stream",
     "text": [
      "Hi everyone! It's a great day to study Science!\n"
     ]
    }
   ],
   "source": [
    "science_professor.greet_students()"
   ]
  },
  {
   "cell_type": "code",
   "execution_count": 13,
   "id": "b9012aa3-4a1f-416c-a0fd-7c65fa033463",
   "metadata": {},
   "outputs": [
    {
     "name": "stdout",
     "output_type": "stream",
     "text": [
      "Help on ScienceProfessor in module __main__ object:\n",
      "\n",
      "class ScienceProfessor(Professor)\n",
      " |  ScienceProfessor(*args)\n",
      " |  \n",
      " |  Method resolution order:\n",
      " |      ScienceProfessor\n",
      " |      Professor\n",
      " |      builtins.object\n",
      " |  \n",
      " |  Methods defined here:\n",
      " |  \n",
      " |  __init__(self, *args)\n",
      " |      Pass self to base class for generic professor details\n",
      " |  \n",
      " |  greet_students(self)\n",
      " |      Print custom welcome of ScienceProfessor objects.\n",
      " |  \n",
      " |  ----------------------------------------------------------------------\n",
      " |  Data descriptors inherited from Professor:\n",
      " |  \n",
      " |  __dict__\n",
      " |      dictionary for instance variables\n",
      " |  \n",
      " |  __weakref__\n",
      " |      list of weak references to the object\n",
      "\n"
     ]
    }
   ],
   "source": [
    "help(science_professor)"
   ]
  },
  {
   "cell_type": "code",
   "execution_count": null,
   "id": "8767dc53-4fa3-41d7-a398-08c2fdd2bb1b",
   "metadata": {},
   "outputs": [],
   "source": []
  }
 ],
 "metadata": {
  "kernelspec": {
   "display_name": "Python 3 (ipykernel)",
   "language": "python",
   "name": "python3"
  },
  "language_info": {
   "codemirror_mode": {
    "name": "ipython",
    "version": 3
   },
   "file_extension": ".py",
   "mimetype": "text/x-python",
   "name": "python",
   "nbconvert_exporter": "python",
   "pygments_lexer": "ipython3",
   "version": "3.11.7"
  }
 },
 "nbformat": 4,
 "nbformat_minor": 5
}
