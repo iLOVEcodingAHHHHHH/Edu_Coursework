{
 "cells": [
  {
   "cell_type": "code",
   "execution_count": 1,
   "id": "39b27669-d092-47f5-acfc-afeca8f3b2de",
   "metadata": {},
   "outputs": [],
   "source": [
    "def insertion_sort(array):\n",
    "    for i in range(1, len(array)):\n",
    "        j = i\n",
    "        while array[j-1] > array[j] and j > 0:\n",
    "            array[j-1], array[j] = array[j], array[j-1]\n",
    "            j -= 1\n",
    "    return array"
   ]
  },
  {
   "cell_type": "code",
   "execution_count": 2,
   "id": "b19b2b0b-e050-475f-846b-9a7f3514b500",
   "metadata": {},
   "outputs": [],
   "source": [
    "def selection_sort(array):\n",
    "    \n",
    "    for i in range(len(array)):\n",
    "        smallest = i\n",
    "        for j in range(i+1, len(array)):\n",
    "            if array[j] < array[smallest]:\n",
    "                smallest = j\n",
    "            array[i], array[smallest] = array[smallest], array[i]\n",
    "    return array"
   ]
  },
  {
   "cell_type": "code",
   "execution_count": 3,
   "id": "a4e39e4a-b45b-4087-a202-babf461cab65",
   "metadata": {},
   "outputs": [],
   "source": [
    "def bubble_sort(array):\n",
    "    sorted = array[0]\n",
    "    for i in range(len(array) - 1):\n",
    "        has_swapped = False\n",
    "        for j in range(len(array) - 1, i, -1):\n",
    "            if array[i] < array[i-1]:\n",
    "                array[i], array[i-1] = array[i -1], array[i]\n",
    "                has_swapped = True\n",
    "        if not has_swapped:\n",
    "            break\n",
    "    return array"
   ]
  },
  {
   "cell_type": "code",
   "execution_count": null,
   "id": "e4c19770-d657-4d24-a695-772e9fa3592d",
   "metadata": {},
   "outputs": [],
   "source": [
    "def shell_sort(array):\n",
    "    gaps = [5,3,1]\n",
    "    for gap in gaps:\n",
    "        for i in range(gap, len(array)):\n",
    "            j = i - gap\n",
    "            while array[j + gap] < array[j] and j >= 0:\n",
    "                array[j], array[j + gap] = array[j + gap], array[j]\n",
    "                j -= gap\n",
    "            "
   ]
  }
 ],
 "metadata": {
  "kernelspec": {
   "display_name": "Python 3 (ipykernel)",
   "language": "python",
   "name": "python3"
  },
  "language_info": {
   "codemirror_mode": {
    "name": "ipython",
    "version": 3
   },
   "file_extension": ".py",
   "mimetype": "text/x-python",
   "name": "python",
   "nbconvert_exporter": "python",
   "pygments_lexer": "ipython3",
   "version": "3.11.7"
  }
 },
 "nbformat": 4,
 "nbformat_minor": 5
}
