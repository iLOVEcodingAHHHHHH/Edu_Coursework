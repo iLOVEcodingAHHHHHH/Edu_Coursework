{
 "cells": [
  {
   "cell_type": "markdown",
   "id": "0f982e1c",
   "metadata": {},
   "source": [
    "The Steps:\n",
    "\n",
    "Get the dataset (pre-normalized, inputs and labels)\n",
    "\n",
    "Forward pass: input -> function (model) -> output (prediction)\n",
    "\n",
    "Compute the loss\n",
    "\n",
    "Backward pass\n",
    "\n",
    "Update the parameters (weights and biases)"
   ]
  },
  {
   "cell_type": "code",
   "execution_count": 1,
   "id": "a8c6cd1a",
   "metadata": {},
   "outputs": [],
   "source": [
    "from pathlib import Path\n",
    "import requests\n",
    "\n",
    "# get the dataset\n",
    "DATA_PATH = Path('data')\n",
    "PATH = DATA_PATH / 'mnist'\n",
    "PATH.mkdir(parents=True, exist_ok=True)\n",
    "\n",
    "URL = \"https://github.com/mnielsen/neural-networks-and-deep-learning/raw/master/data/\"\n",
    "FILENAME = \"mnist.pkl.gz\"\n",
    "\n",
    "if not (PATH / FILENAME).exists():\n",
    "    content = requests.get(URL + FILENAME).content\n",
    "    (PATH / FILENAME).open('wb').write(content)"
   ]
  },
  {
   "cell_type": "code",
   "execution_count": 2,
   "id": "50b95786",
   "metadata": {},
   "outputs": [
    {
     "name": "stdout",
     "output_type": "stream",
     "text": [
      "(50000, 784)\n"
     ]
    }
   ],
   "source": [
    "import pickle\n",
    "import gzip\n",
    "\n",
    "with gzip.open((PATH / FILENAME).as_posix(), 'rb') as f:\n",
    "    ((x_train, y_train), (x_valid, y_valid), _) = pickle.load(f, encoding='latin-1')\n",
    "\n",
    "print(x_train.shape)"
   ]
  },
  {
   "cell_type": "code",
   "execution_count": 3,
   "id": "0e949891",
   "metadata": {},
   "outputs": [
    {
     "name": "stdout",
     "output_type": "stream",
     "text": [
      "5\n"
     ]
    },
    {
     "data": {
      "image/png": "[encoded data removed]",
      "text/plain": [
       "<Figure size 640x480 with 1 Axes>"
      ]
     },
     "metadata": {},
     "output_type": "display_data"
    }
   ],
   "source": [
    "import matplotlib.pyplot as plt\n",
    "import numpy as np\n",
    "\n",
    "# examine the dataset\n",
    "\n",
    "plt.imshow(x_train[0].reshape((28, 28)), cmap='grey')\n",
    "print(y_train[0])"
   ]
  },
  {
   "cell_type": "markdown",
   "id": "d84cf75b",
   "metadata": {},
   "source": [
    "*pytorch tensors are similar to numpy arrays but with more restrictions that increase performance (numeric)\n",
    "\n",
    "*includes Autograd - automatically compute gradients (derivatives)"
   ]
  },
  {
   "cell_type": "code",
   "execution_count": 4,
   "id": "34467306",
   "metadata": {},
   "outputs": [],
   "source": [
    "import torch\n",
    "\n",
    "x_train, y_train, x_valid, y_valid = map(torch.tensor, (x_train, y_train, x_valid, y_valid))"
   ]
  },
  {
   "cell_type": "code",
   "execution_count": 6,
   "id": "9cd809a7",
   "metadata": {},
   "outputs": [],
   "source": [
    "import math\n",
    "# weights and biases\n",
    "# NN architecture: input -> output\n",
    "# # of neurons in the input layer: 784 (28**2); output layer 10\n",
    "# pytorch transposes tensors, must reverse [w * x + b] -> [x * w + b]\n",
    "\n",
    "torch.manual_seed(0)\n",
    "weights = torch.rand(784, 10) / math.sqrt(784) # Xavier init\n",
    "weights.requires_grad_() # underscore applies function in place\n",
    "biases = torch.zeros(10, requires_grad=True)"
   ]
  },
  {
   "cell_type": "code",
   "execution_count": 7,
   "id": "c33d6a3c",
   "metadata": {},
   "outputs": [],
   "source": [
    "def model(xb): # b for batch\n",
    "    return xb @ weights + biases # '@' matrix multiplication"
   ]
  },
  {
   "cell_type": "code",
   "execution_count": 17,
   "id": "836aedaa",
   "metadata": {},
   "outputs": [],
   "source": [
    "def softmax(z): # p_i = e**z_i/sum(e**z_all)\n",
    "    return z.exp() / z.exp().sum(-1).unsqueeze(-1)\n",
    "# x.exp applies e**x across the entire tensor\n",
    "# x.exp().sum(-1) sums the exponentials accross last dimension (classes)\n",
    "# .unsqueeze adds dimension to 1d array from sum\n",
    "\n",
    "def cross_entropy_loss(pred, targets):\n",
    "    bs, out_features = pred.shape\n",
    "    one_hot_encoded_targets = torch.eye(out_features)[targets]\n",
    "    #cross entropy formula H(p,q) = (Negative, b/c loss) E_x p(x)*log(q,x)/batch size\n",
    "    return -(one_hot_encoded_targets * softmax(pred).log()).sum() / bs"
   ]
  },
  {
   "cell_type": "code",
   "execution_count": 15,
   "id": "bb1230c5",
   "metadata": {},
   "outputs": [],
   "source": [
    "bs = 64 #batch size"
   ]
  },
  {
   "cell_type": "code",
   "execution_count": 14,
   "id": "cc3aca69",
   "metadata": {},
   "outputs": [],
   "source": [
    "def accuracy_func(pred, yb):\n",
    "    pred_class = torch.argmax(pred, dim=1) #max value's index from dimension 1\n",
    "    return (pred_class == yb).float().mean() # tensor output, assume float numerizes bool and then average returns %\n"
   ]
  },
  {
   "cell_type": "code",
   "execution_count": 18,
   "id": "8806b872",
   "metadata": {},
   "outputs": [
    {
     "name": "stdout",
     "output_type": "stream",
     "text": [
      "loss: 2.295827, acc: 10.9%\n",
      "loss: 0.317735, acc: 90.6%\n",
      "loss: 0.300753, acc: 89.1%\n",
      "loss: 0.388501, acc: 92.2%\n",
      "loss: 0.235343, acc: 90.6%\n",
      "loss: 0.380685, acc: 89.1%\n",
      "loss: 0.262406, acc: 89.1%\n",
      "loss: 0.378015, acc: 90.6%\n",
      "loss: 0.279513, acc: 92.2%\n",
      "loss: 0.261760, acc: 92.2%\n",
      "loss: 0.196382, acc: 90.6%\n",
      "loss: 0.342657, acc: 92.2%\n",
      "loss: 0.210061, acc: 93.8%\n",
      "loss: 0.354094, acc: 89.1%\n",
      "loss: 0.225843, acc: 92.2%\n",
      "loss: 0.361857, acc: 89.1%\n"
     ]
    }
   ],
   "source": [
    "learning_rate = 0.5\n",
    "epochs = 2\n",
    "n_data_points = x_train.shape[0] # 50000\n",
    "n_batches = (n_data_points + bs - 1) // bs # ceiling div\n",
    "\n",
    "for epoch in range(epochs):\n",
    "    for i in range(n_batches):\n",
    "        start_i = i*bs\n",
    "        end_i = start_i + bs\n",
    "        xb = x_train[start_i:end_i]\n",
    "        yb = y_train[start_i:end_i]\n",
    "        pred = model(xb)\n",
    "        loss = cross_entropy_loss(pred, yb)\n",
    "        accuracy = accuracy_func(pred, yb)\n",
    "        loss.backward()\n",
    "\n",
    "        with torch.no_grad():\n",
    "            weights -= weights.grad * learning_rate\n",
    "            biases -= biases.grad * learning_rate\n",
    "            weights.grad.zero_()\n",
    "            biases.grad.zero_() #without zeroing, gradients accumulate\n",
    "\n",
    "        if i % 100 == 0:\n",
    "            print(f'loss: {loss.item():6f}, acc: {accuracy.item()*100:0.1f}%')"
   ]
  },
  {
   "cell_type": "markdown",
   "id": "297b9cf2",
   "metadata": {},
   "source": [
    "EUREKA!!, previous file (garbage.ipynb) contains bits of previous code, I let ai chew it up after some errors produced fishy results, could not validate due to errors in source material but will stop here because 10% -> 90% accuracy were the numbers I was aiming for with round 2."
   ]
  },
  {
   "cell_type": "code",
   "execution_count": null,
   "id": "f245405d",
   "metadata": {},
   "outputs": [],
   "source": []
  }
 ],
 "metadata": {
  "kernelspec": {
   "display_name": "DL4begs",
   "language": "python",
   "name": "python3"
  },
  "language_info": {
   "codemirror_mode": {
    "name": "ipython",
    "version": 3
   },
   "file_extension": ".py",
   "mimetype": "text/x-python",
   "name": "python",
   "nbconvert_exporter": "python",
   "pygments_lexer": "ipython3",
   "version": "3.11.13"
  }
 },
 "nbformat": 4,
 "nbformat_minor": 5
}
