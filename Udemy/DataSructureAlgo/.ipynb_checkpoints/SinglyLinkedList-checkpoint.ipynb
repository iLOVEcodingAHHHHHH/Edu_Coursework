{
 "cells": [
  {
   "cell_type": "code",
   "execution_count": 1,
   "id": "9b64d69e-0c0d-432e-9ff8-4bac4ac3991e",
   "metadata": {},
   "outputs": [],
   "source": [
    "class Node:\n",
    "    def __init__(self, value):\n",
    "        self.value = value\n",
    "        self.next = None"
   ]
  },
  {
   "cell_type": "code",
   "execution_count": 78,
   "id": "793e8b47-6083-404e-b183-c5f90068ff8c",
   "metadata": {},
   "outputs": [],
   "source": [
    "class SinglyLinkedList:\n",
    "    \n",
    "    def __init__(self):\n",
    "        self.head = None\n",
    "        self.tail = None\n",
    "        self._length = 0\n",
    "\n",
    "    def len_0_err(self):\n",
    "        if self._length:\n",
    "            pass\n",
    "        else:\n",
    "            raise Exception(\"list is empty\")\n",
    "    \n",
    "    def append(self, value):\n",
    "        new_node = Node(value)\n",
    "        # if not len 0... seems like if true would make more sense but okay\n",
    "        if not self._length:\n",
    "            self.head = self.tail = new_node\n",
    "        else:\n",
    "            #tail node obj pointer atribute (next) reference updated to lead (append) new node\n",
    "            self.tail.next = new_node\n",
    "            #list tail replaced to reflect new node at the end\n",
    "            self.tail = new_node\n",
    "        self._length += 1\n",
    "        return self\n",
    "\n",
    "\n",
    "    def prepend(self, value):\n",
    "        new_node = Node(value)\n",
    "        if not self._length:\n",
    "            self.head = self.tail = new_node\n",
    "        else:\n",
    "            new_node.next = self.head\n",
    "            self.head = new_node\n",
    "        self._length += 1\n",
    "\n",
    "    def pop_left(self):\n",
    "        self.len_0_err()\n",
    "        pop_node = self.head\n",
    "        new_head = pop_node.next\n",
    "        pop_node.next = None\n",
    "        self._length -= 1\n",
    "        if not self._length:\n",
    "            self.tail = None\n",
    "        return pop_node.value\n",
    "\n",
    "    def pop_right(self):\n",
    "        self.len_0_err()\n",
    "        pop_value = self.tail.value\n",
    "        if self._length == 1:\n",
    "            self.head = self.tail = None\n",
    "        else:\n",
    "            token_node = self.head\n",
    "            while token_node.next is not self.tail:\n",
    "                token_node = token_node.next\n",
    "            self.tail = token_node\n",
    "            token_node.next = None\n",
    "        self._length -= 1\n",
    "        return pop_value.value\n",
    "\n",
    "    def remove(self, value):\n",
    "        self.len_0_err()\n",
    "        if self.head.value == value:\n",
    "        #looks lazy, why have remove function return removed value?\n",
    "            return self.pop_left()\n",
    "        previous_node = self.head\n",
    "        token_node = self.head.next\n",
    "        while current_node is not None and current_node.value != value:\n",
    "            previous_node = token_node\n",
    "            token_node = token_node.next\n",
    "        if current_node is None:\n",
    "            raise ValueError(\"item not in list\")\n",
    "        if current_node.next is None:\n",
    "            self.tail = previous_node\n",
    "        previous_node.next = token_node.next\n",
    "        token_node.next = None\n",
    "        self._length -= 1\n",
    "        #looks lazy, why have remove function return removed value?\n",
    "        return current_node.value\n",
    "\n",
    "    def reverse(self):\n",
    "        if self._length < 2:\n",
    "            return self\n",
    "        left_node = None\n",
    "        middle_node = self.head\n",
    "        while middle_node is not None:\n",
    "            right_node = middle_node.next\n",
    "            middle_node.next = left_node\n",
    "            left_node = middle_node\n",
    "            middle_node = right_node\n",
    "        self.head, self.tail = self.tail, self.head\n",
    "        return self\n",
    "\n",
    "my_slist = SinglyLinkedList()"
   ]
  },
  {
   "cell_type": "code",
   "execution_count": 81,
   "id": "4d582ef9-e05e-477f-bac7-18b5e6b0dec2",
   "metadata": {},
   "outputs": [
    {
     "data": {
      "text/plain": [
       "<__main__.SinglyLinkedList at 0x272c0f48910>"
      ]
     },
     "execution_count": 81,
     "metadata": {},
     "output_type": "execute_result"
    }
   ],
   "source": [
    "my_slist.append(5)"
   ]
  },
  {
   "cell_type": "code",
   "execution_count": 55,
   "id": "469e72ec-6cf1-4879-930f-e961f40c166b",
   "metadata": {},
   "outputs": [
    {
     "name": "stdout",
     "output_type": "stream",
     "text": [
      "0\n"
     ]
    }
   ],
   "source": [
    "for i in range(my_slist._length):\n",
    "    print(i)"
   ]
  },
  {
   "cell_type": "code",
   "execution_count": 77,
   "id": "ca8aa054-8051-4165-8a16-48b24a2c19f2",
   "metadata": {},
   "outputs": [
    {
     "name": "stdout",
     "output_type": "stream",
     "text": [
      "<__main__.SinglyLinkedList object at 0x00000272C1ECB990>\n"
     ]
    }
   ],
   "source": []
  },
  {
   "cell_type": "code",
   "execution_count": null,
   "id": "a9f19b3f-965f-4f7b-8279-db989b2d3c00",
   "metadata": {},
   "outputs": [],
   "source": []
  }
 ],
 "metadata": {
  "kernelspec": {
   "display_name": "Python 3 (ipykernel)",
   "language": "python",
   "name": "python3"
  },
  "language_info": {
   "codemirror_mode": {
    "name": "ipython",
    "version": 3
   },
   "file_extension": ".py",
   "mimetype": "text/x-python",
   "name": "python",
   "nbconvert_exporter": "python",
   "pygments_lexer": "ipython3",
   "version": "3.11.7"
  }
 },
 "nbformat": 4,
 "nbformat_minor": 5
}
