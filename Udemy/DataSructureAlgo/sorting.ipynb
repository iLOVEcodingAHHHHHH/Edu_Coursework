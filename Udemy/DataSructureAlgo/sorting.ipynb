{
 "cells": [
  {
   "cell_type": "code",
   "execution_count": 1,
   "id": "39b27669-d092-47f5-acfc-afeca8f3b2de",
   "metadata": {},
   "outputs": [],
   "source": [
    "def insertion_sort(array):\n",
    "    for i in range(1, len(array)):\n",
    "        j = i\n",
    "        while array[j-1] > array[j] and j > 0:\n",
    "            array[j-1], array[j] = array[j], array[j-1]\n",
    "            j -= 1\n",
    "    return array"
   ]
  },
  {
   "cell_type": "code",
   "execution_count": 2,
   "id": "b19b2b0b-e050-475f-846b-9a7f3514b500",
   "metadata": {},
   "outputs": [],
   "source": [
    "def selection_sort(array):\n",
    "    \n",
    "    for i in range(len(array)):\n",
    "        smallest = i\n",
    "        for j in range(i+1, len(array)):\n",
    "            if array[j] < array[smallest]:\n",
    "                smallest = j\n",
    "            array[i], array[smallest] = array[smallest], array[i]\n",
    "    return array"
   ]
  },
  {
   "cell_type": "code",
   "execution_count": 3,
   "id": "a4e39e4a-b45b-4087-a202-babf461cab65",
   "metadata": {},
   "outputs": [],
   "source": [
    "def bubble_sort(array):\n",
    "    sorted = array[0]\n",
    "    for i in range(len(array) - 1):\n",
    "        has_swapped = False\n",
    "        for j in range(len(array) - 1, i, -1):\n",
    "            if array[i] < array[i-1]:\n",
    "                array[i], array[i-1] = array[i -1], array[i]\n",
    "                has_swapped = True\n",
    "        if not has_swapped:\n",
    "            break\n",
    "    return array"
   ]
  },
  {
   "cell_type": "code",
   "execution_count": 5,
   "id": "e4c19770-d657-4d24-a695-772e9fa3592d",
   "metadata": {},
   "outputs": [],
   "source": [
    "def shell_sort(array):\n",
    "    gaps = [5,3,1]\n",
    "    for gap in gaps:\n",
    "        for i in range(gap, len(array)):\n",
    "            j = i - gap\n",
    "            while array[j + gap] < array[j] and j >= 0:\n",
    "                array[j], array[j + gap] = array[j + gap], array[j]\n",
    "                j -= gap\n",
    "    return array"
   ]
  },
  {
   "cell_type": "code",
   "execution_count": 6,
   "id": "7551dd8d-d276-4a49-9866-484a7b08092a",
   "metadata": {},
   "outputs": [],
   "source": [
    "# See heapify file for heap sort"
   ]
  },
  {
   "cell_type": "code",
   "execution_count": 7,
   "id": "108ff1e8-57aa-437c-a12d-1bd8343c5a34",
   "metadata": {},
   "outputs": [],
   "source": [
    "def merge_sort(array):\n",
    "    if len(array) < 2:\n",
    "        return array\n",
    "    first_half = merge_sort(array[:len(array) // 2])\n",
    "    second_half = merge_sort(array[len(array) // 2:])\n",
    "    return merge(first_half, second_half)\n",
    "\n",
    "def merge(first_half, second_half):\n",
    "    result = []\n",
    "    i = j = 0\n",
    "    while i < len(first_half) and j < len(second_half):\n",
    "        if first_half[i] < second_half[j]:\n",
    "            result.append(first_half[i])\n",
    "            i += 1\n",
    "        else:\n",
    "            result.append(second_half[j])\n",
    "            j += 1\n",
    "    while i < len(first_half):\n",
    "        result.append(first_half[i])\n",
    "        i += 1\n",
    "    while j < len(second_half):\n",
    "        result.append(second_half[j])\n",
    "        j += 1\n",
    "    return result"
   ]
  },
  {
   "cell_type": "code",
   "execution_count": 8,
   "id": "0ba8b8a8-c8fa-47b4-bbe9-60dedef2c0f6",
   "metadata": {},
   "outputs": [],
   "source": [
    "def quick_sort(arr):\n",
    "    if len(arr) < 2:\n",
    "        return arr\n",
    "    return partition(arr, 0, len(arr) - 1)\n",
    "\n",
    "def partition(array, start, end):\n",
    "    pivot = end\n",
    "    boundary = start\n",
    "    for i in range(start, end):\n",
    "        if array[i] <= array[pivot]:\n",
    "            array[boundary], array[i] = array[i], array[boundary]\n",
    "            boundary += 1\n",
    "    array[boundary], array[end] = array[end], array[boundary]\n",
    "    partition(array, start, boundary - 1)\n",
    "    partition(array, boundary + 1, end)\n",
    "    return array"
   ]
  },
  {
   "cell_type": "code",
   "execution_count": null,
   "id": "f38132fa-fad7-44f0-a7a0-665af08e45cc",
   "metadata": {},
   "outputs": [],
   "source": [
    "import math\n",
    "\n",
    "def radix_sort(array):\n",
    "    max_digits = get_max_number_of_digits(array)\n",
    "    for i in range(max_digits + 1):\n",
    "        buckets = [[] for _ in range(10)]\n",
    "        for num in array:\n",
    "            digits = get_digit_at_position(num, position=i)\n",
    "            buckets[digit].append(num)\n",
    "        array = flatten(buckets)\n",
    "\n",
    "def get_max_number_of_digits(array):\n",
    "    return max(int(math.log10(abs(num))) + 1 if num != 0 else 1 for num in array)\n",
    "\n",
    "def get_digit_at_position(number, position):\n",
    "    return (abs(number) // 10 ** position) % 10\n",
    "\n",
    "def flatten(array):\n",
    "    # wtf nested loops in comprehension?\n",
    "    # return [num for inner in array for num in inner]\n",
    "    result = []\n",
    "    for inner in array:\n",
    "        for num in inner:\n",
    "            result.append(num)"
   ]
  }
 ],
 "metadata": {
  "kernelspec": {
   "display_name": "Python 3 (ipykernel)",
   "language": "python",
   "name": "python3"
  },
  "language_info": {
   "codemirror_mode": {
    "name": "ipython",
    "version": 3
   },
   "file_extension": ".py",
   "mimetype": "text/x-python",
   "name": "python",
   "nbconvert_exporter": "python",
   "pygments_lexer": "ipython3",
   "version": "3.11.7"
  }
 },
 "nbformat": 4,
 "nbformat_minor": 5
}
