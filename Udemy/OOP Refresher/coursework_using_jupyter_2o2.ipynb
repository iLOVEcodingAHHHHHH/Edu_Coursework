{
 "cells": [
  {
   "cell_type": "markdown",
   "id": "a9d17d37-372e-48d1-be80-d51250e8246c",
   "metadata": {},
   "source": [
    "# Section 10 memory refs:"
   ]
  },
  {
   "cell_type": "markdown",
   "id": "7b17c3f6-cb4c-4c14-8176-6d2a3c12c637",
   "metadata": {},
   "source": [
    "id(object) returns its memory address (constant for objects lifetime"
   ]
  },
  {
   "cell_type": "code",
   "execution_count": 2,
   "id": "b0f09abc-46c9-4793-9be9-0651b7d0a1c8",
   "metadata": {},
   "outputs": [],
   "source": [
    "class Backpack:\n",
    "\n",
    "    def __init__(self):\n",
    "        self._items = []\n",
    "\n",
    "    @property\n",
    "    def items(self):\n",
    "        return self._items"
   ]
  },
  {
   "cell_type": "code",
   "execution_count": 5,
   "id": "30b3027b-15ff-4d0a-a62d-80956e15ae75",
   "metadata": {},
   "outputs": [],
   "source": [
    "my_backpack = Backpack()\n",
    "your_backpack = Backpack"
   ]
  },
  {
   "cell_type": "code",
   "execution_count": 6,
   "id": "5361fbab-a6db-4447-abac-090f77266a69",
   "metadata": {},
   "outputs": [
    {
     "name": "stdout",
     "output_type": "stream",
     "text": [
      "2757041722512\n",
      "2757062478224\n"
     ]
    }
   ],
   "source": [
    "print(id(your_backpack))\n",
    "print(id(my_backpack))"
   ]
  },
  {
   "cell_type": "code",
   "execution_count": 7,
   "id": "659fe409-ced4-4aff-ba19-746840b153b1",
   "metadata": {},
   "outputs": [],
   "source": [
    "a = 2000\n",
    "b = 2000"
   ]
  },
  {
   "cell_type": "code",
   "execution_count": 9,
   "id": "d102cf4f-eac0-45f1-8bb0-ef1dba32b913",
   "metadata": {},
   "outputs": [
    {
     "data": {
      "text/plain": [
       "False"
      ]
     },
     "execution_count": 9,
     "metadata": {},
     "output_type": "execute_result"
    }
   ],
   "source": [
    "a is b #pycharm optimizes memory automatically"
   ]
  },
  {
   "cell_type": "code",
   "execution_count": 12,
   "id": "6bf084b1-1f90-4756-9724-0f371f0aeae4",
   "metadata": {},
   "outputs": [
    {
     "data": {
      "text/plain": [
       "True"
      ]
     },
     "execution_count": 12,
     "metadata": {},
     "output_type": "execute_result"
    }
   ],
   "source": [
    "a = \"hi\"\n",
    "b = \"hi\"\n",
    "a is b #since strings are imutable, a single object is referenced multiple times\n",
    "#the string obj never changes"
   ]
  },
  {
   "cell_type": "markdown",
   "id": "f8a292a2-bd34-40b7-97dd-f9e6c6d769a6",
   "metadata": {},
   "source": [
    "# S11 - mutating, alias, clone"
   ]
  },
  {
   "cell_type": "markdown",
   "id": "2087d925-8480-4789-81a2-247d3e0fc568",
   "metadata": {},
   "source": [
    "## quiz only"
   ]
  },
  {
   "cell_type": "markdown",
   "id": "f7b59061-7557-4c2d-9946-74a7c89e4a25",
   "metadata": {},
   "source": [
    "q.a: Mutation effects objects that are clones and aliases differently, a mutation to an object will effect all alias(es?) as they are only references to an object in the memory.  When an object is cloned, a similar object (almost identical) is created but with a new id().  This new object can mutate independently of similar objects with identical values."
   ]
  },
  {
   "cell_type": "markdown",
   "id": "67e4dd91-3edb-44c4-b53e-007b589ea1dd",
   "metadata": {},
   "source": [
    "q.b: With your knowledge of aliasing, mutation, and cloning, modify the functions in the following program so that the original list is not mutated."
   ]
  },
  {
   "cell_type": "code",
   "execution_count": 8,
   "id": "285ec55b-a1a8-44d3-9c81-36181af69c2f",
   "metadata": {},
   "outputs": [
    {
     "name": "stdout",
     "output_type": "stream",
     "text": [
      "9144576\n",
      "[7, 3, 6, 8, 2, 3, 7, 2, 6, 3, 6]\n"
     ]
    }
   ],
   "source": [
    "import copy\n",
    "\n",
    "a = [7, 3, 6, 8, 2, 3, 7, 2, 6, 3, 6]\n",
    "b = a\n",
    "c = b\n",
    "b = c\n",
    " \n",
    "def remove_i(data, target):\n",
    "    new_data = data.copy()\n",
    "    \n",
    "    for item in data:\n",
    "        if item == target:\n",
    "            new_data.remove(target)\n",
    "    return data\n",
    " \n",
    "def get_product(data):\n",
    "    total = 1\n",
    "    for i in range(len(data)):\n",
    "        total *= data[i]\n",
    "    return total\n",
    " \n",
    "remove_i(c, 3)\n",
    "print(get_product(b))\n",
    "print(a)"
   ]
  },
  {
   "cell_type": "markdown",
   "id": "4c053961-2c72-4ba4-bd5b-ccbc72a583c1",
   "metadata": {},
   "source": [
    "#"
   ]
  },
  {
   "cell_type": "markdown",
   "id": "77d28777-bb13-4e72-a41b-35db14dca482",
   "metadata": {},
   "source": [
    "# Section 13 Inheritance"
   ]
  },
  {
   "cell_type": "markdown",
   "id": "ce7929ba-fdb8-4d3f-87c4-05e772cbd70c",
   "metadata": {},
   "source": [
    "You will learn:\n",
    "\n",
    "The concept of inheritance and why it is helpful to create hierarchies with our classes.\n",
    "\n",
    "How to implement a class hierarchy in Python.\n",
    "\n",
    "How to define a class that inherits the attributes of another class.\n",
    "\n",
    "The concepts of multilevel inheritance and multiple inheritance and their differences."
   ]
  },
  {
   "cell_type": "code",
   "execution_count": 3,
   "id": "d7f5e569-d4c2-4649-b35a-6764420a68f5",
   "metadata": {},
   "outputs": [],
   "source": [
    "class Polygon:\n",
    "\n",
    "    def __init__(self, num_sides, color):\n",
    "        self.num_sides = num_sides\n",
    "        self.color = color\n",
    "\n",
    "class Triangle(Polygon):  # a child class without an init method will pull attributes from it's parent\n",
    "    pass\n",
    "\n",
    "class Square(Polygon):\n",
    "    pass"
   ]
  },
  {
   "cell_type": "code",
   "execution_count": 10,
   "id": "ab9b3b7c-69cd-4e97-939a-7427f00496f5",
   "metadata": {},
   "outputs": [],
   "source": [
    "my_triangle = Triangle(3, \"Blue\")"
   ]
  },
  {
   "cell_type": "code",
   "execution_count": 11,
   "id": "50719c2b-67f8-407a-9db1-50126aa2972a",
   "metadata": {},
   "outputs": [
    {
     "ename": "AttributeError",
     "evalue": "'Triangle' object has no attribute 'num_sides'",
     "output_type": "error",
     "traceback": [
      "\u001b[1;31m---------------------------------------------------------------------------\u001b[0m",
      "\u001b[1;31mAttributeError\u001b[0m                            Traceback (most recent call last)",
      "Cell \u001b[1;32mIn[11], line 1\u001b[0m\n\u001b[1;32m----> 1\u001b[0m \u001b[38;5;28mprint\u001b[39m(my_triangle\u001b[38;5;241m.\u001b[39mnum_sides)\n\u001b[0;32m      2\u001b[0m \u001b[38;5;28mprint\u001b[39m(my_triangle\u001b[38;5;241m.\u001b[39mcolor)\n",
      "\u001b[1;31mAttributeError\u001b[0m: 'Triangle' object has no attribute 'num_sides'"
     ]
    }
   ],
   "source": [
    "print(my_triangle.num_sides)\n",
    "print(my_triangle.color)"
   ]
  },
  {
   "cell_type": "code",
   "execution_count": 13,
   "id": "c8bcc43c-1082-4525-a53b-944b523ae391",
   "metadata": {},
   "outputs": [],
   "source": [
    "class Polygon:\n",
    "\n",
    "    def __init__(self, num_sides, color):\n",
    "        self.num_sides = num_sides\n",
    "        self.color = color\n",
    "\n",
    "class Triangle(Polygon):  # when a child class has an init method attributes must be assigned explicitly\n",
    "    \n",
    "    NUM_SIDES = 3\n",
    "    \n",
    "    def __init__(self, base, height, color): #  example demonstrates that a parent arguement must be included in the init method of the child \n",
    "        Polygon.__init__(self, Triangle.NUM_SIDES, color)\n",
    "        self.base = base\n",
    "        self.height = height\n",
    "    \n",
    "\n",
    "class Square(Polygon):\n",
    "    pass"
   ]
  },
  {
   "cell_type": "code",
   "execution_count": 14,
   "id": "847e9522-3c59-4fa7-8aea-19d8c6e05747",
   "metadata": {},
   "outputs": [],
   "source": [
    "my_triangle = Triangle(5, 4, \"Blue\")"
   ]
  },
  {
   "cell_type": "code",
   "execution_count": 2,
   "id": "3307f266-eb38-43e8-9fcb-99203c44ee91",
   "metadata": {},
   "outputs": [],
   "source": [
    "class Employee:\n",
    "\n",
    "    def __init__(self, full_name, salary):\n",
    "        self.full_name = full_name\n",
    "        self.salary = salary\n",
    "\n",
    "class Programmer(Employee):\n",
    "\n",
    "    def __init__(self, full_name, salary, programming_language):\n",
    "        Employee.__init__(self, full_name, salary) \n",
    "        self.programming_language = programming_language\n",
    "\n",
    "nick = Programmer(\"Nick Askew\", 60000, \"Python\")"
   ]
  },
  {
   "cell_type": "code",
   "execution_count": 4,
   "id": "7b9a7a11-4ad0-4a33-84bc-74b9658f5cb0",
   "metadata": {},
   "outputs": [
    {
     "name": "stdout",
     "output_type": "stream",
     "text": [
      "Nick Askew\n"
     ]
    }
   ],
   "source": [
    "print(nick.full_name)"
   ]
  },
  {
   "cell_type": "code",
   "execution_count": 12,
   "id": "37e66430-f2c6-4b63-9666-6791666b05e8",
   "metadata": {},
   "outputs": [],
   "source": [
    "class Character:\n",
    "\n",
    "    def __init__(self, x, y, num_lives):    \n",
    "        self.x = x\n",
    "        self.y = y\n",
    "        self.num_lives = num_lives\n",
    "\n",
    "class Player(Character):\n",
    "\n",
    "    INITIAL_X = 10\n",
    "    INITIAL_Y = 0\n",
    "    INITIAL_NUM_LIVES = 10\n",
    "    \n",
    "    def __init__(self, x=INITIAL_X, score=0):\n",
    "        super().__init__(x, Player.INITIAL_Y, Player.INITIAL_NUM_LIVES)\n",
    "\n",
    "class Enemy(Character):\n",
    "\n",
    "    def __init__(self, x=15, y=15, num_lives=8, is_poisonous=False):\n",
    "        Character.__init__(self, x, y, num_lives)\n",
    "        self.is_poisonous = is_poisonous"
   ]
  },
  {
   "cell_type": "code",
   "execution_count": 13,
   "id": "8da74f8d-5d9e-46a7-b381-21b6e1370429",
   "metadata": {},
   "outputs": [],
   "source": [
    "my_player = Player()"
   ]
  },
  {
   "cell_type": "code",
   "execution_count": 14,
   "id": "e8c43f7d-87dc-4351-96e4-b6e369e5efe0",
   "metadata": {},
   "outputs": [
    {
     "name": "stdout",
     "output_type": "stream",
     "text": [
      "10\n"
     ]
    }
   ],
   "source": [
    "print(my_player.x)"
   ]
  },
  {
   "cell_type": "code",
   "execution_count": 11,
   "id": "4a410e37-0c48-4f3b-b3b6-5596301558fe",
   "metadata": {},
   "outputs": [],
   "source": [
    "easy_enemy = Enemy(num_lives=1)"
   ]
  },
  {
   "cell_type": "code",
   "execution_count": 12,
   "id": "b2af8940-f6b6-4e36-8998-4a6823a645ef",
   "metadata": {},
   "outputs": [],
   "source": [
    "hard_enemy = Enemy(num_lives=56, is_poisonous=True)"
   ]
  },
  {
   "cell_type": "code",
   "execution_count": 14,
   "id": "d7947461-e26e-42a0-84b9-b8fc278f3235",
   "metadata": {},
   "outputs": [
    {
     "name": "stdout",
     "output_type": "stream",
     "text": [
      "Poisonous: True\n",
      "15\n",
      "15\n",
      "56\n"
     ]
    }
   ],
   "source": [
    "print(f\"Poisonous: {hard_enemy.is_poisonous}\")\n",
    "print(hard_enemy.x)\n",
    "print(hard_enemy.y)\n",
    "print(hard_enemy.num_lives)"
   ]
  },
  {
   "cell_type": "code",
   "execution_count": 2,
   "id": "91327418-4928-45e7-9bdf-0fdf4e7709ab",
   "metadata": {},
   "outputs": [],
   "source": [
    "class ElectronicDevice:\n",
    "\n",
    "    def __init__(self, weight, color, is_battery_operated=False):\n",
    "        self.weight = weight\n",
    "        self.color = color\n",
    "        self.is_battery_operated = is_battery_operated\n",
    "\n",
    "\n",
    "class Computer(ElectronicDevice):\n",
    "    \n",
    "    def __init__(self, MHZ, GPU, VRAM):\n",
    "        ElectronicDevice.__init__(self, weight, color)\n",
    "        self.MHZ = MHZ\n",
    "        self.GPU = GPU\n",
    "        self.VRAM = VRAM"
   ]
  },
  {
   "cell_type": "code",
   "execution_count": 3,
   "id": "b5e080cd-f712-404a-a092-d0a040e06318",
   "metadata": {},
   "outputs": [
    {
     "ename": "NameError",
     "evalue": "name 'weight' is not defined",
     "output_type": "error",
     "traceback": [
      "\u001b[1;31m---------------------------------------------------------------------------\u001b[0m",
      "\u001b[1;31mNameError\u001b[0m                                 Traceback (most recent call last)",
      "Cell \u001b[1;32mIn[3], line 1\u001b[0m\n\u001b[1;32m----> 1\u001b[0m my_device \u001b[38;5;241m=\u001b[39m Computer(\u001b[38;5;241m100\u001b[39m,\u001b[38;5;241m100\u001b[39m,\u001b[38;5;241m8\u001b[39m)\n",
      "Cell \u001b[1;32mIn[2], line 12\u001b[0m, in \u001b[0;36mComputer.__init__\u001b[1;34m(self, MHZ, GPU, VRAM)\u001b[0m\n\u001b[0;32m     11\u001b[0m \u001b[38;5;28;01mdef\u001b[39;00m \u001b[38;5;21m__init__\u001b[39m(\u001b[38;5;28mself\u001b[39m, MHZ, GPU, VRAM):\n\u001b[1;32m---> 12\u001b[0m     ElectronicDevice\u001b[38;5;241m.\u001b[39m\u001b[38;5;21m__init__\u001b[39m(\u001b[38;5;28mself\u001b[39m, weight, color)\n\u001b[0;32m     13\u001b[0m     \u001b[38;5;28mself\u001b[39m\u001b[38;5;241m.\u001b[39mMHZ \u001b[38;5;241m=\u001b[39m MHZ\n\u001b[0;32m     14\u001b[0m     \u001b[38;5;28mself\u001b[39m\u001b[38;5;241m.\u001b[39mGPU \u001b[38;5;241m=\u001b[39m GPU\n",
      "\u001b[1;31mNameError\u001b[0m: name 'weight' is not defined"
     ]
    }
   ],
   "source": [
    "my_device = Computer(100,100,8)"
   ]
  },
  {
   "cell_type": "code",
   "execution_count": 49,
   "id": "b70b3a11-bec7-48bf-9934-a438a964ec2c",
   "metadata": {},
   "outputs": [
    {
     "name": "stdout",
     "output_type": "stream",
     "text": [
      "False\n"
     ]
    }
   ],
   "source": [
    "print(my_device.is_battery_operated)"
   ]
  },
  {
   "cell_type": "code",
   "execution_count": 38,
   "id": "03393d0f-575d-437f-9512-dc49f79bcec9",
   "metadata": {},
   "outputs": [],
   "source": [
    "class Character:\n",
    "\n",
    "    def __init__(self, x, y, num_lives):    \n",
    "        self.x = x\n",
    "        self.y = y\n",
    "        self.num_lives = num_lives\n",
    "\n",
    "class Player(Character):\n",
    "\n",
    "    INITIAL_X = 0\n",
    "    INITIAL_Y = 0\n",
    "    INITIAL_NUM_LIVES = 10\n",
    "    \n",
    "    def __init__(self, score=0):\n",
    "        Character.__init__(self, Player.INITIAL_X, Player.INITIAL_Y, Player.INITIAL_NUM_LIVES)\n",
    "\n",
    "class Enemy(Character):\n",
    "\n",
    "    def __init__(self, x=15, y=15, num_lives=8, is_poisonous=False):\n",
    "        Character.__init__(self, x, y, num_lives)\n",
    "        self.is_poisonous = is_poisonous"
   ]
  },
  {
   "cell_type": "code",
   "execution_count": null,
   "id": "c069db03-3d7f-41bf-bc01-287000c93f2b",
   "metadata": {},
   "outputs": [],
   "source": []
  },
  {
   "cell_type": "code",
   "execution_count": null,
   "id": "9e68abb5-e937-4112-9394-470b33e871dc",
   "metadata": {},
   "outputs": [],
   "source": []
  },
  {
   "cell_type": "markdown",
   "id": "b5c4d821-d748-4014-8284-6ae8d821fc59",
   "metadata": {},
   "source": [
    "# Section 14: Method Inheritence"
   ]
  },
  {
   "cell_type": "code",
   "execution_count": 27,
   "id": "f0a10859-4c9b-4a04-b0c7-30376b7fb591",
   "metadata": {},
   "outputs": [],
   "source": [
    "class Polygon:\n",
    "\n",
    "    def __init__(self, num_sides, color):\n",
    "        self.num_sides = num_sides\n",
    "        self.color = color\n",
    "\n",
    "    def describe_polygon(self):\n",
    "        print(f\"This polygon has {self.num_sides} sides and it's {self.color}\")\n",
    "\n",
    "\n",
    "class Square(Polygon):\n",
    "\n",
    "    NUM_SIDES = 4\n",
    "\n",
    "    def __init__(self, test, jack, color, side_length):\n",
    "        Polygon.__init__(self, Square.NUM_SIDES, color)\n",
    "        self.side_length = side_length\n",
    "        self.jack = jack\n",
    "        self.test = test"
   ]
  },
  {
   "cell_type": "code",
   "execution_count": 29,
   "id": "452ad65e-85cb-4564-9685-f734fc8132a1",
   "metadata": {},
   "outputs": [],
   "source": [
    "my_square = Square('test', 'test', 'blue', 5)"
   ]
  },
  {
   "cell_type": "code",
   "execution_count": 30,
   "id": "12a3a7a9-e030-4e64-b126-657302e5e8c9",
   "metadata": {},
   "outputs": [
    {
     "name": "stdout",
     "output_type": "stream",
     "text": [
      "This polygon has 4 sides and it's blue\n"
     ]
    }
   ],
   "source": [
    "my_square.describe_polygon()"
   ]
  },
  {
   "cell_type": "code",
   "execution_count": 33,
   "id": "eaa68c0d-2e24-44b2-a8e6-0f60c0e2a501",
   "metadata": {},
   "outputs": [
    {
     "name": "stdout",
     "output_type": "stream",
     "text": [
      "425.0\n"
     ]
    }
   ],
   "source": [
    "def compute_pay(hours, rate):\n",
    "\n",
    "    if hours > 40:\n",
    "        overtime = (hours - 40) +(float(rate) * 1.5) + (40 * rate)\n",
    "        return overtime\n",
    "    else:\n",
    "        regular = float(hours) * rate\n",
    "        return regular\n",
    "\n",
    "pay = compute_pay(50, 10)\n",
    "print(pay)\n"
   ]
  },
  {
   "cell_type": "markdown",
   "id": "a5403d2e-10b7-4869-a322-b5026ebfc9a0",
   "metadata": {},
   "source": [
    "196. Method Overriding"
   ]
  },
  {
   "cell_type": "markdown",
   "id": "eeedd4fc-2e1b-4c8f-a1f6-4018c1a0cff0",
   "metadata": {},
   "source": [
    "Super()\n",
    "def METHODNAME(self):\n",
    "    pass\n",
    "Sub()\n",
    "def METHODNAME(self):\n",
    "    pass\n",
    "\n",
    "methods with identical names in the subclass will overrride the super"
   ]
  },
  {
   "cell_type": "code",
   "execution_count": 13,
   "id": "d274e854-4165-445e-99ba-6fb94d80b432",
   "metadata": {},
   "outputs": [],
   "source": [
    "class Backpack:\n",
    "\n",
    "    def __init__(self):\n",
    "        self.items = []\n",
    "\n",
    "    def add_snack(self, snack):\n",
    "        print(f\"Adding a {snack} snack!\")\n",
    "        self.items.append(snack)\n",
    "\n",
    "class SchoolBackpack(Backpack):\n",
    "\n",
    "    def add_snack(self, snack):\n",
    "        super().add_snack(snack)\n",
    "        print(self.items)"
   ]
  },
  {
   "cell_type": "code",
   "execution_count": 14,
   "id": "aea0d9b5-be97-4457-b061-246c4cfcf03c",
   "metadata": {},
   "outputs": [],
   "source": [
    "my_backpack = SchoolBackpack()"
   ]
  },
  {
   "cell_type": "code",
   "execution_count": 17,
   "id": "9953f076-06ef-4871-9160-beaaefbad589",
   "metadata": {},
   "outputs": [
    {
     "name": "stdout",
     "output_type": "stream",
     "text": [
      "Adding a Chocolate snack!\n",
      "['Chocolate', 'Chocolate', 'Chocolate']\n"
     ]
    }
   ],
   "source": [
    "my_backpack.add_snack(\"Chocolate\")"
   ]
  },
  {
   "cell_type": "code",
   "execution_count": 12,
   "id": "933c2db7-dde4-4666-b50b-b76c6e03d88a",
   "metadata": {},
   "outputs": [
    {
     "name": "stdout",
     "output_type": "stream",
     "text": [
      "['Chocolate']\n"
     ]
    }
   ],
   "source": [
    "print(my_backpack.items)"
   ]
  },
  {
   "cell_type": "markdown",
   "id": "a74420d5-ac42-45d7-b98e-1fbee0425977",
   "metadata": {},
   "source": [
    "# S14 Assignment"
   ]
  },
  {
   "cell_type": "code",
   "execution_count": 36,
   "id": "8abc107e-d981-420c-9025-fa2a0b41295a",
   "metadata": {},
   "outputs": [
    {
     "name": "stdout",
     "output_type": "stream",
     "text": [
      "\n",
      "Welcome! I have:\n",
      "\n",
      "(1) Candy $2.0\n",
      "(2) Soda $1.5\n",
      "(3) Chips $3.0\n",
      "(4) Cookies $3.5\n"
     ]
    },
    {
     "name": "stdin",
     "output_type": "stream",
     "text": [
      "\n",
      "Please enter the number of the item:  1\n"
     ]
    },
    {
     "name": "stdout",
     "output_type": "stream",
     "text": [
      "\n",
      "You selected: Candy\n",
      "Great! I currently have 36 candy in my inventory\n",
      "\n"
     ]
    },
    {
     "name": "stdin",
     "output_type": "stream",
     "text": [
      "How many candy would you like to buy?\n",
      " 1\n"
     ]
    },
    {
     "name": "stdout",
     "output_type": "stream",
     "text": [
      "That would be: $ 2.0\n",
      "\n",
      "Thank you for your purchase!\n",
      "Now I have 35 candy and my revenue is $2\n"
     ]
    },
    {
     "name": "stdin",
     "output_type": "stream",
     "text": [
      "\n",
      "Would you like to buy another snack?\n",
      "Enter 1 for YES and 0 for NO:  0\n"
     ]
    }
   ],
   "source": [
    "class VendingMachine:\n",
    " \n",
    "    total_revenue = 0 # Total revenue of all vending machines in the system\n",
    " \n",
    "    snack_prices = {\"candy\": 2.00, \"soda\": 1.50, \"chips\": 3.00, \"cookies\": 3.50}\n",
    " \n",
    "    def __init__(self, inventory, serial, days_until_maintenance):\n",
    "        self.inventory = inventory \n",
    "        self.revenue = 0\n",
    "        self.serial = serial\n",
    "        self.days_until_maintenance = days_until_maintenance\n",
    " \n",
    " \n",
    "    def sales_menu(self):\n",
    " \n",
    "        while True:\n",
    " \n",
    "            greetings = \"\\nWelcome! I have:\\n\"\n",
    "            request = \"\\nPlease enter the number of the item: \"\n",
    " \n",
    "            print(greetings)\n",
    " \n",
    "            i = 1\n",
    "            for snack in self.inventory:\n",
    "                print(\"(\" + str(i) + \") \" + snack.capitalize() + \" $\" + str(self.snack_prices[snack]))\n",
    "                i += 1\n",
    " \n",
    "            cust_input = int(input(request))\n",
    " \n",
    "            while cust_input <= 0 or cust_input > len(self.inventory):\n",
    "                print(\"Please enter a number from 1 to\", len(self.inventory))\n",
    "                cust_input = int(input(request))\n",
    " \n",
    "            self.process_sale(list(self.inventory.keys())[cust_input - 1].lower())\n",
    "            answer = int(input(\"\\nWould you like to buy another snack?\\nEnter 1 for YES and 0 for NO: \"))\n",
    " \n",
    "            if not answer:\n",
    "                break\n",
    " \n",
    " \n",
    "    def process_sale(self, option): # option must be in lowercase\n",
    "        \n",
    "        print(\"\\nYou selected: %s\" % option.capitalize())\n",
    "        \n",
    "        if self.inventory[option] > 0:\n",
    "            \n",
    "            print(\"Great! I currently have %d %s in my inventory\\n\" % (self.inventory[option], option))\n",
    "            \n",
    "            num_items = int(input(\"How many %s would you like to buy?\\n\" % option))\n",
    " \n",
    "            while num_items <= 0:\n",
    "                print(\"Please enter a positive integer\")\n",
    "                num_items = int(input(\"\\nHow many %s would you like to buy?\\n\" % option))\n",
    " \n",
    "            if num_items <= self.inventory[option]:\n",
    "                self.remove_from_inventory(option, num_items)\n",
    "                \n",
    "                total = self.update_revenue(option, num_items)\n",
    " \n",
    "                print(\"That would be: $ \" + str(total))\n",
    " \n",
    "                print(\"\\nThank you for your purchase!\")\n",
    "                print(\"Now I have %d %s and my revenue is $%d\" % (self.inventory[option], option, self.revenue))\n",
    "                \n",
    "            else:\n",
    "                print(\"I don't have so many %s. Sorry! :(\" % option)\n",
    "                \n",
    "        else:\n",
    "            print(\"I don't have any more %s. Sorry! :(\" % option)\n",
    " \n",
    " \n",
    "    def remove_from_inventory(self, option, num_items):\n",
    "        self.inventory[option] -= num_items\n",
    " \n",
    "    def update_revenue(self, option, num_items):\n",
    "        # Find price of the snack\n",
    "        price = self.find_snack_price(option)\n",
    " \n",
    "        # Update Instance and class\n",
    "        self.revenue += num_items * price\n",
    "        VendingMachine.total_revenue += num_items * price\n",
    " \n",
    "        return num_items * price\n",
    " \n",
    "    def find_snack_price(self, snack):\n",
    "        return self.snack_prices[snack]        \n",
    "        \n",
    "    def display_revenue(self):\n",
    "        print(\"The total revenue of this vending machine is:\", self.revenue)\n",
    "            \n",
    " \n",
    "class HospitalVendingMachine(VendingMachine):\n",
    "    pass\n",
    " \n",
    "    # Complete the class\n",
    " \n",
    " \n",
    "class SchoolVendingMachine(VendingMachine):\n",
    "     pass\n",
    "    # Complete the class\n",
    " \n",
    " \n",
    "floor_machine = VendingMachine({\"candy\": 36, \"soda\": 15, \"chips\": 40, \"cookies\": 120}, \"011423424\", 24)\n",
    "floor_machine.sales_menu()\n",
    " \n",
    "hospital_machine = HospitalVendingMachine({\"candy\": 32, \"soda\": 50, \"chips\": 45, \"cookies\": 80}, \"03223424\", 15)\n",
    "# hospital_machine.sales_menu()\n",
    " \n",
    "school_machine = SchoolVendingMachine({\"candy\": 36, \"soda\": 15, \"chips\": 40, \"cookies\": 120}, \"0534424\", 2)\n",
    "# school_machine.sales_menu()\n"
   ]
  },
  {
   "cell_type": "code",
   "execution_count": 55,
   "id": "20f51d4f-e392-4f71-a16f-53ed8c67e16e",
   "metadata": {},
   "outputs": [],
   "source": [
    "class HospitalVendingMachine(VendingMachine):\n",
    "\n",
    "    snack_prices = {\"candy\": 5.00, \"soda\": 5.00, \"chips\": 5.00, \"cookies\": 5.0}\n",
    "        \n",
    "    def sales_menu(self):\n",
    "        print(\"\"\"Welcome to our Hospital Vending Machine\n",
    "We hope you are feeling better today!\"\"\")\n",
    "        super().sales_menu()\n",
    "\n",
    "    def print_days_until_maintenance(self):\n",
    "        print(self.days_until_maintenance)\n",
    "        \n",
    "    def find_snack_price(self, snack):\n",
    "        return self.snack_prices[snack]        \n",
    "\n",
    "class SchoolVendingMachine(VendingMachine):\n",
    "    \n",
    "    snack_prices = {\"candy\": 1.11, \"soda\": 1.03, \"chips\": 1.07, \"cookies\": 1.05}\n",
    "    student_debt = {}\n",
    "    \n",
    "    def sales_menu(self):\n",
    " \n",
    "        print(\"Welcome to our School Vending Machine\")\n",
    "        print(\"We hope you have a great day full of learning!\")\n",
    "        super().sales_menu()\n",
    "            \n",
    "    def print_student_debt(self, name):\n",
    "        print(student_debt[name])\n",
    "    \n",
    "\n",
    "    def find_snack_price(self, snack):\n",
    "        return self.snack_prices[snack]        \n"
   ]
  },
  {
   "cell_type": "markdown",
   "id": "5936ceda-f301-4b69-a8e7-8854e538fa1a",
   "metadata": {},
   "source": [
    "# S16 Docstring assignment"
   ]
  },
  {
   "cell_type": "code",
   "execution_count": 2,
   "id": "71b2a59b-e5c9-48d3-9119-4215a518ae76",
   "metadata": {},
   "outputs": [],
   "source": [
    "class Flight:\n",
    "    \"\"\"\n",
    "    Create flight object with persons/logistical data and persons/weight report method.\n",
    "    \"\"\"\n",
    "    def __init__(self, number, origin, destination, num_passengers, total_weight, pilot, crew):\n",
    "        \"\"\"\n",
    "        Initilizes flight logistic and crew data object.\n",
    "\n",
    "        Arguements:\n",
    "        number (string): Serialized code uniquely identifying a trip.\n",
    "        origin (string): Flight's airport of departure.\n",
    "        destination (string): Flight's end point (destination).\n",
    "        total_weight (float): Flight weight with persons and luggage.\n",
    "        num_passengers (int): Number of passengers.\n",
    "        pilot (list): ID(s) of pilot(s) responsible for travel.\n",
    "        crew (list): IDs of crew aboard the flight.\n",
    "        \"\"\"\n",
    "        self.number = number\n",
    "        self.origin = origin\n",
    "        self.destination = destination\n",
    "        self.num_passengers = num_passengers\n",
    "        self._total_weight = total_weight\n",
    "        self._pilot = pilot \n",
    "        self._crew = crew\n",
    " \n",
    "    @property\n",
    "    def total_weight(self):\n",
    "        \"\"\"Get or set the current weight.  Setting the weight will update\n",
    "        the fuel expenditure automatically\"\"\"\n",
    "        return self._total_weight\n",
    " \n",
    "    @total_weight.setter\n",
    "    def total_weight(self, weight):\n",
    "        if weight > 0 and isinstance(weight, float):\n",
    "            self._total_weight = weight\t\n",
    " \n",
    "    @property\n",
    "    def pilot(self):\n",
    "        \"\"\"Get or set the pilot(s), returns current pilot(s).\"\"\"\n",
    "        return self._pilot\n",
    " \n",
    "    @pilot.setter\n",
    "    def pilot(self, new_pilot):\n",
    "       self._pilot = new_pilot\n",
    " \n",
    "    @property\n",
    "    def crew(self):\n",
    "        \"\"\"Get or Set the crew, returns current crew\"\"\"\n",
    "        return self._crew\n",
    "\t\n",
    "    @crew.setter\n",
    "    def crew(self, new_crew):\n",
    "        self._crew = new_crew\n",
    " \n",
    "    def display_flight_data(self):\n",
    "        \"\"\"Print details of persons and weight pertaining to flight logs\"\"\"\n",
    "        print(\"== Flight ==\")\n",
    "        print(\"Number:\", self.number)\n",
    "        print(\"Number of Passengers:\", self.num_passengers)\n",
    "        print(\"Weight:\", self._total_weight)\n",
    "        print(\"Pilot:\", self._pilot)\n",
    "        print(\"Crew:\", self._crew)\n"
   ]
  },
  {
   "cell_type": "code",
   "execution_count": 3,
   "id": "36192bd1-514c-42f1-84ef-7fe26e46b22d",
   "metadata": {},
   "outputs": [
    {
     "name": "stdout",
     "output_type": "stream",
     "text": [
      "\n",
      "    Create flight object with persons/logistical data and persons/weight report method.\n",
      "    \n"
     ]
    }
   ],
   "source": [
    "print(Flight.__doc__)"
   ]
  },
  {
   "cell_type": "code",
   "execution_count": 4,
   "id": "74de337e-0599-43dc-845b-2fcf2aa27b87",
   "metadata": {},
   "outputs": [
    {
     "name": "stdout",
     "output_type": "stream",
     "text": [
      "Help on function __init__ in module __main__:\n",
      "\n",
      "__init__(self, number, origin, destination, num_passengers, total_weight, pilot, crew)\n",
      "    Initilizes flight logistic and crew data object.\n",
      "    \n",
      "    Arguements:\n",
      "    number (string): Serialized code uniquely identifying a trip.\n",
      "    origin (string): Flight's airport of departure.\n",
      "    destination (string): Flight's end point (destination).\n",
      "    total_weight (float): Flight weight with persons and luggage.\n",
      "    num_passengers (int): Number of passengers.\n",
      "    pilot (list): ID(s) of pilot(s) responsible for travel.\n",
      "    crew (list): IDs of crew aboard the flight.\n",
      "\n"
     ]
    }
   ],
   "source": [
    "help(Flight.__init__)"
   ]
  },
  {
   "cell_type": "markdown",
   "id": "9754ab1b-8633-4771-b1cd-2d357053e8f1",
   "metadata": {},
   "source": [
    "# S17: Magic Methods"
   ]
  },
  {
   "cell_type": "code",
   "execution_count": 5,
   "id": "dc242b99-3c70-4561-904d-10f114d4dae4",
   "metadata": {},
   "outputs": [
    {
     "name": "stdout",
     "output_type": "stream",
     "text": [
      "11\n"
     ]
    }
   ],
   "source": [
    "print((5).__add__(6))"
   ]
  },
  {
   "cell_type": "code",
   "execution_count": 9,
   "id": "de87ce9b-fe86-4b44-9afe-3a391f41d941",
   "metadata": {},
   "outputs": [],
   "source": [
    "class Coords:\n",
    "\n",
    "    def __init__(self, x, y):\n",
    "        self.x = x\n",
    "        self.y = y\n",
    "\n",
    "    def __str__(self):\n",
    "        return f\"({self.x},{self.y})\""
   ]
  },
  {
   "cell_type": "code",
   "execution_count": 10,
   "id": "f0fbad8e-4859-481b-9ea0-ac32e207112a",
   "metadata": {},
   "outputs": [],
   "source": [
    "my_coords = Coords(10,20)"
   ]
  },
  {
   "cell_type": "code",
   "execution_count": 11,
   "id": "da7c742b-c026-40ad-977b-95f9712df9c0",
   "metadata": {},
   "outputs": [
    {
     "name": "stdout",
     "output_type": "stream",
     "text": [
      "(10,20)\n"
     ]
    }
   ],
   "source": [
    "print(my_coords)"
   ]
  },
  {
   "cell_type": "code",
   "execution_count": 12,
   "id": "732f4213-19af-4722-a323-21930ba94965",
   "metadata": {},
   "outputs": [],
   "source": [
    "my_string = \"Hello, World!\""
   ]
  },
  {
   "cell_type": "code",
   "execution_count": 13,
   "id": "b56361ac-c0e6-4d2e-910a-c02b23bf1d8d",
   "metadata": {},
   "outputs": [
    {
     "name": "stdout",
     "output_type": "stream",
     "text": [
      "13\n"
     ]
    }
   ],
   "source": [
    "print(len(my_string))"
   ]
  },
  {
   "cell_type": "code",
   "execution_count": 16,
   "id": "1e533e4c-5a9b-4cc2-bfa0-e73b8b99a02c",
   "metadata": {},
   "outputs": [
    {
     "name": "stdout",
     "output_type": "stream",
     "text": [
      "13\n"
     ]
    }
   ],
   "source": [
    "print(my_string.__len__())"
   ]
  },
  {
   "cell_type": "code",
   "execution_count": 17,
   "id": "3492b165-526c-4f4e-85fe-bf79508e396a",
   "metadata": {},
   "outputs": [],
   "source": [
    "my_list = [1,2,3,4,5]"
   ]
  },
  {
   "cell_type": "code",
   "execution_count": 18,
   "id": "9a6c0f7a-8125-4777-b820-6f888b696070",
   "metadata": {},
   "outputs": [
    {
     "name": "stdout",
     "output_type": "stream",
     "text": [
      "5\n"
     ]
    }
   ],
   "source": [
    "print(len(my_list))"
   ]
  },
  {
   "cell_type": "code",
   "execution_count": 19,
   "id": "c66fd61a-80b1-49e2-9647-f1010a62117f",
   "metadata": {},
   "outputs": [
    {
     "name": "stdout",
     "output_type": "stream",
     "text": [
      "5\n"
     ]
    }
   ],
   "source": [
    "print(my_list.__len__())"
   ]
  },
  {
   "cell_type": "code",
   "execution_count": 32,
   "id": "5f15adfa-45ed-499e-b1b0-a65158e92287",
   "metadata": {},
   "outputs": [],
   "source": [
    "class Backpack:\n",
    "\n",
    "    def __init__(self):\n",
    "        self.items = []\n",
    "\n",
    "    def add_item(self, item):\n",
    "        self.items.append(item)\n",
    "        print(self.items)\n",
    "\n",
    "    def __len__(self):\n",
    "        return len(self.items)\n",
    "\n",
    "    def remove_item(self, item):\n",
    "        self.items.remove(item)"
   ]
  },
  {
   "cell_type": "code",
   "execution_count": 33,
   "id": "4f5f3a79-1a07-44aa-8272-0309601ee895",
   "metadata": {},
   "outputs": [],
   "source": [
    "my_bp = Backpack()"
   ]
  },
  {
   "cell_type": "code",
   "execution_count": 34,
   "id": "3f25864a-bd48-474a-90a8-67536f44c656",
   "metadata": {},
   "outputs": [
    {
     "name": "stdout",
     "output_type": "stream",
     "text": [
      "['pencil']\n",
      "['pencil', 'pen']\n"
     ]
    }
   ],
   "source": [
    "my_bp.add_item(\"pencil\")\n",
    "my_bp.add_item(\"pen\")"
   ]
  },
  {
   "cell_type": "code",
   "execution_count": 35,
   "id": "e893fd88-6b01-4f56-8a24-b828307db4c4",
   "metadata": {},
   "outputs": [
    {
     "data": {
      "text/plain": [
       "2"
      ]
     },
     "execution_count": 35,
     "metadata": {},
     "output_type": "execute_result"
    }
   ],
   "source": [
    "my_bp.__len__()"
   ]
  },
  {
   "cell_type": "code",
   "execution_count": 37,
   "id": "e55e0b78-4c96-4ea3-bbdd-88537cf8c98f",
   "metadata": {},
   "outputs": [],
   "source": [
    "my_bp.remove_item(\"pen\")"
   ]
  },
  {
   "cell_type": "code",
   "execution_count": 39,
   "id": "52a95ef2-d070-4092-a3e2-9fb56b5259cc",
   "metadata": {},
   "outputs": [
    {
     "name": "stdout",
     "output_type": "stream",
     "text": [
      "9\n"
     ]
    }
   ],
   "source": [
    "print((5).__add__(4))"
   ]
  },
  {
   "cell_type": "code",
   "execution_count": 41,
   "id": "a555a714-f4a3-4927-abb9-fc7958654383",
   "metadata": {},
   "outputs": [],
   "source": [
    "class Point2D:\n",
    "\n",
    "    def __init__(self, x, y):\n",
    "        self.x = x\n",
    "        self.y = y\n",
    "\n",
    "    def __add__(self, other): # (a).__add__(b)\n",
    "        new_x = self.x + other.x # pass in another instance with x and y attributes\n",
    "        new_y = self.y + other.y\n",
    "        return Point2D(new_x, new_y) #return a new instance\n",
    "\n",
    "    def __str__(self):\n",
    "        return f\"({self.x}, {self.y})\""
   ]
  },
  {
   "cell_type": "code",
   "execution_count": 42,
   "id": "38765a5c-2f86-40de-a9e7-693075200b96",
   "metadata": {},
   "outputs": [],
   "source": [
    "pnt_a = Point2D(10,20)"
   ]
  },
  {
   "cell_type": "code",
   "execution_count": 43,
   "id": "c5b577af-19d7-433a-b03a-128827c79d20",
   "metadata": {},
   "outputs": [],
   "source": [
    "pnt_b = Point2D(20,40)"
   ]
  },
  {
   "cell_type": "code",
   "execution_count": 44,
   "id": "bb1f75e0-624e-49e2-aca8-981c16539153",
   "metadata": {},
   "outputs": [
    {
     "name": "stdout",
     "output_type": "stream",
     "text": [
      "(30, 60)\n"
     ]
    }
   ],
   "source": [
    "print(pnt_a + pnt_b)"
   ]
  },
  {
   "cell_type": "code",
   "execution_count": 45,
   "id": "dc00ce65-3419-4044-b2f6-bafbc5c7545e",
   "metadata": {},
   "outputs": [],
   "source": [
    "pnt_c = pnt_a + pnt_b"
   ]
  },
  {
   "cell_type": "code",
   "execution_count": 46,
   "id": "7b3d133c-b520-4ced-9528-e25e05991603",
   "metadata": {},
   "outputs": [
    {
     "name": "stdout",
     "output_type": "stream",
     "text": [
      "(30, 60)\n"
     ]
    }
   ],
   "source": [
    "print(pnt_c)"
   ]
  },
  {
   "cell_type": "code",
   "execution_count": 51,
   "id": "34ecfb49-e93b-4376-863f-5c0c60ae12ed",
   "metadata": {},
   "outputs": [],
   "source": [
    "class Bookshelf():\n",
    "    def __init__(self):\n",
    "        self.content = [[\"Les Miserables\", \"Pride and Prejuduce\", \"Frankenstein\"],\n",
    "                        [\"Sense and Sensibility\", \"Jane Eyre\", \"The Little Prince\"],\n",
    "                        [\"Moby Dick\", \"somethin\", \"Dracula\"]]\n",
    "\n",
    "    def add_book(self, book, level):\n",
    "        self.content[location].append(book)\n",
    "\n",
    "    def __getitem__(self, location):\n",
    "        return self.content[location]"
   ]
  },
  {
   "cell_type": "code",
   "execution_count": 52,
   "id": "d0e0788e-1713-4ab7-a58f-8bfebc7e9f36",
   "metadata": {},
   "outputs": [],
   "source": [
    "my_bookshelf = Bookshelf()"
   ]
  },
  {
   "cell_type": "code",
   "execution_count": 53,
   "id": "47cf5af1-88d2-4e3a-abd1-980d610b9d5a",
   "metadata": {},
   "outputs": [
    {
     "data": {
      "text/plain": [
       "['Moby Dick', 'somethin', 'Dracula']"
      ]
     },
     "execution_count": 53,
     "metadata": {},
     "output_type": "execute_result"
    }
   ],
   "source": [
    "my_bookshelf.__getitem__(2)"
   ]
  },
  {
   "cell_type": "code",
   "execution_count": 67,
   "id": "0edc360d-6aa8-43c5-aa5c-271f4f86e98d",
   "metadata": {},
   "outputs": [],
   "source": [
    "class BankAccount:\n",
    "\n",
    "    def __init__(self, account_owner, account_number, initial_balance):\n",
    "        self.account_owner = account_owner\n",
    "        self.account_number = account_number\n",
    "        self.balance = initial_balance\n",
    "\n",
    "    def make_deposit(self, amount):\n",
    "        self.balance += amount\n",
    "    \n",
    "    def make_withdrawal(self, amount):\n",
    "        if amount <= self.balance:\n",
    "            self.balance -= amount\n",
    "        else:\n",
    "            print(\"Insufficient Funds.\")\n",
    "\n",
    "    def __bool__(self):\n",
    "        return self.balance > 0\n",
    "\n",
    "    "
   ]
  },
  {
   "cell_type": "code",
   "execution_count": 68,
   "id": "2752243b-38c7-42de-a788-9084405e3fd3",
   "metadata": {},
   "outputs": [],
   "source": [
    "my_account = BankAccount(\"Nora Nav\", \"123-4564-7897\", 45045.23)"
   ]
  },
  {
   "cell_type": "code",
   "execution_count": 70,
   "id": "c622d316-2590-424a-8589-798e9e447640",
   "metadata": {},
   "outputs": [
    {
     "data": {
      "text/plain": [
       "True"
      ]
     },
     "execution_count": 70,
     "metadata": {},
     "output_type": "execute_result"
    }
   ],
   "source": [
    "my_account.__bool__()"
   ]
  },
  {
   "cell_type": "code",
   "execution_count": 71,
   "id": "948d40b6-e784-4cb7-83da-b4303b3ca79a",
   "metadata": {},
   "outputs": [
    {
     "name": "stdout",
     "output_type": "stream",
     "text": [
      "False\n",
      "False\n",
      "True\n",
      "True\n"
     ]
    }
   ],
   "source": [
    "print(15 <= 8)\n",
    "print(4 > 4)\n",
    "print(5 == 5)\n",
    "print(6 != 8)"
   ]
  },
  {
   "cell_type": "code",
   "execution_count": 82,
   "id": "8ac35e7b-72f1-47e4-be4a-476b1e683bf0",
   "metadata": {},
   "outputs": [],
   "source": [
    "class Circle:\n",
    "\n",
    "    def __init__(self, radius, color):\n",
    "        self.radius = radius\n",
    "        self.color = color\n",
    "\n",
    "    def __gt__(self, other):\n",
    "        return self.radius > other.radius\n",
    "\n",
    "    def __lt__(other, self): #can reverse order of objects, neat!\n",
    "        return self.radius > other.radius\n",
    "\n",
    "    def __eq__(self, other):\n",
    "        return (self.radius == other.radius\n",
    "            and self.color == other.color)"
   ]
  },
  {
   "cell_type": "code",
   "execution_count": 73,
   "id": "54f1c929-bd65-4edc-82f5-3bfe608e94a0",
   "metadata": {},
   "outputs": [],
   "source": [
    "cirA = Circle(4, \"blue\")"
   ]
  },
  {
   "cell_type": "code",
   "execution_count": 74,
   "id": "a5c4258f-51ac-4d28-b7d3-28d75cba67cd",
   "metadata": {},
   "outputs": [],
   "source": [
    "cirB = Circle(5, \"orange\")"
   ]
  },
  {
   "cell_type": "code",
   "execution_count": 75,
   "id": "94e78634-ddec-4c5d-ab95-890b275ea744",
   "metadata": {},
   "outputs": [
    {
     "data": {
      "text/plain": [
       "True"
      ]
     },
     "execution_count": 75,
     "metadata": {},
     "output_type": "execute_result"
    }
   ],
   "source": [
    "cirB.__gt__(cirA)"
   ]
  },
  {
   "cell_type": "code",
   "execution_count": 81,
   "id": "8b802b47-8cfb-4511-87fa-be0bcd2bd20e",
   "metadata": {},
   "outputs": [
    {
     "data": {
      "text/plain": [
       "False"
      ]
     },
     "execution_count": 81,
     "metadata": {},
     "output_type": "execute_result"
    }
   ],
   "source": [
    "cirB < cirA"
   ]
  },
  {
   "cell_type": "code",
   "execution_count": 80,
   "id": "9f07752f-3cf8-4953-b195-813812f7300e",
   "metadata": {},
   "outputs": [
    {
     "data": {
      "text/plain": [
       "True"
      ]
     },
     "execution_count": 80,
     "metadata": {},
     "output_type": "execute_result"
    }
   ],
   "source": [
    "cirA < cirB"
   ]
  },
  {
   "cell_type": "code",
   "execution_count": 83,
   "id": "1327fad9-08dd-4e29-b94e-fdceaf0e548d",
   "metadata": {},
   "outputs": [],
   "source": [
    "my_list = [2,3,4,5]"
   ]
  },
  {
   "cell_type": "code",
   "execution_count": 84,
   "id": "0e86a4bd-c4ed-4f7c-a6e8-00050a6b1b4d",
   "metadata": {},
   "outputs": [],
   "source": [
    "iterator = iter(my_list)"
   ]
  },
  {
   "cell_type": "code",
   "execution_count": 85,
   "id": "240f9063-d255-4172-a426-0886a5a391b9",
   "metadata": {},
   "outputs": [
    {
     "name": "stdout",
     "output_type": "stream",
     "text": [
      "<list_iterator object at 0x000001A735F2F430>\n"
     ]
    }
   ],
   "source": [
    "print(iterator)"
   ]
  },
  {
   "cell_type": "code",
   "execution_count": 99,
   "id": "503ef171-2a8f-4e4c-bf67-e3512ee52839",
   "metadata": {},
   "outputs": [],
   "source": [
    "class Bubble:\n",
    "\n",
    "    def __init__(self, radius, material):\n",
    "        \"\"\"\n",
    "        Create a perfectly spherical bubble object that may contain a prize.\n",
    "\n",
    "        Attributes:\n",
    "        radius (float): distance from center to edge of bubble.\n",
    "        material (string): composition description of bubble.\n",
    "        contents (list): list of item(s) contained within a given bubble.\n",
    "        \"\"\"\n",
    "        self.radius = radius\n",
    "        self.material = material\n",
    "        self.contents = []\n",
    "\n",
    "    def __add__(self, other):\n",
    "        \"\"\"\n",
    "        additive attributes of an actual bubble disregarded, method creates new bubble with exagerated size\n",
    "        \"\"\"\n",
    "        return Bubble((self.radius + other.radius),\"Blend\")\n",
    "\n",
    "    def __eq__(self, other):\n",
    "        \"\"\"Compares all attributes for equality\"\"\"\n",
    "        return (self.radius == other.radius) and (self.material == other.material) and (self.contents == other.contents)\n",
    "\n",
    "    def __ne__(self, other):\n",
    "        \"\"\"Compares all attributes for inequality\"\"\"\n",
    "        return (self.ratius != other.radius) or (self.material == other.material) or (self.contents != other.contents)\n",
    "\n",
    "    \n",
    "        "
   ]
  },
  {
   "cell_type": "code",
   "execution_count": 96,
   "id": "f404f5ef-b714-4a12-9b27-895b65ca076a",
   "metadata": {},
   "outputs": [],
   "source": [
    "ba = Bubble(4, \"soap\")"
   ]
  },
  {
   "cell_type": "code",
   "execution_count": 97,
   "id": "71598762-6f71-4ff9-9e18-e8c904a8c93b",
   "metadata": {},
   "outputs": [],
   "source": [
    "bz = ba + ba"
   ]
  },
  {
   "cell_type": "code",
   "execution_count": 100,
   "id": "31beb84f-3a76-4cd5-9ede-3ea5e448fb52",
   "metadata": {},
   "outputs": [
    {
     "data": {
      "text/plain": [
       "True"
      ]
     },
     "execution_count": 100,
     "metadata": {},
     "output_type": "execute_result"
    }
   ],
   "source": [
    "ba != bz"
   ]
  },
  {
   "cell_type": "markdown",
   "id": "05db04b9-c9d4-4d71-9698-85e790a7080e",
   "metadata": {},
   "source": [
    "# S18 DataStructures"
   ]
  },
  {
   "cell_type": "code",
   "execution_count": 19,
   "id": "dbfaca23-c50c-476e-a651-eb2d2dbcce46",
   "metadata": {},
   "outputs": [],
   "source": [
    "class Node:\n",
    "\n",
    "    def __init__(self, value, next_node=None): #parameters named \"next\" prevent use of builtin function (shadowing)\n",
    "        self._value = value\n",
    "        self._next = next_node #an instance attribute wont have this override effect\n",
    "\n",
    "    @property\n",
    "    def value(self):\n",
    "        return self._value\n",
    "\n",
    "    @value.setter\n",
    "    def value(self, new_value):\n",
    "        self._value = new_value\n",
    "\n",
    "    @property\n",
    "    def next(self):\n",
    "        return self._next\n",
    "\n",
    "    @next.setter\n",
    "    def next(self, new_next):\n",
    "        self._next = new_next"
   ]
  },
  {
   "cell_type": "code",
   "execution_count": 21,
   "id": "ecf3978f-e3b3-4132-95e5-dfbd9f923d6e",
   "metadata": {},
   "outputs": [],
   "source": [
    "class LinkedList:\n",
    "\n",
    "    def __init__(self):\n",
    "        self.head = None\n",
    "\n",
    "    def insert_node(self, value):\n",
    "        new_node = Node(value)\n",
    "\n",
    "        if self.head is None:\n",
    "            self.head = new_node\n",
    "            print(\"a\")\n",
    "        elif self.head.value >= value:\n",
    "            new_node.next = self.head\n",
    "            self.head = new_node\n",
    "            print(\"b\")\n",
    "        else:\n",
    "            previous = self.head\n",
    "            runner = self.head.next\n",
    "            print(\"c\")\n",
    "            while(runner is not None) and (value > runner.value):\n",
    "                previous = runner\n",
    "                runner = runner.next\n",
    "\n",
    "            new_node.next = runner\n",
    "            previous.next = new_node\n",
    "\n",
    "    def detail_nodes(self):\n",
    "        runner = self.head\n",
    "        counter = 0\n",
    "        while runner is not None:\n",
    "            print(runner.value, end=\" \")\n",
    "            runner = runner.next\n",
    "            counter += 1\n",
    "        print()\n",
    "        print(counter) # end to list them on a single line will require a standard line break outside of the loop to display the next print correctly\n",
    "\n",
    "    def count_nodes(self):\n",
    "        return self.recursive_count(self.head)\n",
    "    \n",
    "    def recursive_count(self, node):\n",
    "        if node is None:\n",
    "            return 0\n",
    "        else:\n",
    "            return 1 + self.recursive_count(node.next)\n",
    "\n",
    "    def find_node(self, target_val):\n",
    "        runner = self.head\n",
    "        \n",
    "        while runner is not None:\n",
    "            if runner.value == target_val:\n",
    "                return True# else: is ommited because a return will break the loop, else is redundent\n",
    "            runner = runner.next\n",
    "        \n",
    "        return False\n",
    "\n",
    "    def delete_node(self, target_val):\n",
    "        if self.head is None:\n",
    "            return False\n",
    "        elif self.head.value == target_val:\n",
    "            self.head = self.head.next\n",
    "            return True\n",
    "        else:\n",
    "            previous = self.head\n",
    "            runner = self.head.next\n",
    "            \n",
    "            while (runner is not None) and (target_val > runner.value):\n",
    "                previous = runner\n",
    "                runner = runner.next\n",
    "\n",
    "            if (runner is not None) and (runner.value == target_value):\n",
    "                previous.next = runner.next\n",
    "                return True\n",
    "            else:\n",
    "                return False\n",
    "        \n",
    "    # Wrapper Method\n",
    "    def print_reversed(self):\n",
    "        self.print_reversed_recursive(self.head)\n",
    "     \n",
    "    # Recursive Method\n",
    "    def print_reversed_recursive(self, node):\n",
    "        if node is not None:\n",
    "            self.print_reversed_recursive(node.next)\n",
    "            print(node.value, end=\" \")\n",
    "    "
   ]
  },
  {
   "cell_type": "code",
   "execution_count": 22,
   "id": "97f5fdfc-07c0-4241-8ae8-2b7217a70ebe",
   "metadata": {},
   "outputs": [],
   "source": [
    "my_llist = LinkedList()"
   ]
  },
  {
   "cell_type": "code",
   "execution_count": 23,
   "id": "32e89dd2-84a5-4e1d-bf54-d4aa85693618",
   "metadata": {},
   "outputs": [
    {
     "name": "stdout",
     "output_type": "stream",
     "text": [
      "a\n",
      "c\n",
      "c\n",
      "c\n",
      "c\n",
      "c\n"
     ]
    }
   ],
   "source": [
    "my_llist.insert_node(3)\n",
    "my_llist.insert_node(5)\n",
    "my_llist.insert_node(8)\n",
    "my_llist.insert_node(15)\n",
    "my_llist.insert_node(26)\n",
    "my_llist.insert_node(35)"
   ]
  },
  {
   "cell_type": "code",
   "execution_count": 24,
   "id": "8ae56a03-90ea-4701-abb0-d197028a2207",
   "metadata": {},
   "outputs": [
    {
     "name": "stdout",
     "output_type": "stream",
     "text": [
      "35 26 15 8 5 3 "
     ]
    }
   ],
   "source": [
    "my_llist.print_reversed()"
   ]
  },
  {
   "cell_type": "code",
   "execution_count": 17,
   "id": "3e162f36-5805-409d-b784-033890ee50d4",
   "metadata": {},
   "outputs": [
    {
     "name": "stdout",
     "output_type": "stream",
     "text": [
      "5 8 15 26 35 \n",
      "5\n"
     ]
    }
   ],
   "source": [
    "my_llist.detail_nodes()"
   ]
  },
  {
   "cell_type": "code",
   "execution_count": 18,
   "id": "c521907b-f758-4bd7-a753-b149c5a8f042",
   "metadata": {},
   "outputs": [],
   "source": [
    "del(my_llist)"
   ]
  },
  {
   "cell_type": "code",
   "execution_count": null,
   "id": "df6ab012-f76b-415b-8a9d-091ba1186fbd",
   "metadata": {},
   "outputs": [],
   "source": []
  }
 ],
 "metadata": {
  "kernelspec": {
   "display_name": "Python 3 (ipykernel)",
   "language": "python",
   "name": "python3"
  },
  "language_info": {
   "codemirror_mode": {
    "name": "ipython",
    "version": 3
   },
   "file_extension": ".py",
   "mimetype": "text/x-python",
   "name": "python",
   "nbconvert_exporter": "python",
   "pygments_lexer": "ipython3",
   "version": "3.11.7"
  }
 },
 "nbformat": 4,
 "nbformat_minor": 5
}
