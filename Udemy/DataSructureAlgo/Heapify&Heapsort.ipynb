{
 "cells": [
  {
   "cell_type": "code",
   "execution_count": 5,
   "id": "ee99beec-0b03-4962-8289-7f37026e98fa",
   "metadata": {},
   "outputs": [],
   "source": [
    "def heap_sort(array):\n",
    "    heapify(array)\n",
    "    for end_idx in range(len(array) - 1, 0, -1):\n",
    "        array[0], array[end_idx] = array[end_idx], array[0]\n",
    "        movedown(array, 0, end_idx - 1)\n",
    "    return array"
   ]
  },
  {
   "cell_type": "code",
   "execution_count": 4,
   "id": "f32f479e-0843-4011-8b1b-3b028a326534",
   "metadata": {},
   "outputs": [],
   "source": [
    "def heapify(array):\n",
    "    last_nonleaf_idx = len(array)//2 - 1\n",
    "    for i in range(last_nonleaf_idx, -1, -1):\n",
    "        move_down(array, i, len(array) - 1)\n",
    "    return array"
   ]
  },
  {
   "cell_type": "code",
   "execution_count": 3,
   "id": "7d354434-3314-4fe5-b245-3da1081bf933",
   "metadata": {},
   "outputs": [],
   "source": [
    "def move_down(array, start_idx, end_idx):\n",
    "    child_idx - 2 * start_idx + 1\n",
    "    while  child_idx <= end_idx:\n",
    "        if child_idx < end_idx and array[child_idx] < array[child_idx]:\n",
    "            child_idx += 1\n",
    "        if array[start_idx] < array[child_idx]:\n",
    "            array[start_idx], array[child_idx] = array[child_idx], array[start_idx]\n",
    "            start_idx = child_idx\n",
    "            child_idx = 2 * start_idx + 1\n",
    "        else:\n",
    "            break"
   ]
  },
  {
   "cell_type": "code",
   "execution_count": null,
   "id": "e3fffe2e-4b0f-451c-b606-fc5b80057f21",
   "metadata": {},
   "outputs": [],
   "source": []
  }
 ],
 "metadata": {
  "kernelspec": {
   "display_name": "Python 3 (ipykernel)",
   "language": "python",
   "name": "python3"
  },
  "language_info": {
   "codemirror_mode": {
    "name": "ipython",
    "version": 3
   },
   "file_extension": ".py",
   "mimetype": "text/x-python",
   "name": "python",
   "nbconvert_exporter": "python",
   "pygments_lexer": "ipython3",
   "version": "3.11.7"
  }
 },
 "nbformat": 4,
 "nbformat_minor": 5
}
