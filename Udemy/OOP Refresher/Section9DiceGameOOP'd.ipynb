{
 "cells": [
  {
   "cell_type": "code",
   "execution_count": 9,
   "id": "3621835e-7de9-4759-9661-86890ec1b7bf",
   "metadata": {},
   "outputs": [],
   "source": [
    "import random"
   ]
  },
  {
   "cell_type": "code",
   "execution_count": 10,
   "id": "6363bcff-c3e9-4d6f-b25b-5e89d9fe5066",
   "metadata": {},
   "outputs": [],
   "source": [
    "class Die:\n",
    "\n",
    "    def __init__(self, num_sides=6):\n",
    "        if isinstance(num_sides, int) and num_sides > 1:\n",
    "            self._num_sides = num_sides\n",
    "            self._value = None\n",
    "        else:\n",
    "            print(\"please enter a valid number of sides\")\n",
    "\n",
    "    @property\n",
    "    def value(self):\n",
    "        return self._value \n",
    "\n",
    "    def roll(self):\n",
    "        new_value = random.randint(1,self._num_sides)\n",
    "        self._value = new_value\n",
    "        return new_value\n"
   ]
  },
  {
   "cell_type": "code",
   "execution_count": 11,
   "id": "1f20334b-3a6c-4831-9463-4596d55cc2e5",
   "metadata": {},
   "outputs": [],
   "source": [
    "class Player:\n",
    "\n",
    "    def __init__(self, die, is_computer=False):\n",
    "        self._counter = 10\n",
    "        self._die = die\n",
    "        self._is_computer = is_computer\n",
    "\n",
    "    @property\n",
    "    def die(self):\n",
    "        return self._die\n",
    "\n",
    "    @property\n",
    "    def is_computer(self):\n",
    "        return self._is_computer\n",
    "\n",
    "    @property\n",
    "    def counter(self):\n",
    "        return self._counter\n",
    "    \n",
    "    def decrement_counter(self):\n",
    "        self._counter -= 1\n",
    "\n",
    "    def increment_counter(self):\n",
    "        self._counter += 1\n",
    "\n",
    "    def roll_die(self):\n",
    "        return self._die.roll()"
   ]
  },
  {
   "cell_type": "code",
   "execution_count": 20,
   "id": "622a8d04-b516-49b5-91b6-872eeb41aaf5",
   "metadata": {},
   "outputs": [],
   "source": [
    "class DiceGame:\n",
    "\n",
    "    def __init__(self, player, computer):\n",
    "        self._player = player\n",
    "        self._computer = computer\n",
    "\n",
    "    def play(self):\n",
    "        print(\"\"\"+=+=+=+=+=+=+=+=+=+=+\n",
    "ULTRA_DICE_GAME_TIME!\n",
    "+=+=+=+=+=+=+=+=+=+=+\"\"\")\n",
    "\n",
    "        while True:\n",
    "            self.play_round()\n",
    "            game_over = self._check_game_over()\n",
    "            if game_over:\n",
    "                break\n",
    "\n",
    "    def update_counters(self, winner, loser):\n",
    "        winner.decrement_counter()\n",
    "        loser.increment_counter()\n",
    "\n",
    "    \n",
    "    def play_round(self):\n",
    "        # Welcome the user\n",
    "        self.print_round_welcome()\n",
    "        \n",
    "        # Dice rolls\n",
    "        player_value = self._player.roll_die()\n",
    "        computer_value = self._computer.roll_die()\n",
    "\n",
    "        # Display values\n",
    "        self.show_dice(player_value, computer_value)\n",
    "\n",
    "        #\n",
    "        self.call_winner(player_value, computer_value)\n",
    "    \n",
    "    def call_winner(self, player_value, computer_value):\n",
    "        # Determine Round Winner\n",
    "        if player_value > computer_value:\n",
    "            print(\"You win\")\n",
    "            self.update_counters(winner=self._player, loser=self._computer)\n",
    "        elif player_value < computer_value:\n",
    "            print(\"Dirty cheating computer wins!\")\n",
    "            self.update_counters(winner=self._computer, loser=self._player)\n",
    "        else:\n",
    "            print(\"Tie!\")\n",
    "        self.show_counters()\n",
    "\n",
    "    def print_round_welcome(self):\n",
    "        # Welcome the player\n",
    "        print(\"==== New Round ====\")\n",
    "        input(\"press any key to roll the dice!\")\n",
    "        \n",
    "    def show_dice(self, player_value, computer_value):\n",
    "        # Display values\n",
    "        print(f\"Your die landed on {player_value}\")\n",
    "        print(f\"Opponent die landed on {computer_value}\")\n",
    "\n",
    "    def show_counters(self):\n",
    "        print(f\"Your score: {self._player.counter} --- Computer: {self._computer.counter}\")\n",
    "\n",
    "    def _check_game_over(self):\n",
    "        if self._player.counter == 0:\n",
    "            self._show_game_over(self._player)\n",
    "            return True\n",
    "        elif self._computer.counter ==0:\n",
    "            self._show_game_over(self._computer)\n",
    "            return True\n",
    "        else:\n",
    "            return False\n",
    "\n",
    "    def _show_game_over(self, winner):\n",
    "        if winner.is_computer:\n",
    "            test_string = \"SORRY!\"\n",
    "        else:\n",
    "            test_string = \"WoooHoo #1 dice roller!\"\n",
    "\n",
    "        self._test_print(test_string)\n",
    "\n",
    "    def _test_print(self, tst_str):\n",
    "        print(\"2w342324\")\n",
    "        print(tst_str)\n",
    "        print(\"332423a\")\n",
    "        "
   ]
  },
  {
   "cell_type": "code",
   "execution_count": 21,
   "id": "0911ee98-6148-4daa-b5fd-9bb69aaaba24",
   "metadata": {},
   "outputs": [],
   "source": [
    "my_die = Die()\n",
    "cpu_die = Die()\n",
    "my_player = Player(my_die)\n",
    "cpu_player = Player(cpu_die, True)"
   ]
  },
  {
   "cell_type": "code",
   "execution_count": 22,
   "id": "147601dd-1e0f-48cc-8edd-df161aa6db73",
   "metadata": {},
   "outputs": [],
   "source": [
    "game = DiceGame(my_player, cpu_player)"
   ]
  },
  {
   "cell_type": "code",
   "execution_count": 24,
   "id": "12475d17-8de0-40a5-a042-ad7e99461aa8",
   "metadata": {},
   "outputs": [
    {
     "name": "stdout",
     "output_type": "stream",
     "text": [
      "+=+=+=+=+=+=+=+=+=+=+\n",
      "ULTRA_DICE_GAME_TIME!\n",
      "+=+=+=+=+=+=+=+=+=+=+\n",
      "==== New Round ====\n"
     ]
    },
    {
     "name": "stdin",
     "output_type": "stream",
     "text": [
      "press any key to roll the dice! \n"
     ]
    },
    {
     "name": "stdout",
     "output_type": "stream",
     "text": [
      "Your die landed on 2\n",
      "Opponent die landed on 5\n",
      "Dirty cheating computer wins!\n",
      "Your score: 11 --- Computer: 9\n",
      "==== New Round ====\n"
     ]
    },
    {
     "name": "stdin",
     "output_type": "stream",
     "text": [
      "press any key to roll the dice! \n"
     ]
    },
    {
     "name": "stdout",
     "output_type": "stream",
     "text": [
      "Your die landed on 4\n",
      "Opponent die landed on 5\n",
      "Dirty cheating computer wins!\n",
      "Your score: 12 --- Computer: 8\n",
      "==== New Round ====\n"
     ]
    },
    {
     "name": "stdin",
     "output_type": "stream",
     "text": [
      "press any key to roll the dice! \n"
     ]
    },
    {
     "name": "stdout",
     "output_type": "stream",
     "text": [
      "Your die landed on 5\n",
      "Opponent die landed on 3\n",
      "You win\n",
      "Your score: 11 --- Computer: 9\n",
      "==== New Round ====\n"
     ]
    },
    {
     "name": "stdin",
     "output_type": "stream",
     "text": [
      "press any key to roll the dice! \n"
     ]
    },
    {
     "name": "stdout",
     "output_type": "stream",
     "text": [
      "Your die landed on 6\n",
      "Opponent die landed on 6\n",
      "Tie!\n",
      "Your score: 11 --- Computer: 9\n",
      "==== New Round ====\n"
     ]
    },
    {
     "name": "stdin",
     "output_type": "stream",
     "text": [
      "press any key to roll the dice! \n"
     ]
    },
    {
     "name": "stdout",
     "output_type": "stream",
     "text": [
      "Your die landed on 3\n",
      "Opponent die landed on 6\n",
      "Dirty cheating computer wins!\n",
      "Your score: 12 --- Computer: 8\n",
      "==== New Round ====\n"
     ]
    },
    {
     "name": "stdin",
     "output_type": "stream",
     "text": [
      "press any key to roll the dice! \n"
     ]
    },
    {
     "name": "stdout",
     "output_type": "stream",
     "text": [
      "Your die landed on 6\n",
      "Opponent die landed on 6\n",
      "Tie!\n",
      "Your score: 12 --- Computer: 8\n",
      "==== New Round ====\n"
     ]
    },
    {
     "name": "stdin",
     "output_type": "stream",
     "text": [
      "press any key to roll the dice! \n"
     ]
    },
    {
     "name": "stdout",
     "output_type": "stream",
     "text": [
      "Your die landed on 5\n",
      "Opponent die landed on 2\n",
      "You win\n",
      "Your score: 11 --- Computer: 9\n",
      "==== New Round ====\n"
     ]
    },
    {
     "name": "stdin",
     "output_type": "stream",
     "text": [
      "press any key to roll the dice! \n"
     ]
    },
    {
     "name": "stdout",
     "output_type": "stream",
     "text": [
      "Your die landed on 6\n",
      "Opponent die landed on 2\n",
      "You win\n",
      "Your score: 10 --- Computer: 10\n",
      "==== New Round ====\n"
     ]
    },
    {
     "name": "stdin",
     "output_type": "stream",
     "text": [
      "press any key to roll the dice! \n"
     ]
    },
    {
     "name": "stdout",
     "output_type": "stream",
     "text": [
      "Your die landed on 2\n",
      "Opponent die landed on 1\n",
      "You win\n",
      "Your score: 9 --- Computer: 11\n",
      "==== New Round ====\n"
     ]
    },
    {
     "name": "stdin",
     "output_type": "stream",
     "text": [
      "press any key to roll the dice! \n"
     ]
    },
    {
     "name": "stdout",
     "output_type": "stream",
     "text": [
      "Your die landed on 2\n",
      "Opponent die landed on 2\n",
      "Tie!\n",
      "Your score: 9 --- Computer: 11\n",
      "==== New Round ====\n"
     ]
    },
    {
     "name": "stdin",
     "output_type": "stream",
     "text": [
      "press any key to roll the dice! \n"
     ]
    },
    {
     "name": "stdout",
     "output_type": "stream",
     "text": [
      "Your die landed on 5\n",
      "Opponent die landed on 6\n",
      "Dirty cheating computer wins!\n",
      "Your score: 10 --- Computer: 10\n",
      "==== New Round ====\n"
     ]
    },
    {
     "name": "stdin",
     "output_type": "stream",
     "text": [
      "press any key to roll the dice! \n"
     ]
    },
    {
     "name": "stdout",
     "output_type": "stream",
     "text": [
      "Your die landed on 6\n",
      "Opponent die landed on 3\n",
      "You win\n",
      "Your score: 9 --- Computer: 11\n",
      "==== New Round ====\n"
     ]
    },
    {
     "name": "stdin",
     "output_type": "stream",
     "text": [
      "press any key to roll the dice! \n"
     ]
    },
    {
     "name": "stdout",
     "output_type": "stream",
     "text": [
      "Your die landed on 4\n",
      "Opponent die landed on 2\n",
      "You win\n",
      "Your score: 8 --- Computer: 12\n",
      "==== New Round ====\n"
     ]
    },
    {
     "name": "stdin",
     "output_type": "stream",
     "text": [
      "press any key to roll the dice! \n"
     ]
    },
    {
     "name": "stdout",
     "output_type": "stream",
     "text": [
      "Your die landed on 1\n",
      "Opponent die landed on 1\n",
      "Tie!\n",
      "Your score: 8 --- Computer: 12\n",
      "==== New Round ====\n"
     ]
    },
    {
     "name": "stdin",
     "output_type": "stream",
     "text": [
      "press any key to roll the dice! \n"
     ]
    },
    {
     "name": "stdout",
     "output_type": "stream",
     "text": [
      "Your die landed on 3\n",
      "Opponent die landed on 2\n",
      "You win\n",
      "Your score: 7 --- Computer: 13\n",
      "==== New Round ====\n"
     ]
    },
    {
     "name": "stdin",
     "output_type": "stream",
     "text": [
      "press any key to roll the dice! \n"
     ]
    },
    {
     "name": "stdout",
     "output_type": "stream",
     "text": [
      "Your die landed on 1\n",
      "Opponent die landed on 3\n",
      "Dirty cheating computer wins!\n",
      "Your score: 8 --- Computer: 12\n",
      "==== New Round ====\n"
     ]
    },
    {
     "name": "stdin",
     "output_type": "stream",
     "text": [
      "press any key to roll the dice! \n"
     ]
    },
    {
     "name": "stdout",
     "output_type": "stream",
     "text": [
      "Your die landed on 4\n",
      "Opponent die landed on 3\n",
      "You win\n",
      "Your score: 7 --- Computer: 13\n",
      "==== New Round ====\n"
     ]
    },
    {
     "name": "stdin",
     "output_type": "stream",
     "text": [
      "press any key to roll the dice! \n"
     ]
    },
    {
     "name": "stdout",
     "output_type": "stream",
     "text": [
      "Your die landed on 5\n",
      "Opponent die landed on 3\n",
      "You win\n",
      "Your score: 6 --- Computer: 14\n",
      "==== New Round ====\n"
     ]
    },
    {
     "name": "stdin",
     "output_type": "stream",
     "text": [
      "press any key to roll the dice! \n"
     ]
    },
    {
     "name": "stdout",
     "output_type": "stream",
     "text": [
      "Your die landed on 4\n",
      "Opponent die landed on 2\n",
      "You win\n",
      "Your score: 5 --- Computer: 15\n",
      "==== New Round ====\n"
     ]
    },
    {
     "name": "stdin",
     "output_type": "stream",
     "text": [
      "press any key to roll the dice! \n"
     ]
    },
    {
     "name": "stdout",
     "output_type": "stream",
     "text": [
      "Your die landed on 2\n",
      "Opponent die landed on 1\n",
      "You win\n",
      "Your score: 4 --- Computer: 16\n",
      "==== New Round ====\n"
     ]
    },
    {
     "name": "stdin",
     "output_type": "stream",
     "text": [
      "press any key to roll the dice! \n"
     ]
    },
    {
     "name": "stdout",
     "output_type": "stream",
     "text": [
      "Your die landed on 5\n",
      "Opponent die landed on 6\n",
      "Dirty cheating computer wins!\n",
      "Your score: 5 --- Computer: 15\n",
      "==== New Round ====\n"
     ]
    },
    {
     "name": "stdin",
     "output_type": "stream",
     "text": [
      "press any key to roll the dice! \n"
     ]
    },
    {
     "name": "stdout",
     "output_type": "stream",
     "text": [
      "Your die landed on 6\n",
      "Opponent die landed on 3\n",
      "You win\n",
      "Your score: 4 --- Computer: 16\n",
      "==== New Round ====\n"
     ]
    },
    {
     "name": "stdin",
     "output_type": "stream",
     "text": [
      "press any key to roll the dice! \n"
     ]
    },
    {
     "name": "stdout",
     "output_type": "stream",
     "text": [
      "Your die landed on 2\n",
      "Opponent die landed on 4\n",
      "Dirty cheating computer wins!\n",
      "Your score: 5 --- Computer: 15\n",
      "==== New Round ====\n"
     ]
    },
    {
     "name": "stdin",
     "output_type": "stream",
     "text": [
      "press any key to roll the dice! \n"
     ]
    },
    {
     "name": "stdout",
     "output_type": "stream",
     "text": [
      "Your die landed on 5\n",
      "Opponent die landed on 3\n",
      "You win\n",
      "Your score: 4 --- Computer: 16\n",
      "==== New Round ====\n"
     ]
    },
    {
     "name": "stdin",
     "output_type": "stream",
     "text": [
      "press any key to roll the dice! \n"
     ]
    },
    {
     "name": "stdout",
     "output_type": "stream",
     "text": [
      "Your die landed on 6\n",
      "Opponent die landed on 6\n",
      "Tie!\n",
      "Your score: 4 --- Computer: 16\n",
      "==== New Round ====\n"
     ]
    },
    {
     "name": "stdin",
     "output_type": "stream",
     "text": [
      "press any key to roll the dice! \n"
     ]
    },
    {
     "name": "stdout",
     "output_type": "stream",
     "text": [
      "Your die landed on 3\n",
      "Opponent die landed on 4\n",
      "Dirty cheating computer wins!\n",
      "Your score: 5 --- Computer: 15\n",
      "==== New Round ====\n"
     ]
    },
    {
     "name": "stdin",
     "output_type": "stream",
     "text": [
      "press any key to roll the dice! \n"
     ]
    },
    {
     "name": "stdout",
     "output_type": "stream",
     "text": [
      "Your die landed on 4\n",
      "Opponent die landed on 6\n",
      "Dirty cheating computer wins!\n",
      "Your score: 6 --- Computer: 14\n",
      "==== New Round ====\n"
     ]
    },
    {
     "name": "stdin",
     "output_type": "stream",
     "text": [
      "press any key to roll the dice! \n"
     ]
    },
    {
     "name": "stdout",
     "output_type": "stream",
     "text": [
      "Your die landed on 6\n",
      "Opponent die landed on 3\n",
      "You win\n",
      "Your score: 5 --- Computer: 15\n",
      "==== New Round ====\n"
     ]
    },
    {
     "name": "stdin",
     "output_type": "stream",
     "text": [
      "press any key to roll the dice! \n"
     ]
    },
    {
     "name": "stdout",
     "output_type": "stream",
     "text": [
      "Your die landed on 3\n",
      "Opponent die landed on 2\n",
      "You win\n",
      "Your score: 4 --- Computer: 16\n",
      "==== New Round ====\n"
     ]
    },
    {
     "name": "stdin",
     "output_type": "stream",
     "text": [
      "press any key to roll the dice! \n"
     ]
    },
    {
     "name": "stdout",
     "output_type": "stream",
     "text": [
      "Your die landed on 3\n",
      "Opponent die landed on 5\n",
      "Dirty cheating computer wins!\n",
      "Your score: 5 --- Computer: 15\n",
      "==== New Round ====\n"
     ]
    },
    {
     "name": "stdin",
     "output_type": "stream",
     "text": [
      "press any key to roll the dice! \n"
     ]
    },
    {
     "name": "stdout",
     "output_type": "stream",
     "text": [
      "Your die landed on 4\n",
      "Opponent die landed on 5\n",
      "Dirty cheating computer wins!\n",
      "Your score: 6 --- Computer: 14\n",
      "==== New Round ====\n"
     ]
    },
    {
     "name": "stdin",
     "output_type": "stream",
     "text": [
      "press any key to roll the dice! \n"
     ]
    },
    {
     "name": "stdout",
     "output_type": "stream",
     "text": [
      "Your die landed on 1\n",
      "Opponent die landed on 1\n",
      "Tie!\n",
      "Your score: 6 --- Computer: 14\n",
      "==== New Round ====\n"
     ]
    },
    {
     "name": "stdin",
     "output_type": "stream",
     "text": [
      "press any key to roll the dice! \n"
     ]
    },
    {
     "name": "stdout",
     "output_type": "stream",
     "text": [
      "Your die landed on 3\n",
      "Opponent die landed on 6\n",
      "Dirty cheating computer wins!\n",
      "Your score: 7 --- Computer: 13\n",
      "==== New Round ====\n"
     ]
    },
    {
     "name": "stdin",
     "output_type": "stream",
     "text": [
      "press any key to roll the dice! \n"
     ]
    },
    {
     "name": "stdout",
     "output_type": "stream",
     "text": [
      "Your die landed on 2\n",
      "Opponent die landed on 5\n",
      "Dirty cheating computer wins!\n",
      "Your score: 8 --- Computer: 12\n",
      "==== New Round ====\n"
     ]
    },
    {
     "name": "stdin",
     "output_type": "stream",
     "text": [
      "press any key to roll the dice! \n"
     ]
    },
    {
     "name": "stdout",
     "output_type": "stream",
     "text": [
      "Your die landed on 6\n",
      "Opponent die landed on 2\n",
      "You win\n",
      "Your score: 7 --- Computer: 13\n",
      "==== New Round ====\n"
     ]
    },
    {
     "name": "stdin",
     "output_type": "stream",
     "text": [
      "press any key to roll the dice! \n"
     ]
    },
    {
     "name": "stdout",
     "output_type": "stream",
     "text": [
      "Your die landed on 1\n",
      "Opponent die landed on 1\n",
      "Tie!\n",
      "Your score: 7 --- Computer: 13\n",
      "==== New Round ====\n"
     ]
    },
    {
     "name": "stdin",
     "output_type": "stream",
     "text": [
      "press any key to roll the dice! \n"
     ]
    },
    {
     "name": "stdout",
     "output_type": "stream",
     "text": [
      "Your die landed on 3\n",
      "Opponent die landed on 3\n",
      "Tie!\n",
      "Your score: 7 --- Computer: 13\n",
      "==== New Round ====\n"
     ]
    },
    {
     "name": "stdin",
     "output_type": "stream",
     "text": [
      "press any key to roll the dice! \n"
     ]
    },
    {
     "name": "stdout",
     "output_type": "stream",
     "text": [
      "Your die landed on 4\n",
      "Opponent die landed on 5\n",
      "Dirty cheating computer wins!\n",
      "Your score: 8 --- Computer: 12\n",
      "==== New Round ====\n"
     ]
    },
    {
     "name": "stdin",
     "output_type": "stream",
     "text": [
      "press any key to roll the dice! \n"
     ]
    },
    {
     "name": "stdout",
     "output_type": "stream",
     "text": [
      "Your die landed on 5\n",
      "Opponent die landed on 5\n",
      "Tie!\n",
      "Your score: 8 --- Computer: 12\n",
      "==== New Round ====\n"
     ]
    },
    {
     "name": "stdin",
     "output_type": "stream",
     "text": [
      "press any key to roll the dice! \n"
     ]
    },
    {
     "name": "stdout",
     "output_type": "stream",
     "text": [
      "Your die landed on 6\n",
      "Opponent die landed on 3\n",
      "You win\n",
      "Your score: 7 --- Computer: 13\n",
      "==== New Round ====\n"
     ]
    },
    {
     "name": "stdin",
     "output_type": "stream",
     "text": [
      "press any key to roll the dice! \n"
     ]
    },
    {
     "name": "stdout",
     "output_type": "stream",
     "text": [
      "Your die landed on 6\n",
      "Opponent die landed on 5\n",
      "You win\n",
      "Your score: 6 --- Computer: 14\n",
      "==== New Round ====\n"
     ]
    },
    {
     "name": "stdin",
     "output_type": "stream",
     "text": [
      "press any key to roll the dice! \n"
     ]
    },
    {
     "name": "stdout",
     "output_type": "stream",
     "text": [
      "Your die landed on 6\n",
      "Opponent die landed on 6\n",
      "Tie!\n",
      "Your score: 6 --- Computer: 14\n",
      "==== New Round ====\n"
     ]
    },
    {
     "name": "stdin",
     "output_type": "stream",
     "text": [
      "press any key to roll the dice! \n"
     ]
    },
    {
     "name": "stdout",
     "output_type": "stream",
     "text": [
      "Your die landed on 1\n",
      "Opponent die landed on 6\n",
      "Dirty cheating computer wins!\n",
      "Your score: 7 --- Computer: 13\n",
      "==== New Round ====\n"
     ]
    },
    {
     "name": "stdin",
     "output_type": "stream",
     "text": [
      "press any key to roll the dice! \n"
     ]
    },
    {
     "name": "stdout",
     "output_type": "stream",
     "text": [
      "Your die landed on 6\n",
      "Opponent die landed on 5\n",
      "You win\n",
      "Your score: 6 --- Computer: 14\n",
      "==== New Round ====\n"
     ]
    },
    {
     "name": "stdin",
     "output_type": "stream",
     "text": [
      "press any key to roll the dice! \n"
     ]
    },
    {
     "name": "stdout",
     "output_type": "stream",
     "text": [
      "Your die landed on 3\n",
      "Opponent die landed on 4\n",
      "Dirty cheating computer wins!\n",
      "Your score: 7 --- Computer: 13\n",
      "==== New Round ====\n"
     ]
    },
    {
     "name": "stdin",
     "output_type": "stream",
     "text": [
      "press any key to roll the dice! \n"
     ]
    },
    {
     "name": "stdout",
     "output_type": "stream",
     "text": [
      "Your die landed on 6\n",
      "Opponent die landed on 5\n",
      "You win\n",
      "Your score: 6 --- Computer: 14\n",
      "==== New Round ====\n"
     ]
    },
    {
     "name": "stdin",
     "output_type": "stream",
     "text": [
      "press any key to roll the dice! \n"
     ]
    },
    {
     "name": "stdout",
     "output_type": "stream",
     "text": [
      "Your die landed on 6\n",
      "Opponent die landed on 5\n",
      "You win\n",
      "Your score: 5 --- Computer: 15\n",
      "==== New Round ====\n"
     ]
    },
    {
     "name": "stdin",
     "output_type": "stream",
     "text": [
      "press any key to roll the dice! \n"
     ]
    },
    {
     "name": "stdout",
     "output_type": "stream",
     "text": [
      "Your die landed on 6\n",
      "Opponent die landed on 6\n",
      "Tie!\n",
      "Your score: 5 --- Computer: 15\n",
      "==== New Round ====\n"
     ]
    },
    {
     "name": "stdin",
     "output_type": "stream",
     "text": [
      "press any key to roll the dice! \n"
     ]
    },
    {
     "name": "stdout",
     "output_type": "stream",
     "text": [
      "Your die landed on 1\n",
      "Opponent die landed on 2\n",
      "Dirty cheating computer wins!\n",
      "Your score: 6 --- Computer: 14\n",
      "==== New Round ====\n"
     ]
    },
    {
     "name": "stdin",
     "output_type": "stream",
     "text": [
      "press any key to roll the dice! \n"
     ]
    },
    {
     "name": "stdout",
     "output_type": "stream",
     "text": [
      "Your die landed on 5\n",
      "Opponent die landed on 6\n",
      "Dirty cheating computer wins!\n",
      "Your score: 7 --- Computer: 13\n",
      "==== New Round ====\n"
     ]
    },
    {
     "name": "stdin",
     "output_type": "stream",
     "text": [
      "press any key to roll the dice! \n"
     ]
    },
    {
     "name": "stdout",
     "output_type": "stream",
     "text": [
      "Your die landed on 6\n",
      "Opponent die landed on 4\n",
      "You win\n",
      "Your score: 6 --- Computer: 14\n",
      "==== New Round ====\n"
     ]
    },
    {
     "name": "stdin",
     "output_type": "stream",
     "text": [
      "press any key to roll the dice! \n"
     ]
    },
    {
     "name": "stdout",
     "output_type": "stream",
     "text": [
      "Your die landed on 4\n",
      "Opponent die landed on 2\n",
      "You win\n",
      "Your score: 5 --- Computer: 15\n",
      "==== New Round ====\n"
     ]
    },
    {
     "name": "stdin",
     "output_type": "stream",
     "text": [
      "press any key to roll the dice! \n"
     ]
    },
    {
     "name": "stdout",
     "output_type": "stream",
     "text": [
      "Your die landed on 4\n",
      "Opponent die landed on 4\n",
      "Tie!\n",
      "Your score: 5 --- Computer: 15\n",
      "==== New Round ====\n"
     ]
    },
    {
     "name": "stdin",
     "output_type": "stream",
     "text": [
      "press any key to roll the dice! \n"
     ]
    },
    {
     "name": "stdout",
     "output_type": "stream",
     "text": [
      "Your die landed on 6\n",
      "Opponent die landed on 4\n",
      "You win\n",
      "Your score: 4 --- Computer: 16\n",
      "==== New Round ====\n"
     ]
    },
    {
     "name": "stdin",
     "output_type": "stream",
     "text": [
      "press any key to roll the dice! \n"
     ]
    },
    {
     "name": "stdout",
     "output_type": "stream",
     "text": [
      "Your die landed on 5\n",
      "Opponent die landed on 2\n",
      "You win\n",
      "Your score: 3 --- Computer: 17\n",
      "==== New Round ====\n"
     ]
    },
    {
     "name": "stdin",
     "output_type": "stream",
     "text": [
      "press any key to roll the dice! \n"
     ]
    },
    {
     "name": "stdout",
     "output_type": "stream",
     "text": [
      "Your die landed on 6\n",
      "Opponent die landed on 3\n",
      "You win\n",
      "Your score: 2 --- Computer: 18\n",
      "==== New Round ====\n"
     ]
    },
    {
     "name": "stdin",
     "output_type": "stream",
     "text": [
      "press any key to roll the dice! \n"
     ]
    },
    {
     "name": "stdout",
     "output_type": "stream",
     "text": [
      "Your die landed on 1\n",
      "Opponent die landed on 2\n",
      "Dirty cheating computer wins!\n",
      "Your score: 3 --- Computer: 17\n",
      "==== New Round ====\n"
     ]
    },
    {
     "name": "stdin",
     "output_type": "stream",
     "text": [
      "press any key to roll the dice! \n"
     ]
    },
    {
     "name": "stdout",
     "output_type": "stream",
     "text": [
      "Your die landed on 5\n",
      "Opponent die landed on 4\n",
      "You win\n",
      "Your score: 2 --- Computer: 18\n",
      "==== New Round ====\n"
     ]
    },
    {
     "name": "stdin",
     "output_type": "stream",
     "text": [
      "press any key to roll the dice! \n"
     ]
    },
    {
     "name": "stdout",
     "output_type": "stream",
     "text": [
      "Your die landed on 2\n",
      "Opponent die landed on 4\n",
      "Dirty cheating computer wins!\n",
      "Your score: 3 --- Computer: 17\n",
      "==== New Round ====\n"
     ]
    },
    {
     "name": "stdin",
     "output_type": "stream",
     "text": [
      "press any key to roll the dice! \n"
     ]
    },
    {
     "name": "stdout",
     "output_type": "stream",
     "text": [
      "Your die landed on 2\n",
      "Opponent die landed on 3\n",
      "Dirty cheating computer wins!\n",
      "Your score: 4 --- Computer: 16\n",
      "==== New Round ====\n"
     ]
    },
    {
     "name": "stdin",
     "output_type": "stream",
     "text": [
      "press any key to roll the dice! \n"
     ]
    },
    {
     "name": "stdout",
     "output_type": "stream",
     "text": [
      "Your die landed on 2\n",
      "Opponent die landed on 1\n",
      "You win\n",
      "Your score: 3 --- Computer: 17\n",
      "==== New Round ====\n"
     ]
    },
    {
     "name": "stdin",
     "output_type": "stream",
     "text": [
      "press any key to roll the dice! \n"
     ]
    },
    {
     "name": "stdout",
     "output_type": "stream",
     "text": [
      "Your die landed on 2\n",
      "Opponent die landed on 1\n",
      "You win\n",
      "Your score: 2 --- Computer: 18\n",
      "==== New Round ====\n"
     ]
    },
    {
     "name": "stdin",
     "output_type": "stream",
     "text": [
      "press any key to roll the dice! \n"
     ]
    },
    {
     "name": "stdout",
     "output_type": "stream",
     "text": [
      "Your die landed on 6\n",
      "Opponent die landed on 6\n",
      "Tie!\n",
      "Your score: 2 --- Computer: 18\n",
      "==== New Round ====\n"
     ]
    },
    {
     "name": "stdin",
     "output_type": "stream",
     "text": [
      "press any key to roll the dice! \n"
     ]
    },
    {
     "name": "stdout",
     "output_type": "stream",
     "text": [
      "Your die landed on 3\n",
      "Opponent die landed on 3\n",
      "Tie!\n",
      "Your score: 2 --- Computer: 18\n",
      "==== New Round ====\n"
     ]
    },
    {
     "name": "stdin",
     "output_type": "stream",
     "text": [
      "press any key to roll the dice! \n"
     ]
    },
    {
     "name": "stdout",
     "output_type": "stream",
     "text": [
      "Your die landed on 4\n",
      "Opponent die landed on 6\n",
      "Dirty cheating computer wins!\n",
      "Your score: 3 --- Computer: 17\n",
      "==== New Round ====\n"
     ]
    },
    {
     "name": "stdin",
     "output_type": "stream",
     "text": [
      "press any key to roll the dice! \n"
     ]
    },
    {
     "name": "stdout",
     "output_type": "stream",
     "text": [
      "Your die landed on 4\n",
      "Opponent die landed on 2\n",
      "You win\n",
      "Your score: 2 --- Computer: 18\n",
      "==== New Round ====\n"
     ]
    },
    {
     "name": "stdin",
     "output_type": "stream",
     "text": [
      "press any key to roll the dice! \n"
     ]
    },
    {
     "name": "stdout",
     "output_type": "stream",
     "text": [
      "Your die landed on 2\n",
      "Opponent die landed on 6\n",
      "Dirty cheating computer wins!\n",
      "Your score: 3 --- Computer: 17\n",
      "==== New Round ====\n"
     ]
    },
    {
     "name": "stdin",
     "output_type": "stream",
     "text": [
      "press any key to roll the dice! \n"
     ]
    },
    {
     "name": "stdout",
     "output_type": "stream",
     "text": [
      "Your die landed on 3\n",
      "Opponent die landed on 4\n",
      "Dirty cheating computer wins!\n",
      "Your score: 4 --- Computer: 16\n",
      "==== New Round ====\n"
     ]
    },
    {
     "name": "stdin",
     "output_type": "stream",
     "text": [
      "press any key to roll the dice! \n"
     ]
    },
    {
     "name": "stdout",
     "output_type": "stream",
     "text": [
      "Your die landed on 5\n",
      "Opponent die landed on 3\n",
      "You win\n",
      "Your score: 3 --- Computer: 17\n",
      "==== New Round ====\n"
     ]
    },
    {
     "name": "stdin",
     "output_type": "stream",
     "text": [
      "press any key to roll the dice! \n"
     ]
    },
    {
     "name": "stdout",
     "output_type": "stream",
     "text": [
      "Your die landed on 5\n",
      "Opponent die landed on 4\n",
      "You win\n",
      "Your score: 2 --- Computer: 18\n",
      "==== New Round ====\n"
     ]
    },
    {
     "name": "stdin",
     "output_type": "stream",
     "text": [
      "press any key to roll the dice! \n"
     ]
    },
    {
     "name": "stdout",
     "output_type": "stream",
     "text": [
      "Your die landed on 6\n",
      "Opponent die landed on 2\n",
      "You win\n",
      "Your score: 1 --- Computer: 19\n",
      "==== New Round ====\n"
     ]
    },
    {
     "name": "stdin",
     "output_type": "stream",
     "text": [
      "press any key to roll the dice! \n"
     ]
    },
    {
     "name": "stdout",
     "output_type": "stream",
     "text": [
      "Your die landed on 6\n",
      "Opponent die landed on 1\n",
      "You win\n",
      "Your score: 0 --- Computer: 20\n",
      "2w342324\n",
      "WoooHoo #1 dice roller!\n",
      "332423a\n"
     ]
    }
   ],
   "source": [
    "game.play()"
   ]
  },
  {
   "cell_type": "code",
   "execution_count": null,
   "id": "d4240e09-f9ea-4682-b53b-6dcddfbe828d",
   "metadata": {},
   "outputs": [],
   "source": []
  }
 ],
 "metadata": {
  "kernelspec": {
   "display_name": "Python 3 (ipykernel)",
   "language": "python",
   "name": "python3"
  },
  "language_info": {
   "codemirror_mode": {
    "name": "ipython",
    "version": 3
   },
   "file_extension": ".py",
   "mimetype": "text/x-python",
   "name": "python",
   "nbconvert_exporter": "python",
   "pygments_lexer": "ipython3",
   "version": "3.11.7"
  }
 },
 "nbformat": 4,
 "nbformat_minor": 5
}
