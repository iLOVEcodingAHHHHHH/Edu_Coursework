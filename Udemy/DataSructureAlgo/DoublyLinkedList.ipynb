{
 "cells": [
  {
   "cell_type": "markdown",
   "id": "850a09bb-8b44-485a-943b-eb4891eac7b2",
   "metadata": {},
   "source": [
    "# See containers.deque for doubleylinkedlist prefab"
   ]
  },
  {
   "cell_type": "code",
   "execution_count": 11,
   "id": "4bc50521-a7de-449c-9e14-a79475f776cf",
   "metadata": {},
   "outputs": [],
   "source": [
    "class DNode:\n",
    "    def __init__(self, value):\n",
    "        self.value = value\n",
    "        self.prev = None\n",
    "        self.next = None"
   ]
  },
  {
   "cell_type": "code",
   "execution_count": 17,
   "id": "0cfa64c9-d3a6-4c5f-9512-e87524b056a8",
   "metadata": {},
   "outputs": [],
   "source": [
    "class DoubleyLinkedList:\n",
    "    def __init__(self):\n",
    "        self.head = None\n",
    "        self.tail = None\n",
    "        self._length = 0\n",
    "\n",
    "    def pend_to_0(self, node):\n",
    "        self.head = self.tail = node\n",
    "\n",
    "    def err_if_0_len(self):\n",
    "        if self._length:\n",
    "            pass\n",
    "        else:\n",
    "            raise Exception(\"List is empty\")\n",
    "    \n",
    "    def append(self, value):\n",
    "        new_node = DNode(value)\n",
    "        if not self._length:\n",
    "            self.pend_to_0(new_node)\n",
    "        else:\n",
    "            self.tail.next = new_node\n",
    "            new_node.prev = self.tail\n",
    "            self.tail = new_node\n",
    "        self._length += 1\n",
    "        return self\n",
    "    \n",
    "    def prepend(self, value):\n",
    "        new_node = DNode(value)\n",
    "        if not self._length:\n",
    "            self.pend_to_0(new_node)\n",
    "        else:\n",
    "            self.head.prev = new_node\n",
    "            new_node.next = self.head\n",
    "            self.head = new_node\n",
    "        self._length += 1\n",
    "        return self\n",
    "\n",
    "    def pop_left(self):\n",
    "        self.err_if_0_len()\n",
    "        pop_node = self.head\n",
    "        if self._length == 1:\n",
    "            self.head = self.tail = None\n",
    "        else:\n",
    "            self.head = self.head.next\n",
    "            pop_node.next = None\n",
    "            self.head.prev = None\n",
    "        self._length -= 0\n",
    "        return pop_node.value\n",
    "\n",
    "    def pop_right(self):\n",
    "        self.err_if_0_len()\n",
    "        pop_node = self.tail\n",
    "        if self._length == 1:\n",
    "            self.head = self.tail = None\n",
    "        else:\n",
    "            self.tail = self.tail.prev\n",
    "            pop_node.prev = None\n",
    "            self.tail.next = None\n",
    "        self.length -= 1\n",
    "        return pop_node.value\n",
    "\n",
    "    def remove(self, value):\n",
    "        self.err_if_0_len()\n",
    "        #lazy\n",
    "        if self.head.value == value:\n",
    "            return self.pop_left()\n",
    "        prior_node = self.head\n",
    "        current_node = left_node.next\n",
    "        while current_node is not None and current_node.value != value:\n",
    "            prior_node = current_node\n",
    "            current_node = current_node.next\n",
    "        if current_node is None:\n",
    "            raise Exception(\"Value not Found.\")\n",
    "        if current_node.next is None:\n",
    "            return self.pop_right()\n",
    "        prior_node.next = current_node.next\n",
    "        current_node.next.prev = prior_node\n",
    "        current_node.next = current_node.prev = None\n",
    "        self._length -= 1\n",
    "        return current_node\n",
    "            \n",
    "    def print_values(self):\n",
    "        node = self.head\n",
    "        for i in range(self._length):\n",
    "            print(node.value)\n",
    "            node = node.next\n",
    "\n",
    "\n",
    "my_dlist = DoubleyLinkedList()"
   ]
  },
  {
   "cell_type": "code",
   "execution_count": 14,
   "id": "b2798039-f861-41a1-860a-7fed46e53e60",
   "metadata": {},
   "outputs": [
    {
     "data": {
      "text/plain": [
       "<__main__.DoubleyLinkedList at 0x2adfc6fcfd0>"
      ]
     },
     "execution_count": 14,
     "metadata": {},
     "output_type": "execute_result"
    }
   ],
   "source": [
    "my_dlist.append(4)"
   ]
  },
  {
   "cell_type": "code",
   "execution_count": 16,
   "id": "4adea84f-61e9-43d3-aa17-eff58969df80",
   "metadata": {},
   "outputs": [
    {
     "ename": "AttributeError",
     "evalue": "'NoneType' object has no attribute 'next'",
     "output_type": "error",
     "traceback": [
      "\u001b[1;31m---------------------------------------------------------------------------\u001b[0m",
      "\u001b[1;31mAttributeError\u001b[0m                            Traceback (most recent call last)",
      "Cell \u001b[1;32mIn[16], line 1\u001b[0m\n\u001b[1;32m----> 1\u001b[0m my_dlist\u001b[38;5;241m.\u001b[39mremove(\u001b[38;5;241m4\u001b[39m)\n",
      "Cell \u001b[1;32mIn[9], line 72\u001b[0m, in \u001b[0;36mDoubleyLinkedList.remove\u001b[1;34m(self, value)\u001b[0m\n\u001b[0;32m     70\u001b[0m right_node \u001b[38;5;241m=\u001b[39m mid_node\u001b[38;5;241m.\u001b[39mnext\n\u001b[0;32m     71\u001b[0m \u001b[38;5;28;01mif\u001b[39;00m mid_node\u001b[38;5;241m.\u001b[39mvalue \u001b[38;5;241m==\u001b[39m value:\n\u001b[1;32m---> 72\u001b[0m     left_node\u001b[38;5;241m.\u001b[39mnext \u001b[38;5;241m=\u001b[39m right_node\n\u001b[0;32m     73\u001b[0m     right_node\u001b[38;5;241m.\u001b[39mprev \u001b[38;5;241m=\u001b[39m left_node\n\u001b[0;32m     74\u001b[0m     mid_node\u001b[38;5;241m.\u001b[39mnext \u001b[38;5;241m=\u001b[39m \u001b[38;5;28;01mNone\u001b[39;00m\n",
      "\u001b[1;31mAttributeError\u001b[0m: 'NoneType' object has no attribute 'next'"
     ]
    }
   ],
   "source": [
    "my_dlist.remove(4)"
   ]
  },
  {
   "cell_type": "code",
   "execution_count": null,
   "id": "68ea8c6c-359b-46fe-9eb7-91b33ab113f6",
   "metadata": {},
   "outputs": [],
   "source": []
  }
 ],
 "metadata": {
  "kernelspec": {
   "display_name": "Python 3 (ipykernel)",
   "language": "python",
   "name": "python3"
  },
  "language_info": {
   "codemirror_mode": {
    "name": "ipython",
    "version": 3
   },
   "file_extension": ".py",
   "mimetype": "text/x-python",
   "name": "python",
   "nbconvert_exporter": "python",
   "pygments_lexer": "ipython3",
   "version": "3.11.7"
  }
 },
 "nbformat": 4,
 "nbformat_minor": 5
}
