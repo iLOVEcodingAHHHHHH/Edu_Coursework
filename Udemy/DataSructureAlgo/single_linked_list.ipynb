{
 "cells": [
  {
   "cell_type": "code",
   "execution_count": 1,
   "id": "9b64d69e-0c0d-432e-9ff8-4bac4ac3991e",
   "metadata": {},
   "outputs": [],
   "source": [
    "class Node:\n",
    "    def __init__(self, value):\n",
    "        self.value = value\n",
    "        self.next = None"
   ]
  },
  {
   "cell_type": "code",
   "execution_count": 16,
   "id": "793e8b47-6083-404e-b183-c5f90068ff8c",
   "metadata": {},
   "outputs": [],
   "source": [
    "class SinglyLinkedList:\n",
    "    def __init__(self):\n",
    "        self.head = None\n",
    "        self.tail = None\n",
    "        self._length = 0\n",
    "\n",
    "    def append(self, value):\n",
    "        new_node = Node(value)\n",
    "        # if not len 0... seems like if true would make more sense but okay\n",
    "        if not self._length:\n",
    "            self.head = self.tail = new_node\n",
    "        else:\n",
    "            #tail node obj pointer atribute (next) reference updated to lead (append) new node\n",
    "            self.tail.next = new_node\n",
    "            #list tail replaced to reflect new node at the end\n",
    "            self.tail = new_node\n",
    "        self._length += 1\n",
    "        return self"
   ]
  },
  {
   "cell_type": "code",
   "execution_count": 17,
   "id": "28f89771-5a9c-4e9a-9df6-71ca9ca910b6",
   "metadata": {},
   "outputs": [],
   "source": [
    "my_list = SinglyLinkedList()"
   ]
  },
  {
   "cell_type": "code",
   "execution_count": 18,
   "id": "2987c108-2ce4-41a0-b41d-88cafd6df17d",
   "metadata": {},
   "outputs": [
    {
     "name": "stdout",
     "output_type": "stream",
     "text": [
      "0\n",
      "True\n"
     ]
    },
    {
     "data": {
      "text/plain": [
       "<__main__.SinglyLinkedList at 0x272c044e090>"
      ]
     },
     "execution_count": 18,
     "metadata": {},
     "output_type": "execute_result"
    }
   ],
   "source": [
    "my_list.append(5)"
   ]
  },
  {
   "cell_type": "code",
   "execution_count": 19,
   "id": "4c92a2df-82cd-4b2b-8076-b15f72f3a344",
   "metadata": {},
   "outputs": [
    {
     "name": "stdout",
     "output_type": "stream",
     "text": [
      "1\n",
      "False\n"
     ]
    },
    {
     "data": {
      "text/plain": [
       "<__main__.SinglyLinkedList at 0x272c044e090>"
      ]
     },
     "execution_count": 19,
     "metadata": {},
     "output_type": "execute_result"
    }
   ],
   "source": [
    "my_list.append(6)"
   ]
  },
  {
   "cell_type": "code",
   "execution_count": 20,
   "id": "b896a1e6-5662-4ab7-9c39-244fe9ec6d42",
   "metadata": {},
   "outputs": [],
   "source": [
    "a = b = c = 1"
   ]
  },
  {
   "cell_type": "code",
   "execution_count": 22,
   "id": "7e31ff22-f926-4abd-ac42-078a2e4f0ff7",
   "metadata": {},
   "outputs": [
    {
     "name": "stdout",
     "output_type": "stream",
     "text": [
      "1\n"
     ]
    }
   ],
   "source": [
    "print(a)"
   ]
  },
  {
   "cell_type": "code",
   "execution_count": null,
   "id": "340b65fa-1c09-4e6b-92f7-e2ef92c2c910",
   "metadata": {},
   "outputs": [],
   "source": []
  }
 ],
 "metadata": {
  "kernelspec": {
   "display_name": "Python 3 (ipykernel)",
   "language": "python",
   "name": "python3"
  },
  "language_info": {
   "codemirror_mode": {
    "name": "ipython",
    "version": 3
   },
   "file_extension": ".py",
   "mimetype": "text/x-python",
   "name": "python",
   "nbconvert_exporter": "python",
   "pygments_lexer": "ipython3",
   "version": "3.11.7"
  }
 },
 "nbformat": 4,
 "nbformat_minor": 5
}
