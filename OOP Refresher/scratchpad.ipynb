{
 "cells": [
  {
   "cell_type": "code",
   "execution_count": 8,
   "id": "305c438d-7231-41d3-9cdd-e0f098d03130",
   "metadata": {},
   "outputs": [],
   "source": [
    "class Professor:\n",
    "\n",
    "    def __init__(self, name, age, course):\n",
    "        self.name = name\n",
    "        self.age = age\n",
    "        self.course = course\n",
    "\n",
    "    def greet_students(self):\n",
    "        print(\"Welcome to class!\")\n",
    "\n",
    "class ScienceProfessor(Professor):\n",
    "\n",
    "    def __init__(self, *args):\n",
    "        super().__init__(*args)\n",
    "\n",
    "    def greet_students(self):\n",
    "        print(\"Hi everyone! It's a great day to study Science!\")"
   ]
  },
  {
   "cell_type": "code",
   "execution_count": 9,
   "id": "29736e5f-559f-4ea1-b591-2045d60b2042",
   "metadata": {},
   "outputs": [],
   "source": [
    "science_professor = ScienceProfessor(\"Tom\", 40, \"Science\")"
   ]
  },
  {
   "cell_type": "code",
   "execution_count": 10,
   "id": "af04a102-a854-4329-9302-7b2904b2a533",
   "metadata": {},
   "outputs": [
    {
     "name": "stdout",
     "output_type": "stream",
     "text": [
      "Hi everyone! It's a great day to study Science!\n"
     ]
    }
   ],
   "source": [
    "science_professor.greet_students()"
   ]
  },
  {
   "cell_type": "code",
   "execution_count": null,
   "id": "5dea272f-4766-42b6-aeb5-2c8b4d6af0d5",
   "metadata": {},
   "outputs": [],
   "source": []
  }
 ],
 "metadata": {
  "kernelspec": {
   "display_name": "Python 3 (ipykernel)",
   "language": "python",
   "name": "python3"
  },
  "language_info": {
   "codemirror_mode": {
    "name": "ipython",
    "version": 3
   },
   "file_extension": ".py",
   "mimetype": "text/x-python",
   "name": "python",
   "nbconvert_exporter": "python",
   "pygments_lexer": "ipython3",
   "version": "3.11.7"
  }
 },
 "nbformat": 4,
 "nbformat_minor": 5
}
