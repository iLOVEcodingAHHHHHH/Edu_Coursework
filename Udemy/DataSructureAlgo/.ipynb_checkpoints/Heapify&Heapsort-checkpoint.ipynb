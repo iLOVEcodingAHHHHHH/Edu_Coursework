{
 "cells": [
  {
   "cell_type": "code",
   "execution_count": null,
   "id": "ee99beec-0b03-4962-8289-7f37026e98fa",
   "metadata": {},
   "outputs": [],
   "source": [
    "class MaxBinaryHeap:\n",
    "    def __init__(self):\n",
    "        self.items = []\n",
    "\n",
    "    def insert(self, value):\n",
    "        self.items.append(value)\n",
    "        self.move_up()\n",
    "\n",
    "    def move_up():\n",
    "        child_idx = len(self.items) - 1\n",
    "        while child_idx > 0:\n",
    "            parent_idx = (child_idx - 1) // 2\n",
    "            if self.items[child_idx] <= self.items[parent_idx]:\n",
    "                break\n",
    "            self.swap(child_idx, parent_idx)    \n",
    "            child_idx = parent_idx\n",
    "\n",
    "    def swap(self, idx_1, idx_2):\n",
    "        self.items[idx_1], self.items[idx_2] = self.items[idx_1, self.items[idx_2]\n",
    "\n",
    "\n",
    "    def remove_max(self):\\\n",
    "        if not self.items:\n",
    "            raise Exception('Heap is empty')\n",
    "        max_elem = self.items[0]\n",
    "        end_idx = len(self.items) - 1\n",
    "        self.swap(0, end_idx)\n",
    "        self.items.pop()\n",
    "            "
   ]
  }
 ],
 "metadata": {
  "kernelspec": {
   "display_name": "Python 3 (ipykernel)",
   "language": "python",
   "name": "python3"
  },
  "language_info": {
   "codemirror_mode": {
    "name": "ipython",
    "version": 3
   },
   "file_extension": ".py",
   "mimetype": "text/x-python",
   "name": "python",
   "nbconvert_exporter": "python",
   "pygments_lexer": "ipython3",
   "version": "3.11.7"
  }
 },
 "nbformat": 4,
 "nbformat_minor": 5
}
