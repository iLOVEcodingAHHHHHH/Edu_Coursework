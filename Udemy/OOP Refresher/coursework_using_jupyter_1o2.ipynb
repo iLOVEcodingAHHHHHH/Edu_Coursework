{
 "cells": [
  {
   "cell_type": "code",
   "execution_count": 1,
   "id": "0ff1597d-6ee6-4c03-8bdc-4203326d9cd2",
   "metadata": {},
   "outputs": [],
   "source": [
    "c = 3 + 4j"
   ]
  },
  {
   "cell_type": "code",
   "execution_count": 2,
   "id": "69344f77-d8c8-473d-acd8-531734a3756b",
   "metadata": {},
   "outputs": [
    {
     "data": {
      "text/plain": [
       "3.0"
      ]
     },
     "execution_count": 2,
     "metadata": {},
     "output_type": "execute_result"
    }
   ],
   "source": [
    "c.real"
   ]
  },
  {
   "cell_type": "code",
   "execution_count": 3,
   "id": "99b79521-cf3f-4767-9021-6defc80297c9",
   "metadata": {},
   "outputs": [
    {
     "ename": "AttributeError",
     "evalue": "'complex' object has no attribute 'imaginary'",
     "output_type": "error",
     "traceback": [
      "\u001b[1;31m---------------------------------------------------------------------------\u001b[0m",
      "\u001b[1;31mAttributeError\u001b[0m                            Traceback (most recent call last)",
      "Cell \u001b[1;32mIn[3], line 1\u001b[0m\n\u001b[1;32m----> 1\u001b[0m c\u001b[38;5;241m.\u001b[39mimaginary\n",
      "\u001b[1;31mAttributeError\u001b[0m: 'complex' object has no attribute 'imaginary'"
     ]
    }
   ],
   "source": [
    "c.imaginary"
   ]
  },
  {
   "cell_type": "code",
   "execution_count": 4,
   "id": "e8f4b94b-9835-4b71-8b31-ec38ed7e51ba",
   "metadata": {},
   "outputs": [
    {
     "data": {
      "text/plain": [
       "4.0"
      ]
     },
     "execution_count": 4,
     "metadata": {},
     "output_type": "execute_result"
    }
   ],
   "source": [
    "c.imag"
   ]
  },
  {
   "cell_type": "code",
   "execution_count": 5,
   "id": "b1527d47-6917-4862-a40d-9d034ceb400b",
   "metadata": {},
   "outputs": [
    {
     "ename": "NameError",
     "evalue": "name 'real' is not defined",
     "output_type": "error",
     "traceback": [
      "\u001b[1;31m---------------------------------------------------------------------------\u001b[0m",
      "\u001b[1;31mNameError\u001b[0m                                 Traceback (most recent call last)",
      "Cell \u001b[1;32mIn[5], line 1\u001b[0m\n\u001b[1;32m----> 1\u001b[0m c[real]\n",
      "\u001b[1;31mNameError\u001b[0m: name 'real' is not defined"
     ]
    }
   ],
   "source": [
    " c[real]"
   ]
  },
  {
   "cell_type": "code",
   "execution_count": 6,
   "id": "7166af3f-d95c-4040-a917-3f382843e6f6",
   "metadata": {},
   "outputs": [
    {
     "ename": "TypeError",
     "evalue": "'complex' object is not subscriptable",
     "output_type": "error",
     "traceback": [
      "\u001b[1;31m---------------------------------------------------------------------------\u001b[0m",
      "\u001b[1;31mTypeError\u001b[0m                                 Traceback (most recent call last)",
      "Cell \u001b[1;32mIn[6], line 1\u001b[0m\n\u001b[1;32m----> 1\u001b[0m c[\u001b[38;5;124m'\u001b[39m\u001b[38;5;124mreal\u001b[39m\u001b[38;5;124m'\u001b[39m]\n",
      "\u001b[1;31mTypeError\u001b[0m: 'complex' object is not subscriptable"
     ]
    }
   ],
   "source": [
    "c['real']"
   ]
  },
  {
   "cell_type": "code",
   "execution_count": 22,
   "id": "aa7e610f-6613-46f6-a5c3-f0397b611802",
   "metadata": {},
   "outputs": [],
   "source": [
    "class Dog():\n",
    "\n",
    "    def __init__(self, p_age):\n",
    "        self.age = p_age\n",
    "        "
   ]
  },
  {
   "cell_type": "code",
   "execution_count": 20,
   "id": "23475c8e-0cdd-4122-918f-1c7b869c6da7",
   "metadata": {},
   "outputs": [],
   "source": [
    "Fido = Dog(2)"
   ]
  },
  {
   "cell_type": "code",
   "execution_count": 21,
   "id": "12e71b17-b69c-403f-b09f-e33829fc355d",
   "metadata": {},
   "outputs": [
    {
     "data": {
      "text/plain": [
       "2"
      ]
     },
     "execution_count": 21,
     "metadata": {},
     "output_type": "execute_result"
    }
   ],
   "source": [
    "Fido.age"
   ]
  },
  {
   "cell_type": "code",
   "execution_count": 23,
   "id": "a6ca67d8-e156-4360-99ce-c9df6d5ca96b",
   "metadata": {},
   "outputs": [],
   "source": [
    "class Movie:\n",
    "\n",
    "    def __init__(self, title, year, language, rating):\n",
    "        self.title = title\n",
    "        self.year = year\n",
    "        self.language = language\n",
    "        self.rating = rating"
   ]
  },
  {
   "cell_type": "code",
   "execution_count": 27,
   "id": "7d40b89e-804a-413e-894e-668a55ce07c9",
   "metadata": {},
   "outputs": [],
   "source": [
    "my_favorite_movie = Movie(\"Pride and Prejudice\", 2005, \"English\", 4.8)"
   ]
  },
  {
   "cell_type": "code",
   "execution_count": 28,
   "id": "9ab5f466-dc4b-438a-a681-1345212540dc",
   "metadata": {},
   "outputs": [
    {
     "data": {
      "text/plain": [
       "2005"
      ]
     },
     "execution_count": 28,
     "metadata": {},
     "output_type": "execute_result"
    }
   ],
   "source": [
    "my_favorite_movie.year"
   ]
  },
  {
   "cell_type": "code",
   "execution_count": 30,
   "id": "d211386f-f257-4597-9f4a-71da23936cee",
   "metadata": {},
   "outputs": [
    {
     "ename": "SyntaxError",
     "evalue": "non-default argument follows default argument (279066163.py, line 3)",
     "output_type": "error",
     "traceback": [
      "\u001b[1;36m  Cell \u001b[1;32mIn[30], line 3\u001b[1;36m\u001b[0m\n\u001b[1;33m    def __init__(self, radius=3, color):\u001b[0m\n\u001b[1;37m                                 ^\u001b[0m\n\u001b[1;31mSyntaxError\u001b[0m\u001b[1;31m:\u001b[0m non-default argument follows default argument\n"
     ]
    }
   ],
   "source": [
    "class Circle:\n",
    "\n",
    "    def __init__(self, radius=3, color):\n",
    "        self.radius = radius\n",
    "        self.color = color"
   ]
  },
  {
   "cell_type": "markdown",
   "id": "064ac733-2847-43fe-b951-07127a081fbf",
   "metadata": {},
   "source": [
    "parameters with defaults must be defined last because during instance creation the parameters must be in order and this won't allow for a parameter to be skipped"
   ]
  },
  {
   "cell_type": "code",
   "execution_count": 38,
   "id": "9423b8c0-6178-407a-8bc2-47b0cb639660",
   "metadata": {},
   "outputs": [],
   "source": [
    "class Bacterium:\n",
    "\n",
    "    def __init__(self, size, x = 0, y = 0, gp = False, enemy = False): #gp = gram positive\n",
    "        self.size = size\n",
    "        self.x = x\n",
    "        self.y = y\n",
    "        self.gp = gp\n",
    "        self.enemy = enemy"
   ]
  },
  {
   "cell_type": "code",
   "execution_count": 39,
   "id": "c88dbc21-5b71-4033-9cb6-2325c9273897",
   "metadata": {},
   "outputs": [],
   "source": [
    "class Donut:\n",
    "\n",
    "    def __init__(self, flavor, toppings, filling, size):\n",
    "        self.flavor = flavor\n",
    "        self.toppings = toppings\n",
    "        self.filling = filling\n",
    "        self.size = size"
   ]
  },
  {
   "cell_type": "code",
   "execution_count": 40,
   "id": "d049f84f-f7e8-42a0-a972-91b0e7c3333b",
   "metadata": {},
   "outputs": [],
   "source": [
    "class Customer:\n",
    "\n",
    "    def __init__(self, name, age, address, favorite_dessert):\n",
    "        self.name = name\n",
    "        self.age = age\n",
    "        self.address = address\n",
    "        self.favorite_dessert = favorite_dessert"
   ]
  },
  {
   "cell_type": "code",
   "execution_count": 6,
   "id": "8961d948-9ebf-44f2-a072-0d04f24ac3b9",
   "metadata": {},
   "outputs": [],
   "source": [
    "class Cake:\n",
    "\n",
    "    def __init__(self, flavor, price, quality):\n",
    "        self.flavor = flavor\n",
    "        self.price = price\n",
    "        self.quality = quality"
   ]
  },
  {
   "cell_type": "code",
   "execution_count": 13,
   "id": "0b4f6c10-3c16-4de1-a5d0-89065e00f67f",
   "metadata": {},
   "outputs": [],
   "source": [
    "Choc = Cake('Chocolate', 10, 1)"
   ]
  },
  {
   "cell_type": "code",
   "execution_count": 18,
   "id": "c339e29e-e641-48c9-bfbb-69b75feb5ff8",
   "metadata": {},
   "outputs": [
    {
     "ename": "AttributeError",
     "evalue": "'Cake' object has no attribute 'price'",
     "output_type": "error",
     "traceback": [
      "\u001b[1;31m---------------------------------------------------------------------------\u001b[0m",
      "\u001b[1;31mAttributeError\u001b[0m                            Traceback (most recent call last)",
      "Cell \u001b[1;32mIn[18], line 1\u001b[0m\n\u001b[1;32m----> 1\u001b[0m \u001b[38;5;28mprint\u001b[39m(Choc\u001b[38;5;241m.\u001b[39mprice)\n",
      "\u001b[1;31mAttributeError\u001b[0m: 'Cake' object has no attribute 'price'"
     ]
    }
   ],
   "source": [
    "print(Choc.price)"
   ]
  },
  {
   "cell_type": "code",
   "execution_count": 22,
   "id": "e49cedbc-1c51-47e6-b5c3-48a1aa647dad",
   "metadata": {},
   "outputs": [
    {
     "ename": "AttributeError",
     "evalue": "'Cake' object has no attribute 'price'",
     "output_type": "error",
     "traceback": [
      "\u001b[1;31m---------------------------------------------------------------------------\u001b[0m",
      "\u001b[1;31mAttributeError\u001b[0m                            Traceback (most recent call last)",
      "Cell \u001b[1;32mIn[22], line 1\u001b[0m\n\u001b[1;32m----> 1\u001b[0m \u001b[38;5;28mdelattr\u001b[39m(Choc, \u001b[38;5;124m'\u001b[39m\u001b[38;5;124mprice\u001b[39m\u001b[38;5;124m'\u001b[39m)\n\u001b[0;32m      2\u001b[0m \u001b[38;5;28mprint\u001b[39m(Choc\u001b[38;5;241m.\u001b[39mprice)\n",
      "\u001b[1;31mAttributeError\u001b[0m: 'Cake' object has no attribute 'price'"
     ]
    }
   ],
   "source": [
    "delattr(Choc, 'price')\n",
    "print(Choc.price)"
   ]
  },
  {
   "cell_type": "code",
   "execution_count": 19,
   "id": "d032bd25-0062-4962-a935-68b2ddf60e5a",
   "metadata": {},
   "outputs": [],
   "source": [
    "class Dog:\n",
    "\n",
    "    species = \"canus lupus familiarus\"\n",
    "    \n",
    "    def __init__(self, name, age, breed):\n",
    "        self.name = name\n",
    "        self.age = age\n",
    "        self.breed = breed"
   ]
  },
  {
   "cell_type": "code",
   "execution_count": 20,
   "id": "4a678884-6d13-4a0c-81c0-dd8d5fc21b77",
   "metadata": {},
   "outputs": [],
   "source": [
    "class Backpack:\n",
    "\n",
    "    max_items = 10\n",
    "\n",
    "    def __init__(self):\n",
    "        self.items = []"
   ]
  },
  {
   "cell_type": "code",
   "execution_count": 21,
   "id": "9ecf0ef9-b5cf-4f15-9745-7b8cc8469399",
   "metadata": {},
   "outputs": [],
   "source": [
    "class User:\n",
    "    \n",
    "    \n",
    "    num_feet = 4\n",
    "    defualt_language = 'English'\n",
    "    \n",
    "    def __init__(self, x, y, z):\n",
    "        self.x = x\n",
    "        self.y = y\n",
    "        self.z = z\n",
    "        "
   ]
  },
  {
   "cell_type": "code",
   "execution_count": 7,
   "id": "895de824-f919-40bd-a958-ecf4da61725c",
   "metadata": {},
   "outputs": [
    {
     "name": "stdout",
     "output_type": "stream",
     "text": [
      "\n",
      "========= Welcome to our Payroll System =========\n",
      "\n",
      "Jack's salary is: $8833.33\n",
      "Isabel's salary is: $8833.33\n",
      "Nora's salary is: $4666.67\n",
      "\n",
      "The total payroll this month will be: $ 22333.33\n"
     ]
    }
   ],
   "source": [
    "class Programmer:\n",
    "    \n",
    "    salary = 100000\n",
    "    monthly_bonus = 500\n",
    "    \n",
    "    def __init__(self, name, age, address, phone, programming_languages):\n",
    "        self.name = name\n",
    "        self.age = age\n",
    "        self.address = address\n",
    "        self.phone = phone\n",
    "        self.programming_languages = programming_languages\n",
    " \n",
    " \n",
    "class Assistant:\n",
    "    \n",
    "    salary = 50000\n",
    "    monthly_bonus = 500\n",
    "    \n",
    "    def __init__(self, name, age, address, phone, is_bilingual):\n",
    "        self.name = name\n",
    "        self.age = age\n",
    "        self.address = address\n",
    "        self.phone = phone\n",
    "        self.is_bilingual = is_bilingual\n",
    " \n",
    " \n",
    "# Function that prints the monthly salary of each worker\n",
    "# and the total amount that the startup owner has to pay per month.\n",
    "def calculate_payroll(employees):\n",
    " \n",
    "    total = 0\n",
    " \n",
    "    print(\"\\n========= Welcome to our Payroll System =========\\n\")\n",
    " \n",
    "    # Iterate over the list of instances to calculate\n",
    "    # and display the monthly salary of each employee,\n",
    "    # and add the monthly salary to the total for this month.\n",
    "    for employee in employees:\n",
    "        salary = round(employee.salary / 12, 2) + employee.monthly_bonus\n",
    "        print(employee.name.capitalize() + \"'s salary is: $\" + str(salary))\n",
    "        total += salary\n",
    " \n",
    "    # Display the total\n",
    "    print(\"\\nThe total payroll this month will be: $\", total)\n",
    " \n",
    "# Instances (employees)\n",
    "jack = Programmer(\"Jack\", 45, \"5th Avenue\", \"555-563-345\", [\"Python\", \"Java\"])\n",
    "isabel = Programmer(\"Isabel\", 25, \"6th Avenue\", \"234-245-853\", [\"JavaScript\"])\n",
    "nora = Assistant(\"Nora\", 23, \"7th Avenue\", \"562-577-333\", True)\n",
    " \n",
    "# List of instances\n",
    "employees = [jack, isabel, nora]\n",
    " \n",
    "# Function call (Passing the list of instances as argument)\n",
    "calculate_payroll(employees)\n"
   ]
  },
  {
   "cell_type": "markdown",
   "id": "495f25e0-7620-4778-93eb-b0affc7a09ee",
   "metadata": {},
   "source": [
    "# Non-public attributes"
   ]
  },
  {
   "cell_type": "markdown",
   "id": "012bf75a-e65c-4185-ad07-618f143c8d1c",
   "metadata": {},
   "source": [
    "generally non-public attributes are named using a _ preceding the name (self._attribute = attribute)    "
   ]
  },
  {
   "cell_type": "code",
   "execution_count": 8,
   "id": "3857ad66-8f81-42fa-a3fa-adce141616da",
   "metadata": {},
   "outputs": [],
   "source": [
    "class Student:\n",
    "\n",
    "    def __init__(self, id, name, age, gpa):\n",
    "        self.id = id\n",
    "        self.name = name\n",
    "        self._age = age\n",
    "        self.gpa = gpa"
   ]
  },
  {
   "cell_type": "code",
   "execution_count": 9,
   "id": "b996e8a2-0994-4a4e-b6bd-40da6f1032be",
   "metadata": {},
   "outputs": [],
   "source": [
    "Nick = Student('abcxyz', 'Nick', 40, 4.0)"
   ]
  },
  {
   "cell_type": "code",
   "execution_count": 10,
   "id": "ee733761-9c56-4193-92cd-4b2e6df21517",
   "metadata": {},
   "outputs": [
    {
     "data": {
      "text/plain": [
       "'abcxyz'"
      ]
     },
     "execution_count": 10,
     "metadata": {},
     "output_type": "execute_result"
    }
   ],
   "source": [
    "Nick.id"
   ]
  },
  {
   "cell_type": "code",
   "execution_count": 11,
   "id": "d331bcbe-0404-499b-a6da-9a3c8df06324",
   "metadata": {},
   "outputs": [
    {
     "ename": "AttributeError",
     "evalue": "'Student' object has no attribute 'age'",
     "output_type": "error",
     "traceback": [
      "\u001b[1;31m---------------------------------------------------------------------------\u001b[0m",
      "\u001b[1;31mAttributeError\u001b[0m                            Traceback (most recent call last)",
      "Cell \u001b[1;32mIn[11], line 1\u001b[0m\n\u001b[1;32m----> 1\u001b[0m Nick\u001b[38;5;241m.\u001b[39mage\n",
      "\u001b[1;31mAttributeError\u001b[0m: 'Student' object has no attribute 'age'"
     ]
    }
   ],
   "source": [
    "Nick.age"
   ]
  },
  {
   "cell_type": "code",
   "execution_count": 13,
   "id": "b38b010d-02c1-49e6-92d9-256a26ec9999",
   "metadata": {},
   "outputs": [
    {
     "data": {
      "text/plain": [
       "40"
      ]
     },
     "execution_count": 13,
     "metadata": {},
     "output_type": "execute_result"
    }
   ],
   "source": [
    "Nick._age"
   ]
  },
  {
   "cell_type": "code",
   "execution_count": 15,
   "id": "8723f5f6-eed4-4f0b-8c80-0cd5c6a866d8",
   "metadata": {},
   "outputs": [],
   "source": [
    "class Movie:\n",
    "\n",
    "    id_counter = 1\n",
    "    \n",
    "    def __init__(self, title, year, language, rating):\n",
    "        self._id = Movie.id_counter\n",
    "        self.title = title\n",
    "        self.year = year\n",
    "        self.language = language\n",
    "        self.rating = rating\n",
    "        \n",
    "        Movie.id_counter += 1"
   ]
  },
  {
   "cell_type": "code",
   "execution_count": 16,
   "id": "e1b40496-1cfc-4d17-af99-1655d6979fa1",
   "metadata": {},
   "outputs": [],
   "source": [
    "my_movie = Movie('Oldboy', 2003, 'Korean', 8.3)"
   ]
  },
  {
   "cell_type": "code",
   "execution_count": 17,
   "id": "2fbfa40e-1f0e-41c0-98b0-578a983b8340",
   "metadata": {},
   "outputs": [
    {
     "data": {
      "text/plain": [
       "1"
      ]
     },
     "execution_count": 17,
     "metadata": {},
     "output_type": "execute_result"
    }
   ],
   "source": [
    "my_movie._id"
   ]
  },
  {
   "cell_type": "code",
   "execution_count": 18,
   "id": "3bb857d2-4faa-494d-a7a0-80f705f6b4e7",
   "metadata": {},
   "outputs": [],
   "source": [
    "your_movie = Movie('Titanic', 1997, 'English', 7.9)"
   ]
  },
  {
   "cell_type": "code",
   "execution_count": 20,
   "id": "8c44a1de-1a1a-46f5-bb23-50a3c77e53ce",
   "metadata": {},
   "outputs": [
    {
     "name": "stdout",
     "output_type": "stream",
     "text": [
      "Titanic\n"
     ]
    }
   ],
   "source": [
    "print(your_movie.title)"
   ]
  },
  {
   "cell_type": "markdown",
   "id": "1fc548f6-654c-4860-bd0f-cdb093a279cf",
   "metadata": {},
   "source": [
    "# Name Mangling (dunder prefix \"oneder dunder!\")"
   ]
  },
  {
   "cell_type": "markdown",
   "id": "c501943b-20b7-4e29-8ed9-6a37c398ea28",
   "metadata": {},
   "source": [
    "__attribute = _class__attribute for references onederscore first, dunder connection"
   ]
  },
  {
   "cell_type": "code",
   "execution_count": 3,
   "id": "f47401ec-dbf7-47a7-8408-004df888e884",
   "metadata": {},
   "outputs": [],
   "source": [
    "class Backpack:\n",
    "\n",
    "    def __init__(self):\n",
    "        self.__items = ['pencils','pens']"
   ]
  },
  {
   "cell_type": "code",
   "execution_count": 4,
   "id": "d21888f7-10f0-4953-ab5d-4d8db1af7ce1",
   "metadata": {},
   "outputs": [],
   "source": [
    "my_backpack = Backpack()"
   ]
  },
  {
   "cell_type": "code",
   "execution_count": 5,
   "id": "fde5822a-964a-40c1-997b-563d8692fe93",
   "metadata": {},
   "outputs": [
    {
     "data": {
      "text/plain": [
       "['pencils', 'pens']"
      ]
     },
     "execution_count": 5,
     "metadata": {},
     "output_type": "execute_result"
    }
   ],
   "source": [
    "my_backpack._Backpack__items"
   ]
  },
  {
   "cell_type": "markdown",
   "id": "f2dd8399-1783-4dfd-81c2-9ad783ae6ade",
   "metadata": {},
   "source": [
    "## Mini-project"
   ]
  },
  {
   "cell_type": "markdown",
   "id": "768a2ebd-33b8-48b9-8242-2b00e65bd992",
   "metadata": {},
   "source": [
    "Welcome to this Mini Project.\n",
    "\n",
    "For this assignment, you will answer the following questions.\n",
    "\n",
    "\n",
    "\n",
    "Questions:\n",
    "\n",
    "Explain why an attribute is never really private in Python. In your explanation, please explain the process of name mangling with an example.\n",
    "\n",
    "Make the following attributes non-public in the Book class:\n",
    "\n",
    "num_pages\n",
    "\n",
    "ISBN\n",
    "\n",
    "publisher\n",
    "\n",
    "\n",
    "\n",
    "class Book:\n",
    " \n",
    "    def __init__(self, title, author, num_pages, ISBN, publisher):\n",
    "        self.title = title\n",
    "        self.author = author\n",
    "        self.num_pages = num_pages\n",
    "        self.ISBN = ISBN\n",
    "        self.publisher = publisher\n",
    "\n",
    "\n",
    "Solution:\n",
    "\n",
    "You can find a sample solution in the \"Instructor example\" tab.\n",
    "\n",
    "\n",
    "\n",
    "Marking your assignment as complete:\n",
    "\n",
    "\"Once you have submitted your assignment, and you have navigated through each section to the 'Give Feedback' page, the assignment will be marked as complete with a gray checkmark.\"— source\n",
    "\n",
    "\n",
    "Questions for this assignment\n",
    "Explain why an attribute is never really private in Python. In your explanation, please explain the process of name mangling with an example.\n",
    "\n",
    "Submit your Book class with the non-public attributes.\n",
    "\n",
    "Please format your code with the < > button."
   ]
  },
  {
   "cell_type": "code",
   "execution_count": 7,
   "id": "2aa5f8c8-2533-47e3-bac8-48488508565c",
   "metadata": {},
   "outputs": [],
   "source": [
    "class Book:\n",
    "\n",
    "    def __init__(self, title, author, num_pages, ISBN, publisher):\n",
    "        self.title = title\n",
    "        self.author = author\n",
    "        self._num_pages = num_pages\n",
    "        self._ISBN = ISBN\n",
    "        self._publisher = publisher\n"
   ]
  },
  {
   "cell_type": "markdown",
   "id": "f7e363a5-0b05-4ef7-9b6b-dc710648ae90",
   "metadata": {},
   "source": [
    "In python all attributes are publicly available using standard naming conventions.  Naming can be adjusted within the code by using a dunder prefix, a method called \"Name Mangling\".  This will give the attribute a new name that includes the class name as a prefix.  This property of the adjusted name prevents clashing names in subclasses, the syntax of the convention is to precede the class name with a single underscore and connect it to the attribute name using double underscores i.e \"_class__attribute\".  I like to call it the \"Oneder Dunder\" naming convention."
   ]
  },
  {
   "cell_type": "markdown",
   "id": "8fb2167d-6e86-4ebb-91f0-52a8ac32ed1c",
   "metadata": {},
   "source": [
    "## Getters and Setters"
   ]
  },
  {
   "cell_type": "code",
   "execution_count": 1,
   "id": "6c584ae6-f535-4a1f-a89b-55c25c8828f9",
   "metadata": {},
   "outputs": [],
   "source": [
    "class Movie:\n",
    "\n",
    "    def __init__(self, title, rating):\n",
    "        self._title = title #getter will be used to access the non-public attr\n",
    "        self.rating = rating\n",
    "\n",
    "    def get_title(self): #format using the word get underscore attr name\n",
    "        return self._title"
   ]
  },
  {
   "cell_type": "code",
   "execution_count": 3,
   "id": "c035bcbe-37d8-48d2-a958-fa2baf973ce9",
   "metadata": {},
   "outputs": [],
   "source": [
    "my_movie = Movie(\"Charlie Brown\", 5)"
   ]
  },
  {
   "cell_type": "code",
   "execution_count": 4,
   "id": "2754fcea-4d82-46ed-8388-30b085527ef5",
   "metadata": {},
   "outputs": [
    {
     "data": {
      "text/plain": [
       "5"
      ]
     },
     "execution_count": 4,
     "metadata": {},
     "output_type": "execute_result"
    }
   ],
   "source": [
    "my_movie.rating"
   ]
  },
  {
   "cell_type": "code",
   "execution_count": 8,
   "id": "d23652a8-44a0-4119-b7c2-ac20a7922411",
   "metadata": {},
   "outputs": [
    {
     "data": {
      "text/plain": [
       "'Charlie Brown'"
      ]
     },
     "execution_count": 8,
     "metadata": {},
     "output_type": "execute_result"
    }
   ],
   "source": [
    "my_movie.get_title() #methods require paranteses"
   ]
  },
  {
   "cell_type": "code",
   "execution_count": 4,
   "id": "5e828c9a-fbbb-44b6-9935-72d78a7c1c63",
   "metadata": {},
   "outputs": [],
   "source": [
    "class Dog:\n",
    "\n",
    "    def __init__(self, name, breed):\n",
    "        self._name = name\n",
    "        self.breed = breed\n",
    "\n",
    "    def get_name(self):\n",
    "        return self._name\n",
    "\n",
    "    def set_name(self, new_name):\n",
    "        if isinstance(new_name, str) and new_name.isalpha(): #The isinstance() function returns True if the specified object is of the specified type, otherwise False.\n",
    "            self._name = new_name\n",
    "        else:\n",
    "            print(\"please enter a valid name\")"
   ]
  },
  {
   "cell_type": "code",
   "execution_count": 6,
   "id": "89410419-b337-49a5-9ac1-7e4bedb259b9",
   "metadata": {},
   "outputs": [],
   "source": [
    "my_dog = Dog('doggo', 'sheppard')"
   ]
  },
  {
   "cell_type": "code",
   "execution_count": 9,
   "id": "7bcda507-61b4-4851-9e05-9ca23af0e0ef",
   "metadata": {},
   "outputs": [],
   "source": [
    "my_dog.set_name('Fido')"
   ]
  },
  {
   "cell_type": "code",
   "execution_count": 10,
   "id": "fe1868bb-abe6-48ee-b364-002de9caf93f",
   "metadata": {},
   "outputs": [
    {
     "data": {
      "text/plain": [
       "'Fido'"
      ]
     },
     "execution_count": 10,
     "metadata": {},
     "output_type": "execute_result"
    }
   ],
   "source": [
    "my_dog._name"
   ]
  },
  {
   "cell_type": "code",
   "execution_count": 37,
   "id": "de9b6882-c29c-410f-849f-5d476a51140f",
   "metadata": {},
   "outputs": [],
   "source": [
    "class Backpack:\n",
    "\n",
    "    def __init__(self):\n",
    "        self._items = []\n",
    "\n",
    "    def get_items(self):\n",
    "        return self._items\n",
    "\n",
    "    def set_items(self, new_list):\n",
    "        if isinstance(new_list, list):\n",
    "            self._items = new_list\n",
    "            print(self._items)\n",
    "        else:\n",
    "            print('error')"
   ]
  },
  {
   "cell_type": "code",
   "execution_count": 38,
   "id": "e0bcbb87-dfe6-4c77-8f46-0ed5d01c4e4c",
   "metadata": {},
   "outputs": [],
   "source": [
    "my_backpack = Backpack()"
   ]
  },
  {
   "cell_type": "code",
   "execution_count": 39,
   "id": "8075cefe-8d55-4da1-8cf1-fde4653d2c9d",
   "metadata": {},
   "outputs": [
    {
     "name": "stdout",
     "output_type": "stream",
     "text": [
      "['apple', 'string', 'cardboard']\n"
     ]
    }
   ],
   "source": [
    "my_backpack.set_items(['apple','string','cardboard'])"
   ]
  },
  {
   "cell_type": "code",
   "execution_count": 40,
   "id": "a0c0029f-1dfe-4962-8ba0-bdf6da142a92",
   "metadata": {},
   "outputs": [
    {
     "name": "stdout",
     "output_type": "stream",
     "text": [
      "['apple', 'string', 'cardboard']\n"
     ]
    }
   ],
   "source": [
    "print(my_backpack._items)"
   ]
  },
  {
   "cell_type": "code",
   "execution_count": 41,
   "id": "dd5d2ebe-c305-4141-836c-496942ffa738",
   "metadata": {},
   "outputs": [
    {
     "name": "stdout",
     "output_type": "stream",
     "text": [
      "['apple', 'string', 'cardboard']\n"
     ]
    }
   ],
   "source": [
    "print(my_backpack.get_items())"
   ]
  },
  {
   "cell_type": "code",
   "execution_count": 35,
   "id": "a6628cbb-155f-4f62-885c-7f4f3e622937",
   "metadata": {},
   "outputs": [
    {
     "data": {
      "text/plain": [
       "<bound method Backpack.get_items of <__main__.Backpack object at 0x00000245A1D7DC50>>"
      ]
     },
     "execution_count": 35,
     "metadata": {},
     "output_type": "execute_result"
    }
   ],
   "source": [
    "my_backpack.get_items"
   ]
  },
  {
   "cell_type": "code",
   "execution_count": 50,
   "id": "22932ad8-d51c-4acb-8fec-17fb93068238",
   "metadata": {},
   "outputs": [],
   "source": [
    "class Backpack:\n",
    "\n",
    "    def __init__(self):\n",
    "        self._items = []\n",
    "\n",
    "    @property\n",
    "    def items(self):\n",
    "        return self._items\n",
    "        \n",
    "    @items.setter\n",
    "    def items(self, new_items):\n",
    "        if isinstance(new_items, list):\n",
    "            self._items = new_items"
   ]
  },
  {
   "cell_type": "code",
   "execution_count": 52,
   "id": "d25c6239-c232-4f7a-9569-51f3ddf21c30",
   "metadata": {},
   "outputs": [],
   "source": [
    "class Dog:\n",
    "\n",
    "    def __init__(self, breed, age):\n",
    "        self.breed = breed\n",
    "        self.age = age\n",
    "        self._name = \"\"\n",
    "\n",
    "    @property\n",
    "    def name(self):\n",
    "        return self._name\n",
    "\n",
    "    @name.setter\n",
    "    def name(self, new_name):\n",
    "        if isinstance(new_name, string):\n",
    "            self._name = new_name"
   ]
  },
  {
   "cell_type": "code",
   "execution_count": 54,
   "id": "5770871a-c2fc-4915-adcd-425f62055fec",
   "metadata": {},
   "outputs": [],
   "source": [
    "class Cat:\n",
    "\n",
    "    def __init__(self):\n",
    "        self._name = \"\"\n",
    "\n",
    "    @property\n",
    "    def name(self):\n",
    "        return self._name\n",
    "\n",
    "    @name.setter\n",
    "    def name(self, new_name):\n",
    "        if isinstance(new_name, string):\n",
    "            self._name = new_name"
   ]
  },
  {
   "cell_type": "markdown",
   "id": "790284a3-a01b-479d-b558-e40702cc855a",
   "metadata": {},
   "source": [
    "The @property decorator is pythonic and used because the syntax is concise and easy to read."
   ]
  },
  {
   "cell_type": "code",
   "execution_count": 66,
   "id": "a74a03bb-691b-48e0-8ce5-f7d14a21fe5f",
   "metadata": {},
   "outputs": [],
   "source": [
    "class BouncyBall:\n",
    " \n",
    "    def __init__(self, price, size, brand):\n",
    "        self._price = price \n",
    "        self._size = size \n",
    "        self._brand = brand\n",
    "\n",
    "    @property\n",
    "    def price(self):\n",
    "        return self._price\n",
    "\n",
    "    @property\n",
    "    def size(self):\n",
    "        return self._size\n",
    "\n",
    "    @property\n",
    "    def brand(self):\n",
    "        return self._brand\n",
    "\n",
    "    @price.setter\n",
    "    def price(self, price):\n",
    "        if isinstance(price, float):\n",
    "            self._price = round(price,2)\n",
    "        else:\n",
    "            print(\"please enter a valid price\")\n",
    "\n",
    "    @size.setter\n",
    "    def price(self, size):\n",
    "        if isinstance(size, float) and size > 0:\n",
    "            self._price = size\n",
    "        else:\n",
    "            print(\"please enter a valid size\")\n",
    "\n",
    "    @price.setter\n",
    "    def price(self, brand):\n",
    "        if isinstance(brand, string):\n",
    "            self._price = brand\n",
    "        else:\n",
    "            print(\"please enter an alphabetic brandname\")\n"
   ]
  },
  {
   "cell_type": "markdown",
   "id": "c2155306-b43e-4521-91c1-60dd62fb33ec",
   "metadata": {},
   "source": [
    "# Methods"
   ]
  },
  {
   "cell_type": "markdown",
   "id": "baa80111-8f4b-4262-98f0-56315b47fba3",
   "metadata": {},
   "source": [
    "### where attributes are the stait of the class, methods are the behavior"
   ]
  },
  {
   "cell_type": "markdown",
   "id": "c60fbcf3-3091-48dd-b46f-7ea94ccd7534",
   "metadata": {},
   "source": [
    "## Instance Methods"
   ]
  },
  {
   "cell_type": "code",
   "execution_count": 78,
   "id": "193af71d-7ad8-435b-8614-311fd7ef9668",
   "metadata": {},
   "outputs": [],
   "source": [
    "class Circle:\n",
    "\n",
    "    def __init__(self, radius):\n",
    "        self.radius = radius\n",
    "\n",
    "    def find_diameter(self):\n",
    "        print(f\"Diameter: {self.radius * 2}\")"
   ]
  },
  {
   "cell_type": "code",
   "execution_count": 79,
   "id": "fb2c0724-06f2-4063-853f-43099bb71279",
   "metadata": {},
   "outputs": [],
   "source": [
    "my_circle = Circle(5)"
   ]
  },
  {
   "cell_type": "code",
   "execution_count": 80,
   "id": "1074e5c9-e6ff-46da-a036-65de8f256220",
   "metadata": {},
   "outputs": [
    {
     "name": "stdout",
     "output_type": "stream",
     "text": [
      "Diameter: 10\n"
     ]
    }
   ],
   "source": [
    "my_circle.find_diameter()"
   ]
  },
  {
   "cell_type": "markdown",
   "id": "ced17a10-7d7a-46b0-992e-fd5c412a4922",
   "metadata": {},
   "source": [
    "----------------------------------------------"
   ]
  },
  {
   "cell_type": "code",
   "execution_count": 103,
   "id": "a84211f3-53a0-478c-84bc-a4999f723c15",
   "metadata": {},
   "outputs": [],
   "source": [
    "class Backpack:\n",
    "\n",
    "    def __init__(self):\n",
    "        self._items = []\n",
    "\n",
    "    @property\n",
    "    def items(self):\n",
    "        return self._items\n",
    "\n",
    "    def add_item(self, item):\n",
    "        if isinstance(item, str):\n",
    "            self._items.append(item)\n",
    "        else:\n",
    "            print(\"Please add a valid item\")\n",
    "\n",
    "    def add_items(self, items):\n",
    "        if isinstance(items, list) and all(isinstance(x, str) for x in items):\n",
    "            self._items.extend(items)\n",
    "    \n",
    "    def remove_item(self, item):\n",
    "        if item in self._items:\n",
    "            self._items.remove(item)\n",
    "            return 1\n",
    "        else:\n",
    "            print(\"Item not currently removable\")\n",
    "            return 0\n",
    "\n",
    "    def alt_add_items(self, items):\n",
    "        if isinstance(items, list) and all(isinstance(x, str) for x in items):\n",
    "            for item in items:\n",
    "                self.add_item(item)\n",
    "    \n",
    "    def has_item(self, item):\n",
    "        return item in self._items\n",
    "\n",
    "    def show_items(self, sorted_list=False):\n",
    "        if sorted_list:\n",
    "            print(sorted(self._items))\n",
    "        else:\n",
    "            print(self._items)"
   ]
  },
  {
   "cell_type": "code",
   "execution_count": 104,
   "id": "bd37473d-ff95-4cdb-80ba-395c6a97b946",
   "metadata": {},
   "outputs": [],
   "source": [
    "my_backpack = Backpack()"
   ]
  },
  {
   "cell_type": "code",
   "execution_count": 105,
   "id": "8b8f2d02-8fc5-4ebd-9a80-8dc0f7955c7e",
   "metadata": {},
   "outputs": [],
   "source": [
    "my_backpack.add_items([\"water bottle\", \"sleeping bag\", \"candy\"])"
   ]
  },
  {
   "cell_type": "code",
   "execution_count": 106,
   "id": "ab91f6cd-db93-4bf6-9285-178e6436efe5",
   "metadata": {},
   "outputs": [
    {
     "name": "stdout",
     "output_type": "stream",
     "text": [
      "not sorted\n",
      "['water bottle', 'sleeping bag', 'candy']\n"
     ]
    }
   ],
   "source": [
    "print(\"not sorted\")\n",
    "my_backpack.show_items()"
   ]
  },
  {
   "cell_type": "code",
   "execution_count": 107,
   "id": "8ea6c175-1a86-4909-86ae-27885604033f",
   "metadata": {},
   "outputs": [],
   "source": [
    "my_backpack.alt_add_items([\"pencils\", \"pens\"])"
   ]
  },
  {
   "cell_type": "code",
   "execution_count": 108,
   "id": "327b17dd-504a-40de-8bcb-b9dce35a6963",
   "metadata": {},
   "outputs": [
    {
     "name": "stdout",
     "output_type": "stream",
     "text": [
      "['candy', 'pencils', 'pens', 'sleeping bag', 'water bottle']\n"
     ]
    }
   ],
   "source": [
    "my_backpack.show_items(True)"
   ]
  },
  {
   "cell_type": "markdown",
   "id": "69fe0ffc-af64-4267-98a1-105a02e7b48d",
   "metadata": {},
   "source": [
    "# Section 8 Mini-Assignment"
   ]
  },
  {
   "cell_type": "code",
   "execution_count": 350,
   "id": "a2be9f83-ddad-4533-9a1b-03963a722be6",
   "metadata": {},
   "outputs": [
    {
     "name": "stdout",
     "output_type": "stream",
     "text": [
      "Item - # - $\n",
      "banana 3 0.98\n",
      "potato 0 1.4\n",
      "orange 3 1.99\n",
      "brick 0 0.1\n",
      "subtotal $8.91\n",
      "Total: $9.36\n",
      "Items in cart\n",
      "banana\n",
      "orange\n",
      "\n",
      "        Cart has been emptied\n"
     ]
    }
   ],
   "source": [
    "class CashRegister:\n",
    "\n",
    "    def __init__(self):\n",
    "        self._items = {} #product is key, count/price tuple?\n",
    "\n",
    "    def add_product(self, product, count=1):\n",
    "        if isinstance(product, str):\n",
    "            if isinstance(count, float) or isinstance(count, int): #float for lbs or kg\n",
    "                self._items[product] = (count, 0.0)\n",
    "            else:\n",
    "                print(\"Please enter a valid unit of measurement\")\n",
    "        else:\n",
    "            print(\"Product names must be alphanumeric.\")\n",
    "\n",
    "    def remove_product(self, product, count=1):\n",
    "        if product in self._items.keys():\n",
    "            new_count = max((self._items[product][0]) - count,0)\n",
    "            price = self._items[product][1]\n",
    "            self._items[product] = (new_count, price)\n",
    "        else:\n",
    "            print(\"product is not in cart\")\n",
    "\n",
    "    def set_price(self, product, price):\n",
    "        if isinstance(product, str):\n",
    "            if product in self._items.keys():\n",
    "                self._items[product] = (self._items[product][0], price)\n",
    "\n",
    "            else:\n",
    "                self._items[product] = (0,price)\n",
    "        else:\n",
    "            print(\"product must be alphanumeric\")\n",
    "\n",
    "    def subtotal(self):\n",
    "        cost = 0.0\n",
    "        print(\"Item - # - $\")\n",
    "        \n",
    "        for product in self._items.keys():\n",
    "            cost += self._items[product][0]*self._items[product][1]\n",
    "            print(f\"{product} {self._items[product][0]} {self._items[product][1]}\")\n",
    "        \n",
    "        print(f\"subtotal ${cost}\")\n",
    "        print(f\"Total: ${round(cost*1.05,2)}\")\n",
    "\n",
    "    def get_cart(self):\n",
    "        print(\"Items in cart\")\n",
    "        for x in self._items:\n",
    "            if self._items[x][0]>0:\n",
    "                print(x)\n",
    "\n",
    "    def clear_cart(self):\n",
    "        self._items = {}\n",
    "        print(\"\"\"\n",
    "        Cart has been emptied\"\"\")\n",
    "\n",
    "my_purchase = CashRegister()\n",
    "\n",
    "my_purchase.add_product('banana', 5)\n",
    "my_purchase.add_product('potato', 4)\n",
    "my_purchase.add_product('orange', 3)\n",
    "\n",
    "my_purchase.remove_product('banana', 2)\n",
    "my_purchase.remove_product('potato', 20)\n",
    "\n",
    "my_purchase.set_price('banana', .98)\n",
    "my_purchase.set_price('potato', 1.4)\n",
    "my_purchase.set_price('orange', 1.99)\n",
    "my_purchase.set_price('brick', 0.1)\n",
    "\n",
    "my_purchase.subtotal()\n",
    "\n",
    "my_purchase.get_cart()\n",
    "\n",
    "my_purchase.clear_cart()"
   ]
  },
  {
   "cell_type": "code",
   "execution_count": 326,
   "id": "d5544535-e619-4bf1-a9ee-cf71532b843c",
   "metadata": {},
   "outputs": [],
   "source": [
    "my_purchase = CashRegister()"
   ]
  },
  {
   "cell_type": "code",
   "execution_count": 327,
   "id": "8a83e362-34bc-43e4-a19d-54b0d3b0b85b",
   "metadata": {},
   "outputs": [
    {
     "name": "stdout",
     "output_type": "stream",
     "text": [
      "{'banana': (2, 0.0)}\n"
     ]
    }
   ],
   "source": [
    "my_purchase.add_product('banana',2)"
   ]
  },
  {
   "cell_type": "code",
   "execution_count": 328,
   "id": "7cfe38ce-0a4c-4397-901e-80215bb74c14",
   "metadata": {},
   "outputs": [
    {
     "name": "stdout",
     "output_type": "stream",
     "text": [
      "{'banana': (2, 0.0), 'potatoe': (5, 0.0)}\n"
     ]
    }
   ],
   "source": [
    "my_purchase.add_product('potatoe',5)"
   ]
  },
  {
   "cell_type": "code",
   "execution_count": 329,
   "id": "7c00a862-011a-4d1a-b6ac-54a0738bf55c",
   "metadata": {},
   "outputs": [
    {
     "data": {
      "text/plain": [
       "{'banana': (1, 0.0), 'potatoe': (5, 0.0)}"
      ]
     },
     "execution_count": 329,
     "metadata": {},
     "output_type": "execute_result"
    }
   ],
   "source": [
    "my_purchase.remove_product(\"banana\",1)"
   ]
  },
  {
   "cell_type": "code",
   "execution_count": 330,
   "id": "def4ead5-b096-465b-a6a3-5a9cec7c0d0d",
   "metadata": {},
   "outputs": [
    {
     "data": {
      "text/plain": [
       "(1, 0.99)"
      ]
     },
     "execution_count": 330,
     "metadata": {},
     "output_type": "execute_result"
    }
   ],
   "source": [
    "my_purchase.set_price('banana', .99)"
   ]
  },
  {
   "cell_type": "code",
   "execution_count": 331,
   "id": "e720463a-6ae8-4a5e-affd-a211efc35afc",
   "metadata": {},
   "outputs": [
    {
     "name": "stdout",
     "output_type": "stream",
     "text": [
      "I # $\n",
      "potatoe 5 0.0\n",
      "subtotal 0.99\n",
      "Total: 1.0395\n"
     ]
    }
   ],
   "source": [
    "my_purchase.subtotal()"
   ]
  },
  {
   "cell_type": "markdown",
   "id": "de2362ca-4c8e-4298-a5b7-051278987a48",
   "metadata": {},
   "source": [
    "# Section 9: dice roll game"
   ]
  },
  {
   "cell_type": "markdown",
   "id": "0e351e92-3f10-4808-96c8-a1beb8905216",
   "metadata": {},
   "source": [
    "9.1 aggregation"
   ]
  },
  {
   "cell_type": "code",
   "execution_count": null,
   "id": "212909b8-35e9-4862-9aa8-5ea7d5bb2be9",
   "metadata": {},
   "outputs": [],
   "source": []
  }
 ],
 "metadata": {
  "kernelspec": {
   "display_name": "Python 3 (ipykernel)",
   "language": "python",
   "name": "python3"
  },
  "language_info": {
   "codemirror_mode": {
    "name": "ipython",
    "version": 3
   },
   "file_extension": ".py",
   "mimetype": "text/x-python",
   "name": "python",
   "nbconvert_exporter": "python",
   "pygments_lexer": "ipython3",
   "version": "3.11.7"
  }
 },
 "nbformat": 4,
 "nbformat_minor": 5
}
