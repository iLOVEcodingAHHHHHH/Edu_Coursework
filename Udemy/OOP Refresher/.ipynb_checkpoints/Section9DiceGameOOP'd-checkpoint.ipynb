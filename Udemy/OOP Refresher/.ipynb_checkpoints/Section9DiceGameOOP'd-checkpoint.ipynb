{
 "cells": [
  {
   "cell_type": "code",
   "execution_count": 1,
   "id": "3621835e-7de9-4759-9661-86890ec1b7bf",
   "metadata": {},
   "outputs": [],
   "source": [
    "import random"
   ]
  },
  {
   "cell_type": "code",
   "execution_count": 2,
   "id": "6363bcff-c3e9-4d6f-b25b-5e89d9fe5066",
   "metadata": {},
   "outputs": [],
   "source": [
    "class Die:\n",
    "\n",
    "    def __init__(self, num_sides=6):\n",
    "        if isinstance(num_sides, int) and num_sides > 1:\n",
    "            self._num_sides = num_sides\n",
    "            self._value = None\n",
    "        else:\n",
    "            print(\"please enter a valid number of sides\")\n",
    "\n",
    "    @property\n",
    "    def value(self):\n",
    "        return self._value \n",
    "\n",
    "    def roll(self):\n",
    "        new_value = random.randint(1,self._num_sides)\n",
    "        self._value = new_value\n",
    "        return new_value\n"
   ]
  },
  {
   "cell_type": "code",
   "execution_count": 3,
   "id": "1f20334b-3a6c-4831-9463-4596d55cc2e5",
   "metadata": {},
   "outputs": [],
   "source": [
    "class Player:\n",
    "\n",
    "    def __init__(self, die, is_computer=False):\n",
    "        self._counter = 10\n",
    "        self._die = die\n",
    "        self._is_computer = is_computer\n",
    "\n",
    "    @property\n",
    "    def die(self):\n",
    "        return self.die\n",
    "\n",
    "    @property\n",
    "    def is_computer(self):\n",
    "        return self.is_computer\n",
    "\n",
    "    @property\n",
    "    def counter(self):\n",
    "        return self.counter\n",
    "    \n",
    "    def decrement_counter(self):\n",
    "        self.counter -= 1\n",
    "\n",
    "    def increment_counter(self):\n",
    "        self.counter += 1\n",
    "\n",
    "    def roll_die(self):\n",
    "        return self._die.roll()"
   ]
  },
  {
   "cell_type": "code",
   "execution_count": 4,
   "id": "622a8d04-b516-49b5-91b6-872eeb41aaf5",
   "metadata": {},
   "outputs": [],
   "source": [
    "class DiceGame:\n",
    "\n",
    "    def __init__(self, player, computer):\n",
    "        player = player\n",
    "        computer = computer"
   ]
  },
  {
   "cell_type": "code",
   "execution_count": 5,
   "id": "47bff2e7-21de-437f-9e2c-a0e55e12fd31",
   "metadata": {},
   "outputs": [],
   "source": [
    "my_die = Die()"
   ]
  },
  {
   "cell_type": "code",
   "execution_count": 6,
   "id": "4a032e67-42a1-47e9-920a-f856522b0860",
   "metadata": {},
   "outputs": [],
   "source": [
    "my_player = Player(my_die, True)"
   ]
  },
  {
   "cell_type": "code",
   "execution_count": 7,
   "id": "aed75d51-3b98-4247-a9d4-38f9a3ec8c21",
   "metadata": {},
   "outputs": [
    {
     "name": "stdout",
     "output_type": "stream",
     "text": [
      "<__main__.Player object at 0x00000173124D8690>\n"
     ]
    }
   ],
   "source": [
    "print(my_player)"
   ]
  },
  {
   "cell_type": "code",
   "execution_count": null,
   "id": "a6d24ab4-1509-4ecf-a38b-a6c162b22617",
   "metadata": {},
   "outputs": [],
   "source": [
    "print(my_player.die)"
   ]
  },
  {
   "cell_type": "code",
   "execution_count": null,
   "id": "768da39b-c6b1-4fb8-84da-a4eda50f59f6",
   "metadata": {},
   "outputs": [],
   "source": []
  }
 ],
 "metadata": {
  "kernelspec": {
   "display_name": "Python 3 (ipykernel)",
   "language": "python",
   "name": "python3"
  },
  "language_info": {
   "codemirror_mode": {
    "name": "ipython",
    "version": 3
   },
   "file_extension": ".py",
   "mimetype": "text/x-python",
   "name": "python",
   "nbconvert_exporter": "python",
   "pygments_lexer": "ipython3",
   "version": "3.11.7"
  }
 },
 "nbformat": 4,
 "nbformat_minor": 5
}
