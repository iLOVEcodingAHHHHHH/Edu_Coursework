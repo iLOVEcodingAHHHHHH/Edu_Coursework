{
 "cells": [
  {
   "cell_type": "markdown",
   "id": "a9d17d37-372e-48d1-be80-d51250e8246c",
   "metadata": {},
   "source": [
    "# Section 10 memory refs:"
   ]
  },
  {
   "cell_type": "markdown",
   "id": "7b17c3f6-cb4c-4c14-8176-6d2a3c12c637",
   "metadata": {},
   "source": [
    "id(object) returns its memory address (constant for objects lifetime"
   ]
  },
  {
   "cell_type": "code",
   "execution_count": 2,
   "id": "b0f09abc-46c9-4793-9be9-0651b7d0a1c8",
   "metadata": {},
   "outputs": [],
   "source": [
    "class Backpack:\n",
    "\n",
    "    def __init__(self):\n",
    "        self._items = []\n",
    "\n",
    "    @property\n",
    "    def items(self):\n",
    "        return self._items"
   ]
  },
  {
   "cell_type": "code",
   "execution_count": 5,
   "id": "30b3027b-15ff-4d0a-a62d-80956e15ae75",
   "metadata": {},
   "outputs": [],
   "source": [
    "my_backpack = Backpack()\n",
    "your_backpack = Backpack"
   ]
  },
  {
   "cell_type": "code",
   "execution_count": 6,
   "id": "5361fbab-a6db-4447-abac-090f77266a69",
   "metadata": {},
   "outputs": [
    {
     "name": "stdout",
     "output_type": "stream",
     "text": [
      "2757041722512\n",
      "2757062478224\n"
     ]
    }
   ],
   "source": [
    "print(id(your_backpack))\n",
    "print(id(my_backpack))"
   ]
  },
  {
   "cell_type": "code",
   "execution_count": 7,
   "id": "659fe409-ced4-4aff-ba19-746840b153b1",
   "metadata": {},
   "outputs": [],
   "source": [
    "a = 2000\n",
    "b = 2000"
   ]
  },
  {
   "cell_type": "code",
   "execution_count": 9,
   "id": "d102cf4f-eac0-45f1-8bb0-ef1dba32b913",
   "metadata": {},
   "outputs": [
    {
     "data": {
      "text/plain": [
       "False"
      ]
     },
     "execution_count": 9,
     "metadata": {},
     "output_type": "execute_result"
    }
   ],
   "source": [
    "a is b #pycharm optimizes memory automatically"
   ]
  },
  {
   "cell_type": "code",
   "execution_count": 12,
   "id": "6bf084b1-1f90-4756-9724-0f371f0aeae4",
   "metadata": {},
   "outputs": [
    {
     "data": {
      "text/plain": [
       "True"
      ]
     },
     "execution_count": 12,
     "metadata": {},
     "output_type": "execute_result"
    }
   ],
   "source": [
    "a = \"hi\"\n",
    "b = \"hi\"\n",
    "a is b #since strings are imutable, a single object is referenced multiple times\n",
    "#the string obj never changes"
   ]
  },
  {
   "cell_type": "markdown",
   "id": "f8a292a2-bd34-40b7-97dd-f9e6c6d769a6",
   "metadata": {},
   "source": [
    "# S11 - mutating, alias, clone"
   ]
  },
  {
   "cell_type": "markdown",
   "id": "2087d925-8480-4789-81a2-247d3e0fc568",
   "metadata": {},
   "source": [
    "## quiz only"
   ]
  },
  {
   "cell_type": "markdown",
   "id": "f7b59061-7557-4c2d-9946-74a7c89e4a25",
   "metadata": {},
   "source": [
    "q.a: Mutation effects objects that are clones and aliases differently, a mutation to an object will effect all alias(es?) as they are only references to an object in the memory.  When an object is cloned, a similar object (almost identical) is created but with a new id().  This new object can mutate independently of similar objects with identical values."
   ]
  },
  {
   "cell_type": "markdown",
   "id": "67e4dd91-3edb-44c4-b53e-007b589ea1dd",
   "metadata": {},
   "source": [
    "q.b: With your knowledge of aliasing, mutation, and cloning, modify the functions in the following program so that the original list is not mutated."
   ]
  },
  {
   "cell_type": "code",
   "execution_count": 8,
   "id": "285ec55b-a1a8-44d3-9c81-36181af69c2f",
   "metadata": {},
   "outputs": [
    {
     "name": "stdout",
     "output_type": "stream",
     "text": [
      "9144576\n",
      "[7, 3, 6, 8, 2, 3, 7, 2, 6, 3, 6]\n"
     ]
    }
   ],
   "source": [
    "import copy\n",
    "\n",
    "a = [7, 3, 6, 8, 2, 3, 7, 2, 6, 3, 6]\n",
    "b = a\n",
    "c = b\n",
    "b = c\n",
    " \n",
    "def remove_i(data, target):\n",
    "    new_data = data.copy()\n",
    "    \n",
    "    for item in data:\n",
    "        if item == target:\n",
    "            new_data.remove(target)\n",
    "    return data\n",
    " \n",
    "def get_product(data):\n",
    "    total = 1\n",
    "    for i in range(len(data)):\n",
    "        total *= data[i]\n",
    "    return total\n",
    " \n",
    "remove_i(c, 3)\n",
    "print(get_product(b))\n",
    "print(a)"
   ]
  },
  {
   "cell_type": "markdown",
   "id": "4c053961-2c72-4ba4-bd5b-ccbc72a583c1",
   "metadata": {},
   "source": [
    "#"
   ]
  },
  {
   "cell_type": "markdown",
   "id": "77d28777-bb13-4e72-a41b-35db14dca482",
   "metadata": {},
   "source": [
    "# Section 13 Inheritance"
   ]
  },
  {
   "cell_type": "markdown",
   "id": "ce7929ba-fdb8-4d3f-87c4-05e772cbd70c",
   "metadata": {},
   "source": [
    "You will learn:\n",
    "\n",
    "The concept of inheritance and why it is helpful to create hierarchies with our classes.\n",
    "\n",
    "How to implement a class hierarchy in Python.\n",
    "\n",
    "How to define a class that inherits the attributes of another class.\n",
    "\n",
    "The concepts of multilevel inheritance and multiple inheritance and their differences."
   ]
  },
  {
   "cell_type": "code",
   "execution_count": 3,
   "id": "d7f5e569-d4c2-4649-b35a-6764420a68f5",
   "metadata": {},
   "outputs": [],
   "source": [
    "class Polygon:\n",
    "\n",
    "    def __init__(self, num_sides, color):\n",
    "        self.num_sides = num_sides\n",
    "        self.color = color\n",
    "\n",
    "class Triangle(Polygon):  # a child class without an init method will pull attributes from it's parent\n",
    "    pass\n",
    "\n",
    "class Square(Polygon):\n",
    "    pass"
   ]
  },
  {
   "cell_type": "code",
   "execution_count": 10,
   "id": "ab9b3b7c-69cd-4e97-939a-7427f00496f5",
   "metadata": {},
   "outputs": [],
   "source": [
    "my_triangle = Triangle(3, \"Blue\")"
   ]
  },
  {
   "cell_type": "code",
   "execution_count": 11,
   "id": "50719c2b-67f8-407a-9db1-50126aa2972a",
   "metadata": {},
   "outputs": [
    {
     "ename": "AttributeError",
     "evalue": "'Triangle' object has no attribute 'num_sides'",
     "output_type": "error",
     "traceback": [
      "\u001b[1;31m---------------------------------------------------------------------------\u001b[0m",
      "\u001b[1;31mAttributeError\u001b[0m                            Traceback (most recent call last)",
      "Cell \u001b[1;32mIn[11], line 1\u001b[0m\n\u001b[1;32m----> 1\u001b[0m \u001b[38;5;28mprint\u001b[39m(my_triangle\u001b[38;5;241m.\u001b[39mnum_sides)\n\u001b[0;32m      2\u001b[0m \u001b[38;5;28mprint\u001b[39m(my_triangle\u001b[38;5;241m.\u001b[39mcolor)\n",
      "\u001b[1;31mAttributeError\u001b[0m: 'Triangle' object has no attribute 'num_sides'"
     ]
    }
   ],
   "source": [
    "print(my_triangle.num_sides)\n",
    "print(my_triangle.color)"
   ]
  },
  {
   "cell_type": "code",
   "execution_count": 13,
   "id": "c8bcc43c-1082-4525-a53b-944b523ae391",
   "metadata": {},
   "outputs": [],
   "source": [
    "class Polygon:\n",
    "\n",
    "    def __init__(self, num_sides, color):\n",
    "        self.num_sides = num_sides\n",
    "        self.color = color\n",
    "\n",
    "class Triangle(Polygon):  # when a child class has an init method attributes must be assigned explicitly\n",
    "    \n",
    "    NUM_SIDES = 3\n",
    "    \n",
    "    def __init__(self, base, height, color): #  example demonstrates that a parent arguement must be included in the init method of the child \n",
    "        Polygon.__init__(self, Triangle.NUM_SIDES, color)\n",
    "        self.base = base\n",
    "        self.height = height\n",
    "    \n",
    "\n",
    "class Square(Polygon):\n",
    "    pass"
   ]
  },
  {
   "cell_type": "code",
   "execution_count": 14,
   "id": "847e9522-3c59-4fa7-8aea-19d8c6e05747",
   "metadata": {},
   "outputs": [],
   "source": [
    "my_triangle = Triangle(5, 4, \"Blue\")"
   ]
  },
  {
   "cell_type": "code",
   "execution_count": 2,
   "id": "3307f266-eb38-43e8-9fcb-99203c44ee91",
   "metadata": {},
   "outputs": [],
   "source": [
    "class Employee:\n",
    "\n",
    "    def __init__(self, full_name, salary):\n",
    "        self.full_name = full_name\n",
    "        self.salary = salary\n",
    "\n",
    "class Programmer(Employee):\n",
    "\n",
    "    def __init__(self, full_name, salary, programming_language):\n",
    "        Employee.__init__(self, full_name, salary) \n",
    "        self.programming_language = programming_language\n",
    "\n",
    "nick = Programmer(\"Nick Askew\", 60000, \"Python\")"
   ]
  },
  {
   "cell_type": "code",
   "execution_count": 4,
   "id": "7b9a7a11-4ad0-4a33-84bc-74b9658f5cb0",
   "metadata": {},
   "outputs": [
    {
     "name": "stdout",
     "output_type": "stream",
     "text": [
      "Nick Askew\n"
     ]
    }
   ],
   "source": [
    "print(nick.full_name)"
   ]
  },
  {
   "cell_type": "code",
   "execution_count": 8,
   "id": "37e66430-f2c6-4b63-9666-6791666b05e8",
   "metadata": {},
   "outputs": [],
   "source": [
    "class Character:\n",
    "\n",
    "    def __init__(self, x, y, num_lives):    \n",
    "        self.x = x\n",
    "        self.y = y\n",
    "        self.num_lives = num_lives\n",
    "\n",
    "class Player(Character):\n",
    "\n",
    "    INITIAL_X = 0\n",
    "    INITIAL_Y = 0\n",
    "    INITIAL_NUM_LIVES = 10\n",
    "    \n",
    "    def __init__(self, score=0):\n",
    "        Character.__init__(self, Player.INITIAL_X, Player.INITIAL_Y, Player.INITIAL_NUM_LIVES)\n",
    "\n",
    "class Enemy(Character):\n",
    "\n",
    "    def __init__(self, x=15, y=15, num_lives=8, is_poisonous=False):\n",
    "        Character.__init__(self, x, y, num_lives)\n",
    "        self.is_poisonous = is_poisonous"
   ]
  },
  {
   "cell_type": "code",
   "execution_count": 9,
   "id": "8da74f8d-5d9e-46a7-b381-21b6e1370429",
   "metadata": {},
   "outputs": [],
   "source": [
    "my_player = Player()"
   ]
  },
  {
   "cell_type": "code",
   "execution_count": 10,
   "id": "e8c43f7d-87dc-4351-96e4-b6e369e5efe0",
   "metadata": {},
   "outputs": [
    {
     "name": "stdout",
     "output_type": "stream",
     "text": [
      "0\n"
     ]
    }
   ],
   "source": [
    "print(my_player.x)"
   ]
  },
  {
   "cell_type": "code",
   "execution_count": 11,
   "id": "4a410e37-0c48-4f3b-b3b6-5596301558fe",
   "metadata": {},
   "outputs": [],
   "source": [
    "easy_enemy = Enemy(num_lives=1)"
   ]
  },
  {
   "cell_type": "code",
   "execution_count": 12,
   "id": "b2af8940-f6b6-4e36-8998-4a6823a645ef",
   "metadata": {},
   "outputs": [],
   "source": [
    "hard_enemy = Enemy(num_lives=56, is_poisonous=True)"
   ]
  },
  {
   "cell_type": "code",
   "execution_count": 14,
   "id": "d7947461-e26e-42a0-84b9-b8fc278f3235",
   "metadata": {},
   "outputs": [
    {
     "name": "stdout",
     "output_type": "stream",
     "text": [
      "Poisonous: True\n",
      "15\n",
      "15\n",
      "56\n"
     ]
    }
   ],
   "source": [
    "print(f\"Poisonous: {hard_enemy.is_poisonous}\")\n",
    "print(hard_enemy.x)\n",
    "print(hard_enemy.y)\n",
    "print(hard_enemy.num_lives)"
   ]
  },
  {
   "cell_type": "code",
   "execution_count": 46,
   "id": "91327418-4928-45e7-9bdf-0fdf4e7709ab",
   "metadata": {},
   "outputs": [],
   "source": [
    "class ElectronicDevice:\n",
    "\n",
    "    def __init__(self, weight, color, is_battery_operated=False):\n",
    "        self.weight = weight\n",
    "        self.color = color\n",
    "        self.is_battery_operated = is_battery_operated\n",
    "\n",
    "\n",
    "class Computer(ElectronicDevice):\n",
    "    \n",
    "    def __init__(self, MHZ, GPU, VRAM):\n",
    "        ElectronicDevice.__init__(self, weight, color)\n",
    "        self.MHZ = MHZ\n",
    "        self.GPU = GPU\n",
    "        self.VRAM = VRAM"
   ]
  },
  {
   "cell_type": "code",
   "execution_count": 48,
   "id": "b5e080cd-f712-404a-a092-d0a040e06318",
   "metadata": {},
   "outputs": [
    {
     "ename": "NameError",
     "evalue": "name 'weight' is not defined",
     "output_type": "error",
     "traceback": [
      "\u001b[1;31m---------------------------------------------------------------------------\u001b[0m",
      "\u001b[1;31mNameError\u001b[0m                                 Traceback (most recent call last)",
      "Cell \u001b[1;32mIn[48], line 1\u001b[0m\n\u001b[1;32m----> 1\u001b[0m my_device \u001b[38;5;241m=\u001b[39m Computer(\u001b[38;5;241m100\u001b[39m,\u001b[38;5;241m100\u001b[39m,\u001b[38;5;241m8\u001b[39m)\n",
      "Cell \u001b[1;32mIn[46], line 12\u001b[0m, in \u001b[0;36mComputer.__init__\u001b[1;34m(self, MHZ, GPU, VRAM)\u001b[0m\n\u001b[0;32m     11\u001b[0m \u001b[38;5;28;01mdef\u001b[39;00m \u001b[38;5;21m__init__\u001b[39m(\u001b[38;5;28mself\u001b[39m, MHZ, GPU, VRAM):\n\u001b[1;32m---> 12\u001b[0m     ElectronicDevice\u001b[38;5;241m.\u001b[39m\u001b[38;5;21m__init__\u001b[39m(\u001b[38;5;28mself\u001b[39m, weight, color)\n\u001b[0;32m     13\u001b[0m     \u001b[38;5;28mself\u001b[39m\u001b[38;5;241m.\u001b[39mMHZ \u001b[38;5;241m=\u001b[39m MHZ\n\u001b[0;32m     14\u001b[0m     \u001b[38;5;28mself\u001b[39m\u001b[38;5;241m.\u001b[39mGPU \u001b[38;5;241m=\u001b[39m GPU\n",
      "\u001b[1;31mNameError\u001b[0m: name 'weight' is not defined"
     ]
    }
   ],
   "source": [
    "my_device = Computer(100,100,8)"
   ]
  },
  {
   "cell_type": "code",
   "execution_count": 49,
   "id": "b70b3a11-bec7-48bf-9934-a438a964ec2c",
   "metadata": {},
   "outputs": [
    {
     "name": "stdout",
     "output_type": "stream",
     "text": [
      "False\n"
     ]
    }
   ],
   "source": [
    "print(my_device.is_battery_operated)"
   ]
  },
  {
   "cell_type": "code",
   "execution_count": 38,
   "id": "03393d0f-575d-437f-9512-dc49f79bcec9",
   "metadata": {},
   "outputs": [],
   "source": [
    "class Character:\n",
    "\n",
    "    def __init__(self, x, y, num_lives):    \n",
    "        self.x = x\n",
    "        self.y = y\n",
    "        self.num_lives = num_lives\n",
    "\n",
    "class Player(Character):\n",
    "\n",
    "    INITIAL_X = 0\n",
    "    INITIAL_Y = 0\n",
    "    INITIAL_NUM_LIVES = 10\n",
    "    \n",
    "    def __init__(self, score=0):\n",
    "        Character.__init__(self, Player.INITIAL_X, Player.INITIAL_Y, Player.INITIAL_NUM_LIVES)\n",
    "\n",
    "class Enemy(Character):\n",
    "\n",
    "    def __init__(self, x=15, y=15, num_lives=8, is_poisonous=False):\n",
    "        Character.__init__(self, x, y, num_lives)\n",
    "        self.is_poisonous = is_poisonous"
   ]
  },
  {
   "cell_type": "code",
   "execution_count": null,
   "id": "c069db03-3d7f-41bf-bc01-287000c93f2b",
   "metadata": {},
   "outputs": [],
   "source": []
  }
 ],
 "metadata": {
  "kernelspec": {
   "display_name": "Python 3 (ipykernel)",
   "language": "python",
   "name": "python3"
  },
  "language_info": {
   "codemirror_mode": {
    "name": "ipython",
    "version": 3
   },
   "file_extension": ".py",
   "mimetype": "text/x-python",
   "name": "python",
   "nbconvert_exporter": "python",
   "pygments_lexer": "ipython3",
   "version": "3.11.7"
  }
 },
 "nbformat": 4,
 "nbformat_minor": 5
}
