{
 "cells": [
  {
   "cell_type": "code",
   "execution_count": 1,
   "id": "eae00dac-3058-423f-98ec-ed3d00c5aeba",
   "metadata": {},
   "outputs": [],
   "source": [
    "import collections\n",
    "\n",
    "Card = collections.namedtuple('Card', ['rank', 'suit'])\n",
    "\n",
    "class FrenchDeck:\n",
    "    ranks = [str(n) for n in range(2, 11)] + list('JQKA')\n",
    "    suits = 'spades diamonds clubs hearts'.split()\n",
    "\n",
    "    def __init__(self):\n",
    "        self._cards = [Card(rank, suit) for suit in self.suits\n",
    "                                        for rank in self.ranks]\n",
    "\n",
    "    def __len__(self):\n",
    "        return len(self._cards)\n",
    "\n",
    "    def __getitem__(self, position):\n",
    "        return self._cards[position]"
   ]
  },
  {
   "cell_type": "code",
   "execution_count": 2,
   "id": "ea379e7a-534c-4c90-aa4e-8ee0dc2eebc2",
   "metadata": {},
   "outputs": [],
   "source": [
    "test = FrenchDeck()"
   ]
  },
  {
   "cell_type": "code",
   "execution_count": 3,
   "id": "5307b77a-ec9f-4a63-9431-4fde6a268f1e",
   "metadata": {},
   "outputs": [
    {
     "data": {
      "text/plain": [
       "['spades', 'diamonds', 'clubs', 'hearts']"
      ]
     },
     "execution_count": 3,
     "metadata": {},
     "output_type": "execute_result"
    }
   ],
   "source": [
    "test.suits"
   ]
  },
  {
   "cell_type": "code",
   "execution_count": 4,
   "id": "62d395ca-f74f-4a3d-8178-a4bfd6eae2f4",
   "metadata": {},
   "outputs": [
    {
     "ename": "TypeError",
     "evalue": "list indices must be integers or slices, not str",
     "output_type": "error",
     "traceback": [
      "\u001b[1;31m---------------------------------------------------------------------------\u001b[0m",
      "\u001b[1;31mTypeError\u001b[0m                                 Traceback (most recent call last)",
      "Cell \u001b[1;32mIn[4], line 1\u001b[0m\n\u001b[1;32m----> 1\u001b[0m test[\u001b[38;5;124m'\u001b[39m\u001b[38;5;124msuits\u001b[39m\u001b[38;5;124m'\u001b[39m]\n",
      "Cell \u001b[1;32mIn[1], line 17\u001b[0m, in \u001b[0;36mFrenchDeck.__getitem__\u001b[1;34m(self, position)\u001b[0m\n\u001b[0;32m     16\u001b[0m \u001b[38;5;28;01mdef\u001b[39;00m \u001b[38;5;21m__getitem__\u001b[39m(\u001b[38;5;28mself\u001b[39m, position):\n\u001b[1;32m---> 17\u001b[0m     \u001b[38;5;28;01mreturn\u001b[39;00m \u001b[38;5;28mself\u001b[39m\u001b[38;5;241m.\u001b[39m_cards[position]\n",
      "\u001b[1;31mTypeError\u001b[0m: list indices must be integers or slices, not str"
     ]
    }
   ],
   "source": [
    "test['suits']"
   ]
  },
  {
   "cell_type": "code",
   "execution_count": 5,
   "id": "2f4fc0f4-808b-4bd5-aa44-b46057155eb0",
   "metadata": {},
   "outputs": [
    {
     "data": {
      "text/plain": [
       "True"
      ]
     },
     "execution_count": 5,
     "metadata": {},
     "output_type": "execute_result"
    }
   ],
   "source": [
    "bool(True or False)"
   ]
  },
  {
   "cell_type": "code",
   "execution_count": 6,
   "id": "55459c4c-72d6-4dc4-8c09-a0b09bec97c2",
   "metadata": {},
   "outputs": [
    {
     "data": {
      "text/plain": [
       "False"
      ]
     },
     "execution_count": 6,
     "metadata": {},
     "output_type": "execute_result"
    }
   ],
   "source": [
    "bool(0 or 0)"
   ]
  },
  {
   "cell_type": "code",
   "execution_count": 7,
   "id": "45eb6b63-da7c-40d5-ad7a-1863029554d5",
   "metadata": {},
   "outputs": [
    {
     "data": {
      "text/plain": [
       "True"
      ]
     },
     "execution_count": 7,
     "metadata": {},
     "output_type": "execute_result"
    }
   ],
   "source": [
    "bool(1 or 3)"
   ]
  },
  {
   "cell_type": "code",
   "execution_count": null,
   "id": "78af96e0-67ec-46e4-8ed9-668265ac957c",
   "metadata": {},
   "outputs": [],
   "source": []
  }
 ],
 "metadata": {
  "kernelspec": {
   "display_name": "Python 3 (ipykernel)",
   "language": "python",
   "name": "python3"
  },
  "language_info": {
   "codemirror_mode": {
    "name": "ipython",
    "version": 3
   },
   "file_extension": ".py",
   "mimetype": "text/x-python",
   "name": "python",
   "nbconvert_exporter": "python",
   "pygments_lexer": "ipython3",
   "version": "3.11.7"
  }
 },
 "nbformat": 4,
 "nbformat_minor": 5
}
