{
 "cells": [
  {
   "cell_type": "code",
   "execution_count": 29,
   "id": "b027c441-cc80-4d55-9c18-336fc5b0be84",
   "metadata": {},
   "outputs": [],
   "source": [
    "import math\n",
    "import pandas as pd\n",
    "import statistics"
   ]
  },
  {
   "cell_type": "code",
   "execution_count": 6,
   "id": "b28e93f9-acdd-49fa-ba53-b0e2c2973b7a",
   "metadata": {},
   "outputs": [
    {
     "name": "stdout",
     "output_type": "stream",
     "text": [
      "[269, 329, 369, 459, 479, 649, 799]\n"
     ]
    }
   ],
   "source": [
    "print(x)"
   ]
  },
  {
   "cell_type": "markdown",
   "id": "27ea34cd-5a16-4a11-a947-565d32c332f1",
   "metadata": {},
   "source": [
    "### std.dev formula"
   ]
  },
  {
   "cell_type": "markdown",
   "id": "11b2fdb1-1054-4d3d-9b11-0f87024f3a55",
   "metadata": {},
   "source": [
    "Question 1:\n",
    "You just got hired as a manufacturer designer for Apple and are working on the bands for their watches. A band for a watch comes in two pieces, the top piece and the bottom piece, each piece is attached separately to the watch and then joined together when a user puts the watch on their wrist.  The top and bottom pieces are created in batches at a factory owned by FoxConn. A very important factor in creating the bands is to make sure that their lengths of both sides are uniform, otherwise the latching won't work when trying to put it on a wrist. Apple has instituted a quality control check based on the standard deviation of each batch of bands produced.\n",
    "\n",
    "\n",
    "\n",
    "Two batches of top pieces and bottom pieces have just come off the assembly line at FoxConn. Currently Apple's quality controls don't allow for any more than 0.1mm in standard deviation in batches of either the top pieces or the bottom pieces.\n",
    "\n",
    "\n",
    "\n",
    "Here are the measurements for the group of top pieces in mm:\n",
    "\n",
    "[220.1,220.0,220.0,220.2,220.1]\n",
    "\n",
    "\n",
    "\n",
    "Here are the measurements for the group of bottom pieces:\n",
    "\n",
    "[220.1,220.4,220.2,220.0,220.1]\n",
    "\n",
    "\n",
    "\n",
    "Do these batches of top and bottom pieces pass quality control?"
   ]
  },
  {
   "cell_type": "code",
   "execution_count": 37,
   "id": "144f7dac-15d4-4aea-8df7-51824d99244a",
   "metadata": {},
   "outputs": [
    {
     "name": "stdout",
     "output_type": "stream",
     "text": [
      "0.0836660026534028\n",
      "0.0836660026534028\n",
      "0.15165750888103363\n"
     ]
    }
   ],
   "source": [
    "top_sample = [220.1,220.0,220.0,220.2,220.1]\n",
    "btm_sample = [220.1,220.4,220.2,220.0,220.1]\n",
    "\n",
    "def xbarof(sample):\n",
    "    \n",
    "    # (nΣi=1 xi)\n",
    "    x = sum(sample)\n",
    "    n = len(sample)\n",
    "    \n",
    "    # ...x/n = xbar\n",
    "    xbar = x/len(sample)    \n",
    "    return(xbar)\n",
    "    \n",
    "\n",
    "def varof(sample, xbar):\n",
    "    vsample=[]\n",
    "    x = 0\n",
    "    \n",
    "    for i in sample:\n",
    "        vsample.append((i-xbar)**2)\n",
    "\n",
    "    x = sum(vsample)\n",
    "\n",
    "    s2 = (x/(len(sample)-1))\n",
    "    return s2\n",
    "\n",
    "\n",
    "def manual_std(sample):\n",
    "    xbar = xbarof(sample)\n",
    "\n",
    "    s2 = varof(sample,xbar)\n",
    "    print(s2**.5)\n",
    "\n",
    "\n",
    "manual_std(top_sample)\n",
    "print(statistics.stdev(top_sample))\n",
    "manual_std(btm_sample)"
   ]
  },
  {
   "cell_type": "code",
   "execution_count": 18,
   "id": "a14f35ab-78f8-47e9-b03c-cf6996fa26a0",
   "metadata": {},
   "outputs": [
    {
     "name": "stdout",
     "output_type": "stream",
     "text": [
      "1\n",
      "3\n",
      "6\n",
      "10\n",
      "15\n",
      "3.0\n"
     ]
    }
   ],
   "source": [
    "x = [1,2,3,4,5]\n",
    "y = 0\n",
    "m = len(x)\n",
    "for i in x:\n",
    "    y += i\n",
    "    print(y)\n",
    "    \n",
    "print(y/len(x))"
   ]
  },
  {
   "cell_type": "markdown",
   "id": "9ec9576d-46d7-4cd0-85bb-ad4cc01d022a",
   "metadata": {},
   "source": [
    "QUARTILES (median blah blah blah)"
   ]
  },
  {
   "cell_type": "markdown",
   "id": "be975109-50e0-4b19-aed6-689ab1e406b3",
   "metadata": {},
   "source": [
    "Question 1:\n",
    "A business is trying to analyze its sales data from the past year. The data shows the amount of money made from each sale, sorted in ascending order. The business wants to find the three points that divide the dataset into four equal parts, in order to better understand the distribution of its sales. The data in USD is shown below:\n",
    "\n",
    "[10, 12, 15, 18, 20, 21, 22, 24, 25, 27, 28, 30, 32, 35, 38, 40, 42, 45, 50]\n",
    "\n",
    "What is the Interquartile Range for this data set?"
   ]
  },
  {
   "cell_type": "code",
   "execution_count": 38,
   "id": "7fe69880-ecc2-4134-9c7a-7aeee44d0f75",
   "metadata": {},
   "outputs": [],
   "source": [
    "sample = [10, 12, 15, 18, 20, 21, 22, 24, 25, 27, 28, 30, 32, 35, 38, 40, 42, 45, 50]"
   ]
  },
  {
   "cell_type": "code",
   "execution_count": 40,
   "id": "861a3d78-38ae-4360-905c-59e00b4a4644",
   "metadata": {},
   "outputs": [
    {
     "data": {
      "text/plain": [
       "9.5"
      ]
     },
     "execution_count": 40,
     "metadata": {},
     "output_type": "execute_result"
    }
   ],
   "source": [
    "len(sample)/2"
   ]
  },
  {
   "cell_type": "code",
   "execution_count": 44,
   "id": "a37db6c3-2012-4cb0-bc3b-18146e95ad19",
   "metadata": {},
   "outputs": [
    {
     "name": "stdout",
     "output_type": "stream",
     "text": [
      "27\n"
     ]
    }
   ],
   "source": [
    "Q2 = sample[9]\n",
    "print(Q2)"
   ]
  },
  {
   "cell_type": "code",
   "execution_count": 45,
   "id": "f8f92f4b-cbbd-4b01-ab94-64062d0f8fe5",
   "metadata": {},
   "outputs": [],
   "source": [
    "Q1 = sample[4]\n",
    "Q3 = sample[14]"
   ]
  },
  {
   "cell_type": "code",
   "execution_count": 46,
   "id": "413dbaa6-29b6-429c-b638-f4ca38387377",
   "metadata": {},
   "outputs": [
    {
     "name": "stdout",
     "output_type": "stream",
     "text": [
      "18\n"
     ]
    }
   ],
   "source": [
    "print(Q3 - Q1)"
   ]
  },
  {
   "cell_type": "code",
   "execution_count": null,
   "id": "13e47989-aead-4eaf-aa5a-078f907f0596",
   "metadata": {},
   "outputs": [],
   "source": []
  }
 ],
 "metadata": {
  "kernelspec": {
   "display_name": "Python 3 (ipykernel)",
   "language": "python",
   "name": "python3"
  },
  "language_info": {
   "codemirror_mode": {
    "name": "ipython",
    "version": 3
   },
   "file_extension": ".py",
   "mimetype": "text/x-python",
   "name": "python",
   "nbconvert_exporter": "python",
   "pygments_lexer": "ipython3",
   "version": "3.11.7"
  }
 },
 "nbformat": 4,
 "nbformat_minor": 5
}
